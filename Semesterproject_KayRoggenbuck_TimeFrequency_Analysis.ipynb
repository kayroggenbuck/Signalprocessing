{
 "cells": [
  {
   "cell_type": "markdown",
   "metadata": {},
   "source": [
    "# Helper Functions"
   ]
  },
  {
   "cell_type": "code",
   "execution_count": 77,
   "metadata": {},
   "outputs": [],
   "source": [
    "def plot_statistic(to_show, y_scale, ext, title):\n",
    "    plt.title(title)\n",
    "    plt.imshow(to_show, aspect='auto', origin='lower', extent=ext, cmap=cm.RdBu_r)\n",
    "    plt.ylabel('Frequencies [Hz]')\n",
    "    plt.xlabel('time [ms]')\n",
    "    tick_positions = [1,5,10,15,20,25,30,35,40,45,50]\n",
    "    ticks = [round(y_scale[i*2 - 1],2) for i in range(len(y_scale)) if i in tick_positions]\n",
    "    plt.yticks(tick_positions, ticks)\n",
    "    plt.colorbar()\n",
    "    plt.show()"
   ]
  },
  {
   "cell_type": "markdown",
   "metadata": {},
   "source": [
    "# Load Data"
   ]
  },
  {
   "cell_type": "code",
   "execution_count": 78,
   "metadata": {},
   "outputs": [],
   "source": [
    "import osfclient\n",
    "import mne\n",
    "import mne_bids\n",
    "import numpy as np\n",
    "import scipy\n",
    "import ccs_eeg_utils\n",
    "import ccs_eeg_semesterproject\n",
    "import itertools\n",
    "from mne_bids import (BIDSPath,read_raw_bids)\n",
    "from matplotlib import pyplot as plt\n",
    "from importlib import reload \n",
    "from matplotlib import cm\n",
    "\n",
    "from helper_functions import *\n",
    "\n",
    "%matplotlib qt\n",
    "path = \"../local/bidsN170\"\n",
    "temp_path = \"/ses-N170/eeg/\"\n",
    "sub = '001'\n",
    "\n",
    "# INFO, WARNING\n",
    "mne.set_log_level(verbose='INFO')"
   ]
  },
  {
   "cell_type": "code",
   "execution_count": 3,
   "metadata": {},
   "outputs": [],
   "source": [
    "# pip install cmcrameri"
   ]
  },
  {
   "cell_type": "code",
   "execution_count": 4,
   "metadata": {},
   "outputs": [
    {
     "name": "stdout",
     "output_type": "stream",
     "text": [
      "Opening raw data file ../local/bidsN170/sub-001/ses-N170/eeg/sub-001_cleaned.fif...\n",
      "    Read a total of 1 projection items:\n",
      "        Average EEG reference (1 x 30) active\n",
      "    Range : 0 ... 699391 =      0.000 ...   682.999 secs\n",
      "Ready.\n",
      "Used Annotations descriptions: ['response:201', 'response:202', 'stimulus:1', 'stimulus:10', 'stimulus:101', 'stimulus:102', 'stimulus:103', 'stimulus:104', 'stimulus:105', 'stimulus:106', 'stimulus:107', 'stimulus:108', 'stimulus:109', 'stimulus:11', 'stimulus:110', 'stimulus:111', 'stimulus:112', 'stimulus:113', 'stimulus:114', 'stimulus:115', 'stimulus:116', 'stimulus:117', 'stimulus:118', 'stimulus:119', 'stimulus:12', 'stimulus:120', 'stimulus:121', 'stimulus:122', 'stimulus:123', 'stimulus:124', 'stimulus:125', 'stimulus:126', 'stimulus:127', 'stimulus:128', 'stimulus:129', 'stimulus:13', 'stimulus:130', 'stimulus:131', 'stimulus:132', 'stimulus:133', 'stimulus:134', 'stimulus:135', 'stimulus:136', 'stimulus:137', 'stimulus:138', 'stimulus:139', 'stimulus:14', 'stimulus:140', 'stimulus:141', 'stimulus:142', 'stimulus:143', 'stimulus:144', 'stimulus:145', 'stimulus:146', 'stimulus:147', 'stimulus:148', 'stimulus:149', 'stimulus:15', 'stimulus:150', 'stimulus:151', 'stimulus:152', 'stimulus:153', 'stimulus:154', 'stimulus:155', 'stimulus:156', 'stimulus:157', 'stimulus:158', 'stimulus:159', 'stimulus:16', 'stimulus:160', 'stimulus:161', 'stimulus:162', 'stimulus:163', 'stimulus:164', 'stimulus:165', 'stimulus:166', 'stimulus:167', 'stimulus:168', 'stimulus:169', 'stimulus:17', 'stimulus:170', 'stimulus:171', 'stimulus:172', 'stimulus:173', 'stimulus:174', 'stimulus:175', 'stimulus:176', 'stimulus:177', 'stimulus:178', 'stimulus:179', 'stimulus:18', 'stimulus:180', 'stimulus:19', 'stimulus:2', 'stimulus:20', 'stimulus:21', 'stimulus:22', 'stimulus:23', 'stimulus:24', 'stimulus:25', 'stimulus:26', 'stimulus:27', 'stimulus:28', 'stimulus:29', 'stimulus:3', 'stimulus:30', 'stimulus:31', 'stimulus:32', 'stimulus:33', 'stimulus:34', 'stimulus:35', 'stimulus:36', 'stimulus:37', 'stimulus:38', 'stimulus:39', 'stimulus:4', 'stimulus:40', 'stimulus:41', 'stimulus:42', 'stimulus:43', 'stimulus:44', 'stimulus:45', 'stimulus:46', 'stimulus:47', 'stimulus:48', 'stimulus:49', 'stimulus:5', 'stimulus:50', 'stimulus:51', 'stimulus:52', 'stimulus:53', 'stimulus:54', 'stimulus:55', 'stimulus:56', 'stimulus:57', 'stimulus:58', 'stimulus:59', 'stimulus:6', 'stimulus:60', 'stimulus:61', 'stimulus:62', 'stimulus:63', 'stimulus:64', 'stimulus:65', 'stimulus:66', 'stimulus:67', 'stimulus:68', 'stimulus:69', 'stimulus:7', 'stimulus:70', 'stimulus:71', 'stimulus:72', 'stimulus:73', 'stimulus:74', 'stimulus:75', 'stimulus:76', 'stimulus:77', 'stimulus:78', 'stimulus:79', 'stimulus:8', 'stimulus:80', 'stimulus:9']\n",
      "Not setting metadata\n",
      "Not setting metadata\n",
      "319 matching events found\n",
      "Setting baseline interval to [-0.5, 0.0] sec\n",
      "Applying baseline correction (mode: mean)\n",
      "Created an SSP operator (subspace dimension = 1)\n",
      "1 projection items activated\n",
      "Loading data for 319 events and 1537 original time points ...\n"
     ]
    },
    {
     "name": "stderr",
     "output_type": "stream",
     "text": [
      "<ipython-input-4-3bec74d7b56f>:2: RuntimeWarning: This filename (../local/bidsN170/sub-001/ses-N170/eeg/sub-001_cleaned.fif) does not conform to MNE naming conventions. All raw files should end with raw.fif, raw_sss.fif, raw_tsss.fif, raw.fif.gz, raw_sss.fif.gz, raw_tsss.fif.gz or _meg.fif\n",
      "  raw = mne.io.read_raw_fif(read_path)\n"
     ]
    },
    {
     "name": "stdout",
     "output_type": "stream",
     "text": [
      "0 bad epochs dropped\n"
     ]
    },
    {
     "data": {
      "text/plain": [
       "<Epochs |  319 events (all good), -0.5 - 1 sec, baseline [-0.5, 0] sec, ~54 kB, data not loaded,\n",
       " 'stimulus:1': 2\n",
       " 'stimulus:10': 2\n",
       " 'stimulus:101': 2\n",
       " 'stimulus:102': 2\n",
       " 'stimulus:103': 2\n",
       " 'stimulus:104': 2\n",
       " 'stimulus:105': 2\n",
       " 'stimulus:106': 2\n",
       " 'stimulus:107': 2\n",
       " 'stimulus:108': 1\n",
       " 'stimulus:109': 2\n",
       " 'stimulus:11': 2\n",
       " 'stimulus:110': 2\n",
       " 'stimulus:111': 2\n",
       " 'stimulus:112': 2\n",
       " 'stimulus:113': 2\n",
       " 'stimulus:114': 2\n",
       " 'stimulus:115': 2\n",
       " 'stimulus:116': 2\n",
       " 'stimulus:117': 2\n",
       " 'stimulus:118': 2\n",
       " 'stimulus:119': 2\n",
       " 'stimulus:12': 2\n",
       " 'stimulus:120': 2\n",
       " 'stimulus:121': 2\n",
       " 'stimulus:122': 2\n",
       " 'stimulus:123': 2\n",
       " 'stimulus:124': 2\n",
       " 'stimulus:125': 2\n",
       " 'stimulus:126': 2\n",
       " 'stimulus:127': 2\n",
       " 'stimulus:128': 2\n",
       " 'stimulus:129': 2\n",
       " 'stimulus:13': 2\n",
       " 'stimulus:130': 2\n",
       " 'stimulus:131': 2\n",
       " 'stimulus:132': 2\n",
       " 'stimulus:133': 2\n",
       " 'stimulus:134': 2\n",
       " 'stimulus:135': 2\n",
       " 'stimulus:136': 2\n",
       " 'stimulus:137': 2\n",
       " 'stimulus:138': 2\n",
       " 'stimulus:139': 2\n",
       " 'stimulus:14': 2\n",
       " 'stimulus:140': 2\n",
       " 'stimulus:141': 2\n",
       " 'stimulus:142': 2\n",
       " 'stimulus:143': 2\n",
       " 'stimulus:144': 2\n",
       " 'stimulus:145': 2\n",
       " 'stimulus:146': 2\n",
       " 'stimulus:147': 2\n",
       " 'stimulus:148': 2\n",
       " 'stimulus:149': 2\n",
       " 'stimulus:15': 2\n",
       " 'stimulus:150': 2\n",
       " 'stimulus:151': 2\n",
       " 'stimulus:152': 2\n",
       " 'stimulus:153': 2\n",
       " 'stimulus:154': 2\n",
       " 'stimulus:155': 2\n",
       " 'stimulus:156': 2\n",
       " 'stimulus:157': 2\n",
       " 'stimulus:158': 2\n",
       " 'stimulus:159': 2\n",
       " 'stimulus:16': 2\n",
       " 'stimulus:160': 2\n",
       " 'stimulus:161': 2\n",
       " 'stimulus:162': 2\n",
       " 'stimulus:163': 2\n",
       " 'stimulus:164': 2\n",
       " 'stimulus:165': 2\n",
       " 'stimulus:166': 2\n",
       " 'stimulus:167': 2\n",
       " 'stimulus:168': 2\n",
       " 'stimulus:169': 2\n",
       " 'stimulus:17': 2\n",
       " 'stimulus:170': 2\n",
       " 'stimulus:171': 2\n",
       " 'stimulus:172': 2\n",
       " 'stimulus:173': 2\n",
       " 'stimulus:174': 2\n",
       " 'stimulus:175': 2\n",
       " 'stimulus:176': 2\n",
       " 'stimulus:177': 2\n",
       " 'stimulus:178': 2\n",
       " 'stimulus:179': 2\n",
       " 'stimulus:18': 2\n",
       " 'stimulus:180': 2\n",
       " 'stimulus:19': 2\n",
       " 'stimulus:2': 2\n",
       " 'stimulus:20': 2\n",
       " 'stimulus:21': 2\n",
       " 'stimulus:22': 2\n",
       " 'stimulus:23': 2\n",
       " 'stimulus:24': 2\n",
       " 'stimulus:25': 2\n",
       " 'stimulus:26': 2\n",
       " 'stimulus:27': 2\n",
       " 'stimulus:28': 2\n",
       " 'stimulus:29': 2\n",
       " 'stimulus:3': 2\n",
       " 'stimulus:30': 2\n",
       " 'stimulus:31': 2\n",
       " 'stimulus:32': 2\n",
       " 'stimulus:33': 2\n",
       " 'stimulus:34': 2\n",
       " 'stimulus:35': 2\n",
       " 'stimulus:36': 2\n",
       " 'stimulus:37': 2\n",
       " 'stimulus:38': 2\n",
       " 'stimulus:39': 2\n",
       " 'stimulus:4': 2\n",
       " 'stimulus:40': 2\n",
       " 'stimulus:41': 2\n",
       " 'stimulus:42': 2\n",
       " 'stimulus:43': 2\n",
       " 'stimulus:44': 2\n",
       " 'stimulus:45': 2\n",
       " 'stimulus:46': 2\n",
       " 'stimulus:47': 2\n",
       " 'stimulus:48': 2\n",
       " 'stimulus:49': 2\n",
       " 'stimulus:5': 2\n",
       " 'stimulus:50': 2\n",
       " 'stimulus:51': 2\n",
       " 'stimulus:52': 2\n",
       " 'stimulus:53': 2\n",
       " 'stimulus:54': 2\n",
       " 'stimulus:55': 2\n",
       " 'stimulus:56': 2\n",
       " 'stimulus:57': 2\n",
       " 'stimulus:58': 2\n",
       " 'stimulus:59': 2\n",
       " 'stimulus:6': 2\n",
       " 'stimulus:60': 2\n",
       " 'stimulus:61': 2\n",
       " 'stimulus:62': 2\n",
       " 'stimulus:63': 2\n",
       " 'stimulus:64': 2\n",
       " 'stimulus:65': 2\n",
       " 'stimulus:66': 2\n",
       " 'stimulus:67': 2\n",
       " 'stimulus:68': 2\n",
       " 'stimulus:69': 2\n",
       " 'stimulus:7': 2\n",
       " 'stimulus:70': 2\n",
       " 'stimulus:71': 2\n",
       " 'stimulus:72': 2\n",
       " 'stimulus:73': 2\n",
       " 'stimulus:74': 2\n",
       " 'stimulus:75': 2\n",
       " 'stimulus:76': 2\n",
       " 'stimulus:77': 2\n",
       " 'stimulus:78': 2\n",
       " 'stimulus:79': 2\n",
       " 'stimulus:8': 2\n",
       " 'stimulus:80': 2\n",
       " 'stimulus:9': 2>"
      ]
     },
     "execution_count": 4,
     "metadata": {},
     "output_type": "execute_result"
    }
   ],
   "source": [
    "read_path = path + \"/sub-\" + sub + temp_path + \"sub-\" + sub +\"_cleaned.fif\"\n",
    "raw = mne.io.read_raw_fif(read_path)\n",
    "\n",
    "epochs, events = load_epochs(raw)\n",
    "epochs.drop_bad()"
   ]
  },
  {
   "cell_type": "code",
   "execution_count": null,
   "metadata": {},
   "outputs": [],
   "source": [
    "#plt.plot((events[:, 0] - raw.first_samp) / raw.info['sfreq'], events[:, 2], '.');\n",
    "#plt.xlabel('time (s)')"
   ]
  },
  {
   "cell_type": "code",
   "execution_count": null,
   "metadata": {},
   "outputs": [],
   "source": [
    "# extract the different stimuli and conditions\n",
    "evoked_face_normal = epochs[[\"stimulus:{}\".format(k) for k in range(1,41)]].average()\n",
    "evoked_car_normal = epochs[[\"stimulus:{}\".format(k) for k in range(41,81)]].average()\n",
    "evoked_face_scrambled = epochs[[\"stimulus:{}\".format(k) for k in range(101,141)]].average()\n",
    "evoked_car_scrambled = epochs[[\"stimulus:{}\".format(k) for k in range(141,181)]].average()"
   ]
  },
  {
   "cell_type": "code",
   "execution_count": null,
   "metadata": {},
   "outputs": [],
   "source": [
    "times = np.linspace(0.13, 0.2, 5)\n",
    "fig = evoked_face_normal.plot_topomap(times=times, title='evoked normal faces')\n",
    "fig = evoked_car_normal.plot_topomap(times=times, title='evoked normal cars')\n",
    "fig = evoked_face_scrambled.plot_topomap(times=times, title='evoked scrambled faces')\n",
    "fig = evoked_car_scrambled.plot_topomap(times=times, title='evoked scrambled cars')"
   ]
  },
  {
   "cell_type": "markdown",
   "metadata": {},
   "source": [
    "# Time Frequency Analysis"
   ]
  },
  {
   "cell_type": "code",
   "execution_count": 84,
   "metadata": {},
   "outputs": [
    {
     "name": "stdout",
     "output_type": "stream",
     "text": [
      "Loading data for 320 events and 1537 original time points ...\n"
     ]
    }
   ],
   "source": [
    "epochs.load_data()\n",
    "intact_faces_epochs = epochs[[\"stimulus:{}\".format(k) for k in range(1,41)]] #.pick_channels([\"P7\"])\n",
    "scrambled_faces_epochs = epochs[[\"stimulus:{}\".format(k) for k in range(101,141)]] #.pick_channels([\"P7\"])\n",
    "intact_cars_epochs = epochs[[\"stimulus:{}\".format(k) for k in range(41,81)]] #.pick_channels([\"P7\"])\n",
    "scrambled_cars_epochs = epochs[[\"stimulus:{}\".format(k) for k in range(141,181)]] #.pick_channels([\"P7\"])\n",
    "\n",
    "new_range = itertools.chain(range(101,141), range(41,81), range(141,181))\n",
    "all_but_if_epochs = epochs[[\"stimulus:{}\".format(k) for k in new_range]]"
   ]
  },
  {
   "cell_type": "markdown",
   "metadata": {},
   "source": [
    "# 1. For one subject"
   ]
  },
  {
   "cell_type": "code",
   "execution_count": 88,
   "metadata": {},
   "outputs": [],
   "source": [
    "freqs = np.logspace(*np.log10([0.1, 50]), num=100)\n",
    "n_cycles = freqs/2\n",
    "baseline = [-0.2,0]\n",
    "vmin = -4\n",
    "vmax = 4\n",
    "vmin = None\n",
    "vmax = None"
   ]
  },
  {
   "cell_type": "markdown",
   "metadata": {},
   "source": [
    "## choose stimulus"
   ]
  },
  {
   "cell_type": "code",
   "execution_count": 89,
   "metadata": {},
   "outputs": [],
   "source": [
    "epochs_induced_if = intact_faces_epochs.copy()\n",
    "epochs_induced_sf = scrambled_faces_epochs.copy()\n",
    "epochs_induced_ic = intact_cars_epochs.copy()\n",
    "epochs_induced_sc = scrambled_cars_epochs.copy()\n",
    "epochs_induced_all = epochs.copy()\n",
    "epochs_induced_all_but_if = all_but_if_epochs.copy()"
   ]
  },
  {
   "cell_type": "code",
   "execution_count": 90,
   "metadata": {},
   "outputs": [
    {
     "name": "stdout",
     "output_type": "stream",
     "text": [
      "Subtracting Evoked from Epochs\n",
      "    The following channels are not included in the subtraction: VEOG_lower, HEOG_right, HEOG_left\n",
      "[done]\n",
      "Subtracting Evoked from Epochs\n",
      "    The following channels are not included in the subtraction: VEOG_lower, HEOG_right, HEOG_left\n",
      "[done]\n",
      "Subtracting Evoked from Epochs\n",
      "    The following channels are not included in the subtraction: VEOG_lower, HEOG_right, HEOG_left\n",
      "[done]\n",
      "Subtracting Evoked from Epochs\n",
      "    The following channels are not included in the subtraction: VEOG_lower, HEOG_right, HEOG_left\n",
      "[done]\n",
      "Subtracting Evoked from Epochs\n",
      "    The following channels are not included in the subtraction: VEOG_lower, HEOG_right, HEOG_left\n",
      "[done]\n",
      "Subtracting Evoked from Epochs\n",
      "    The following channels are not included in the subtraction: VEOG_lower, HEOG_right, HEOG_left\n",
      "[done]\n"
     ]
    },
    {
     "data": {
      "text/plain": [
       "<Epochs |  240 events (all good), -0.5 - 1 sec, baseline [-0.5, 0] sec, ~92.9 MB, data loaded,\n",
       " 'stimulus:101': 2\n",
       " 'stimulus:102': 2\n",
       " 'stimulus:103': 2\n",
       " 'stimulus:104': 2\n",
       " 'stimulus:105': 2\n",
       " 'stimulus:106': 2\n",
       " 'stimulus:107': 2\n",
       " 'stimulus:108': 2\n",
       " 'stimulus:109': 2\n",
       " 'stimulus:110': 2\n",
       " 'stimulus:111': 2\n",
       " 'stimulus:112': 2\n",
       " 'stimulus:113': 2\n",
       " 'stimulus:114': 2\n",
       " 'stimulus:115': 2\n",
       " 'stimulus:116': 2\n",
       " 'stimulus:117': 2\n",
       " 'stimulus:118': 2\n",
       " 'stimulus:119': 2\n",
       " 'stimulus:120': 2\n",
       " 'stimulus:121': 2\n",
       " 'stimulus:122': 2\n",
       " 'stimulus:123': 2\n",
       " 'stimulus:124': 2\n",
       " 'stimulus:125': 2\n",
       " 'stimulus:126': 2\n",
       " 'stimulus:127': 2\n",
       " 'stimulus:128': 2\n",
       " 'stimulus:129': 2\n",
       " 'stimulus:130': 2\n",
       " 'stimulus:131': 2\n",
       " 'stimulus:132': 2\n",
       " 'stimulus:133': 2\n",
       " 'stimulus:134': 2\n",
       " 'stimulus:135': 2\n",
       " 'stimulus:136': 2\n",
       " 'stimulus:137': 2\n",
       " 'stimulus:138': 2\n",
       " 'stimulus:139': 2\n",
       " 'stimulus:140': 2\n",
       " 'stimulus:141': 2\n",
       " 'stimulus:142': 2\n",
       " 'stimulus:143': 2\n",
       " 'stimulus:144': 2\n",
       " 'stimulus:145': 2\n",
       " 'stimulus:146': 2\n",
       " 'stimulus:147': 2\n",
       " 'stimulus:148': 2\n",
       " 'stimulus:149': 2\n",
       " 'stimulus:150': 2\n",
       " 'stimulus:151': 2\n",
       " 'stimulus:152': 2\n",
       " 'stimulus:153': 2\n",
       " 'stimulus:154': 2\n",
       " 'stimulus:155': 2\n",
       " 'stimulus:156': 2\n",
       " 'stimulus:157': 2\n",
       " 'stimulus:158': 2\n",
       " 'stimulus:159': 2\n",
       " 'stimulus:160': 2\n",
       " 'stimulus:161': 2\n",
       " 'stimulus:162': 2\n",
       " 'stimulus:163': 2\n",
       " 'stimulus:164': 2\n",
       " 'stimulus:165': 2\n",
       " 'stimulus:166': 2\n",
       " 'stimulus:167': 2\n",
       " 'stimulus:168': 2\n",
       " 'stimulus:169': 2\n",
       " 'stimulus:170': 2\n",
       " 'stimulus:171': 2\n",
       " 'stimulus:172': 2\n",
       " 'stimulus:173': 2\n",
       " 'stimulus:174': 2\n",
       " 'stimulus:175': 2\n",
       " 'stimulus:176': 2\n",
       " 'stimulus:177': 2\n",
       " 'stimulus:178': 2\n",
       " 'stimulus:179': 2\n",
       " 'stimulus:180': 2\n",
       " 'stimulus:41': 2\n",
       " 'stimulus:42': 2\n",
       " 'stimulus:43': 2\n",
       " 'stimulus:44': 2\n",
       " 'stimulus:45': 2\n",
       " 'stimulus:46': 2\n",
       " 'stimulus:47': 2\n",
       " 'stimulus:48': 2\n",
       " 'stimulus:49': 2\n",
       " 'stimulus:50': 2\n",
       " 'stimulus:51': 2\n",
       " 'stimulus:52': 2\n",
       " 'stimulus:53': 2\n",
       " 'stimulus:54': 2\n",
       " 'stimulus:55': 2\n",
       " 'stimulus:56': 2\n",
       " 'stimulus:57': 2\n",
       " 'stimulus:58': 2\n",
       " 'stimulus:59': 2\n",
       " 'stimulus:60': 2\n",
       " 'stimulus:61': 2\n",
       " 'stimulus:62': 2\n",
       " 'stimulus:63': 2\n",
       " 'stimulus:64': 2\n",
       " 'stimulus:65': 2\n",
       " 'stimulus:66': 2\n",
       " 'stimulus:67': 2\n",
       " 'stimulus:68': 2\n",
       " 'stimulus:69': 2\n",
       " 'stimulus:70': 2\n",
       " 'stimulus:71': 2\n",
       " 'stimulus:72': 2\n",
       " 'stimulus:73': 2\n",
       " 'stimulus:74': 2\n",
       " 'stimulus:75': 2\n",
       " 'stimulus:76': 2\n",
       " 'stimulus:77': 2\n",
       " 'stimulus:78': 2\n",
       " 'stimulus:79': 2\n",
       " 'stimulus:80': 2>"
      ]
     },
     "execution_count": 90,
     "metadata": {},
     "output_type": "execute_result"
    }
   ],
   "source": [
    "epochs_induced_if.subtract_evoked()\n",
    "epochs_induced_sf.subtract_evoked()\n",
    "epochs_induced_ic.subtract_evoked()\n",
    "epochs_induced_sc.subtract_evoked()\n",
    "epochs_induced_all.subtract_evoked()\n",
    "epochs_induced_all_but_if.subtract_evoked()"
   ]
  },
  {
   "cell_type": "markdown",
   "metadata": {},
   "source": [
    "## Power Total"
   ]
  },
  {
   "cell_type": "code",
   "execution_count": 91,
   "metadata": {},
   "outputs": [
    {
     "name": "stderr",
     "output_type": "stream",
     "text": [
      "[Parallel(n_jobs=4)]: Using backend LokyBackend with 4 concurrent workers.\n",
      "[Parallel(n_jobs=4)]: Done  14 tasks      | elapsed:   45.6s\n",
      "[Parallel(n_jobs=4)]: Done  30 out of  30 | elapsed:  1.5min finished\n"
     ]
    }
   ],
   "source": [
    "power_total = mne.time_frequency.tfr_morlet(epochs, \n",
    "                        freqs=freqs, n_cycles=n_cycles, return_itc=False,n_jobs=4,average=True)#,picks='Cz')"
   ]
  },
  {
   "cell_type": "code",
   "execution_count": 93,
   "metadata": {},
   "outputs": [
    {
     "name": "stdout",
     "output_type": "stream",
     "text": [
      "Applying baseline correction (mode: percent)\n"
     ]
    },
    {
     "name": "stderr",
     "output_type": "stream",
     "text": [
      "C:\\Users\\Kay\\anaconda3\\lib\\site-packages\\matplotlib\\cbook\\__init__.py:224: RuntimeWarning: `mask` is None, not masking the plot ...\n",
      "  func(*args, **kwargs)\n",
      "C:\\Users\\Kay\\anaconda3\\lib\\site-packages\\matplotlib\\cbook\\__init__.py:224: RuntimeWarning: `mask` is None, not adding contour to the plot ...\n",
      "  func(*args, **kwargs)\n",
      "C:\\Users\\Kay\\anaconda3\\lib\\site-packages\\matplotlib\\cbook\\__init__.py:224: RuntimeWarning: `mask` is None, not masking the plot ...\n",
      "  func(*args, **kwargs)\n",
      "C:\\Users\\Kay\\anaconda3\\lib\\site-packages\\matplotlib\\cbook\\__init__.py:224: RuntimeWarning: `mask` is None, not adding contour to the plot ...\n",
      "  func(*args, **kwargs)\n",
      "C:\\Users\\Kay\\anaconda3\\lib\\site-packages\\matplotlib\\cbook\\__init__.py:224: RuntimeWarning: `mask` is None, not masking the plot ...\n",
      "  func(*args, **kwargs)\n",
      "C:\\Users\\Kay\\anaconda3\\lib\\site-packages\\matplotlib\\cbook\\__init__.py:224: RuntimeWarning: `mask` is None, not adding contour to the plot ...\n",
      "  func(*args, **kwargs)\n",
      "C:\\Users\\Kay\\anaconda3\\lib\\site-packages\\matplotlib\\cbook\\__init__.py:224: RuntimeWarning: `mask` is None, not masking the plot ...\n",
      "  func(*args, **kwargs)\n",
      "C:\\Users\\Kay\\anaconda3\\lib\\site-packages\\matplotlib\\cbook\\__init__.py:224: RuntimeWarning: `mask` is None, not adding contour to the plot ...\n",
      "  func(*args, **kwargs)\n",
      "C:\\Users\\Kay\\anaconda3\\lib\\site-packages\\matplotlib\\cbook\\__init__.py:224: RuntimeWarning: `mask` is None, not masking the plot ...\n",
      "  func(*args, **kwargs)\n",
      "C:\\Users\\Kay\\anaconda3\\lib\\site-packages\\matplotlib\\cbook\\__init__.py:224: RuntimeWarning: `mask` is None, not adding contour to the plot ...\n",
      "  func(*args, **kwargs)\n"
     ]
    }
   ],
   "source": [
    "%matplotlib qt\n",
    "power_total.plot_topo(baseline=baseline,mode='percent',vmin=vmin,vmax=vmax);"
   ]
  },
  {
   "cell_type": "markdown",
   "metadata": {},
   "source": [
    "# Induced "
   ]
  },
  {
   "cell_type": "code",
   "execution_count": null,
   "metadata": {},
   "outputs": [],
   "source": [
    "power_induced_if = mne.time_frequency.tfr_morlet(epochs_induced_if, freqs=freqs, \n",
    "                            n_cycles=n_cycles, return_itc=False,n_jobs=4,average=True)#,picks=\"P7\")"
   ]
  },
  {
   "cell_type": "code",
   "execution_count": null,
   "metadata": {},
   "outputs": [],
   "source": [
    "power_induced_all_but_if = mne.time_frequency.tfr_morlet(epochs_induced_all_but_if, freqs=freqs, \n",
    "                            n_cycles=n_cycles, return_itc=False,n_jobs=4,average=True)#,picks=\"P7\")"
   ]
  },
  {
   "cell_type": "code",
   "execution_count": null,
   "metadata": {},
   "outputs": [],
   "source": [
    "power_induced_sf = mne.time_frequency.tfr_morlet(epochs_induced_sf, freqs=freqs, \n",
    "                            n_cycles=n_cycles, return_itc=False,n_jobs=4,average=True)#,picks=\"P7\")\n",
    "power_induced_ic = mne.time_frequency.tfr_morlet(epochs_induced_ic, freqs=freqs, \n",
    "                            n_cycles=n_cycles, return_itc=False,n_jobs=4,average=True)#,picks=\"P7\")\n",
    "power_induced_sc = mne.time_frequency.tfr_morlet(epochs_induced_sc, freqs=freqs, \n",
    "                            n_cycles=n_cycles, return_itc=False,n_jobs=4,average=True)#,picks=\"P7\")"
   ]
  },
  {
   "cell_type": "markdown",
   "metadata": {},
   "source": [
    "## bands for induced intact faces"
   ]
  },
  {
   "cell_type": "code",
   "execution_count": null,
   "metadata": {},
   "outputs": [],
   "source": [
    "%matplotlib qt\n",
    "fig, axis = plt.subplots(1, 5, figsize=(7, 4))\n",
    "power_induced_if.plot_topomap(tmin=0.13, tmax=0.2, fmin=8, fmax=12,\n",
    "                   baseline=baseline, mode='logratio', axes=axis[0],\n",
    "                   title='Alpha', show=False)\n",
    "power_induced_if.plot_topomap(tmin=0.13, tmax=0.2, fmin=13, fmax=25,\n",
    "                   baseline=baseline, mode='logratio', axes=axis[1],\n",
    "                   title='Beta', show=False)\n",
    "power_induced_if.plot_topomap(tmin=0.13, tmax=0.2, fmin=26, fmax=40,\n",
    "                   baseline=baseline, mode='logratio', axes=axis[2],\n",
    "                   title='Gamma', show=False)\n",
    "power_induced_if.plot_topomap(tmin=0.13, tmax=0.2, fmin=1, fmax=4,\n",
    "                   baseline=baseline, mode='logratio', axes=axis[3],\n",
    "                   title='Delta', show=False)\n",
    "power_induced_if.plot_topomap(tmin=0.13, tmax=0.2, fmin=4, fmax=8,\n",
    "                   baseline=baseline, mode='logratio', axes=axis[4],\n",
    "                   title='Theta', show=False)\n",
    "#mne.viz.tight_layout()\n",
    "plt.show()"
   ]
  },
  {
   "cell_type": "markdown",
   "metadata": {},
   "source": [
    "# 2. TF for all subjects"
   ]
  },
  {
   "cell_type": "code",
   "execution_count": 94,
   "metadata": {},
   "outputs": [
    {
     "name": "stdout",
     "output_type": "stream",
     "text": [
      "Opening raw data file ../local/bidsN170/sub-001/ses-N170/eeg/sub-001_cleaned.fif...\n"
     ]
    },
    {
     "name": "stderr",
     "output_type": "stream",
     "text": [
      "<ipython-input-94-002ae7b7d84f>:17: RuntimeWarning: This filename (../local/bidsN170/sub-001/ses-N170/eeg/sub-001_cleaned.fif) does not conform to MNE naming conventions. All raw files should end with raw.fif, raw_sss.fif, raw_tsss.fif, raw.fif.gz, raw_sss.fif.gz, raw_tsss.fif.gz or _meg.fif\n",
      "  raw = mne.io.read_raw_fif(read_path)\n"
     ]
    },
    {
     "name": "stdout",
     "output_type": "stream",
     "text": [
      "    Read a total of 1 projection items:\n",
      "        Average EEG reference (1 x 30) active\n",
      "    Range : 0 ... 699391 =      0.000 ...   682.999 secs\n",
      "Ready.\n",
      "Used Annotations descriptions: ['response:201', 'response:202', 'stimulus:1', 'stimulus:10', 'stimulus:101', 'stimulus:102', 'stimulus:103', 'stimulus:104', 'stimulus:105', 'stimulus:106', 'stimulus:107', 'stimulus:108', 'stimulus:109', 'stimulus:11', 'stimulus:110', 'stimulus:111', 'stimulus:112', 'stimulus:113', 'stimulus:114', 'stimulus:115', 'stimulus:116', 'stimulus:117', 'stimulus:118', 'stimulus:119', 'stimulus:12', 'stimulus:120', 'stimulus:121', 'stimulus:122', 'stimulus:123', 'stimulus:124', 'stimulus:125', 'stimulus:126', 'stimulus:127', 'stimulus:128', 'stimulus:129', 'stimulus:13', 'stimulus:130', 'stimulus:131', 'stimulus:132', 'stimulus:133', 'stimulus:134', 'stimulus:135', 'stimulus:136', 'stimulus:137', 'stimulus:138', 'stimulus:139', 'stimulus:14', 'stimulus:140', 'stimulus:141', 'stimulus:142', 'stimulus:143', 'stimulus:144', 'stimulus:145', 'stimulus:146', 'stimulus:147', 'stimulus:148', 'stimulus:149', 'stimulus:15', 'stimulus:150', 'stimulus:151', 'stimulus:152', 'stimulus:153', 'stimulus:154', 'stimulus:155', 'stimulus:156', 'stimulus:157', 'stimulus:158', 'stimulus:159', 'stimulus:16', 'stimulus:160', 'stimulus:161', 'stimulus:162', 'stimulus:163', 'stimulus:164', 'stimulus:165', 'stimulus:166', 'stimulus:167', 'stimulus:168', 'stimulus:169', 'stimulus:17', 'stimulus:170', 'stimulus:171', 'stimulus:172', 'stimulus:173', 'stimulus:174', 'stimulus:175', 'stimulus:176', 'stimulus:177', 'stimulus:178', 'stimulus:179', 'stimulus:18', 'stimulus:180', 'stimulus:19', 'stimulus:2', 'stimulus:20', 'stimulus:21', 'stimulus:22', 'stimulus:23', 'stimulus:24', 'stimulus:25', 'stimulus:26', 'stimulus:27', 'stimulus:28', 'stimulus:29', 'stimulus:3', 'stimulus:30', 'stimulus:31', 'stimulus:32', 'stimulus:33', 'stimulus:34', 'stimulus:35', 'stimulus:36', 'stimulus:37', 'stimulus:38', 'stimulus:39', 'stimulus:4', 'stimulus:40', 'stimulus:41', 'stimulus:42', 'stimulus:43', 'stimulus:44', 'stimulus:45', 'stimulus:46', 'stimulus:47', 'stimulus:48', 'stimulus:49', 'stimulus:5', 'stimulus:50', 'stimulus:51', 'stimulus:52', 'stimulus:53', 'stimulus:54', 'stimulus:55', 'stimulus:56', 'stimulus:57', 'stimulus:58', 'stimulus:59', 'stimulus:6', 'stimulus:60', 'stimulus:61', 'stimulus:62', 'stimulus:63', 'stimulus:64', 'stimulus:65', 'stimulus:66', 'stimulus:67', 'stimulus:68', 'stimulus:69', 'stimulus:7', 'stimulus:70', 'stimulus:71', 'stimulus:72', 'stimulus:73', 'stimulus:74', 'stimulus:75', 'stimulus:76', 'stimulus:77', 'stimulus:78', 'stimulus:79', 'stimulus:8', 'stimulus:80', 'stimulus:9']\n",
      "Not setting metadata\n",
      "Not setting metadata\n",
      "319 matching events found\n",
      "Setting baseline interval to [-0.5, 0.0] sec\n",
      "Applying baseline correction (mode: mean)\n",
      "Created an SSP operator (subspace dimension = 1)\n",
      "1 projection items activated\n",
      "Loading data for 319 events and 1537 original time points ...\n",
      "0 bad epochs dropped\n",
      "Subtracting Evoked from Epochs\n",
      "    The following channels are not included in the subtraction: VEOG_lower, HEOG_right, HEOG_left\n",
      "[done]\n",
      "Subtracting Evoked from Epochs\n",
      "    The following channels are not included in the subtraction: VEOG_lower, HEOG_right, HEOG_left\n",
      "[done]\n",
      "Loading data for 80 events and 1537 original time points ...\n"
     ]
    },
    {
     "name": "stderr",
     "output_type": "stream",
     "text": [
      "[Parallel(n_jobs=4)]: Using backend LokyBackend with 4 concurrent workers.\n",
      "[Parallel(n_jobs=4)]: Done  14 tasks      | elapsed:   12.9s\n"
     ]
    },
    {
     "name": "stdout",
     "output_type": "stream",
     "text": [
      "Applying baseline correction (mode: ratio)\n",
      "Loading data for 239 events and 1537 original time points ...\n"
     ]
    },
    {
     "name": "stderr",
     "output_type": "stream",
     "text": [
      "[Parallel(n_jobs=4)]: Done  30 out of  30 | elapsed:   23.9s finished\n",
      "[Parallel(n_jobs=4)]: Using backend LokyBackend with 4 concurrent workers.\n",
      "[Parallel(n_jobs=4)]: Done  14 tasks      | elapsed:   33.6s\n"
     ]
    },
    {
     "name": "stdout",
     "output_type": "stream",
     "text": [
      "Applying baseline correction (mode: ratio)\n"
     ]
    },
    {
     "name": "stderr",
     "output_type": "stream",
     "text": [
      "[Parallel(n_jobs=4)]: Done  30 out of  30 | elapsed:  1.1min finished\n"
     ]
    },
    {
     "name": "stdout",
     "output_type": "stream",
     "text": [
      "DONE\n"
     ]
    }
   ],
   "source": [
    "freqs = np.logspace(*np.log10([0.1, 50]), num=100)\n",
    "n_cycles = freqs/2\n",
    "baseline = [-0.5,-0.4]\n",
    "vmin = None\n",
    "vmax = None\n",
    "\n",
    "stimulus1 = []\n",
    "stimulus2 = []\n",
    "\n",
    "\n",
    "for s in range(1,2):\n",
    "    if len(str(s)) > 1:\n",
    "        sub = '0' + str(s)\n",
    "    else:\n",
    "        sub = '00' + str(s)\n",
    "    read_path = path + \"/sub-\" + sub + temp_path + \"sub-\" + sub +\"_cleaned.fif\"\n",
    "    raw = mne.io.read_raw_fif(read_path)\n",
    "    \n",
    "    \n",
    "    epochs, evts_dict = load_epochs(raw)\n",
    "    epochs.drop_bad()\n",
    "    \n",
    "    intact_faces_epochs = epochs[[\"stimulus:{}\".format(k) for k in range(1,41)]]\n",
    "    #scrambled_faces_epochs = epochs[[\"stimulus:{}\".format(k) for k in range(101,141)]]\n",
    "    #intact_cars_epochs = epochs[[\"stimulus:{}\".format(k) for k in range(41,81)]]\n",
    "    #scrambled_cars_epochs = epochs[[\"stimulus:{}\".format(k) for k in range(141,181)]]\n",
    "    \n",
    "    new_range = itertools.chain(range(101,141), range(41,81), range(141,181))\n",
    "    all_but_if_epochs = epochs[[\"stimulus:{}\".format(k) for k in new_range]]\n",
    "    \n",
    "    epochs_induced_if = intact_faces_epochs.copy()\n",
    "    #epochs_induced_sf = scrambled_faces_epochs.copy()\n",
    "    #epochs_induced_ic = intact_cars_epochs.copy()\n",
    "    #epochs_induced_sc = scrambled_cars_epochs.copy()\n",
    "    #epochs_induced_all = epochs.copy()\n",
    "    epochs_induced_all_but_if = all_but_if_epochs.copy()\n",
    "    \n",
    "    epochs_induced_if.subtract_evoked()\n",
    "    #epochs_induced_sf.subtract_evoked()\n",
    "    #epochs_induced_ic.subtract_evoked()\n",
    "    #epochs_induced_sc.subtract_evoked()\n",
    "    #epochs_induced_all.subtract_evoked()\n",
    "    epochs_induced_all_but_if.subtract_evoked()\n",
    "   \n",
    "\n",
    "    power_induced_if = mne.time_frequency.tfr_morlet(epochs_induced_if, freqs=freqs, \n",
    "                            n_cycles=n_cycles, return_itc=False,n_jobs=4,average=True)\n",
    "    power_induced_if_no_baseline = power_induced_if.copy()\n",
    "    power_induced_if.apply_baseline(mode='ratio', baseline=baseline)\n",
    "    \n",
    "    power_induced_all_but_if = mne.time_frequency.tfr_morlet(epochs_induced_all_but_if, freqs=freqs, \n",
    "                            n_cycles=n_cycles, return_itc=False,n_jobs=4,average=True)\n",
    "    power_induced_all_but_if.apply_baseline(mode='ratio', baseline=baseline)\n",
    "    \n",
    "    stimulus1.append(power_induced_if)\n",
    "    stimulus2.append(power_induced_all_but_if)\n",
    "\n",
    "print('DONE')"
   ]
  },
  {
   "cell_type": "code",
   "execution_count": 95,
   "metadata": {},
   "outputs": [
    {
     "name": "stdout",
     "output_type": "stream",
     "text": [
      "Identifying common channels ...\n",
      "Identifying common channels ...\n"
     ]
    },
    {
     "name": "stderr",
     "output_type": "stream",
     "text": [
      "<ipython-input-95-33db18192c45>:1: RuntimeWarning: Only a single dataset was passed to mne.grand_average().\n",
      "  induced_stimulus_1 = mne.grand_average(stimulus1)\n",
      "<ipython-input-95-33db18192c45>:2: RuntimeWarning: Only a single dataset was passed to mne.grand_average().\n",
      "  induced_stimulus_2 = mne.grand_average(stimulus2)\n"
     ]
    }
   ],
   "source": [
    "induced_stimulus_1 = mne.grand_average(stimulus1)\n",
    "induced_stimulus_2 = mne.grand_average(stimulus2)"
   ]
  },
  {
   "cell_type": "code",
   "execution_count": 6,
   "metadata": {},
   "outputs": [],
   "source": [
    "average_tfr_stim1 = induced_stimulus_1.data\n",
    "average_tfr_stim2 = induced_stimulus_2.data"
   ]
  },
  {
   "cell_type": "code",
   "execution_count": 97,
   "metadata": {},
   "outputs": [
    {
     "name": "stdout",
     "output_type": "stream",
     "text": [
      "Applying baseline correction (mode: logratio)\n",
      "Applying baseline correction (mode: logratio)\n",
      "Applying baseline correction (mode: logratio)\n",
      "Applying baseline correction (mode: logratio)\n",
      "Applying baseline correction (mode: logratio)\n"
     ]
    }
   ],
   "source": [
    "%matplotlib qt\n",
    "fig, axis = plt.subplots(1, 5, figsize=(7, 4))\n",
    "induced_stimulus_2.plot_topomap(tmin=0.13, tmax=0.2, fmin=8, fmax=12,\n",
    "                   baseline=baseline, mode='logratio', axes=axis[0],\n",
    "                   title='Alpha', show=False)\n",
    "induced_stimulus_2.plot_topomap(tmin=0.13, tmax=0.2, fmin=13, fmax=25,\n",
    "                   baseline=baseline, mode='logratio', axes=axis[1],\n",
    "                   title='Beta', show=False)\n",
    "induced_stimulus_2.plot_topomap(tmin=0.13, tmax=0.2, fmin=26, fmax=40,\n",
    "                   baseline=baseline, mode='logratio', axes=axis[2],\n",
    "                   title='Gamma', show=False)\n",
    "induced_stimulus_2.plot_topomap(tmin=0.13, tmax=0.2, fmin=1, fmax=4,\n",
    "                   baseline=baseline, mode='logratio', axes=axis[3],\n",
    "                   title='Delta', show=False)\n",
    "induced_stimulus_2.plot_topomap(tmin=0.13, tmax=0.2, fmin=4, fmax=8,\n",
    "                   baseline=baseline, mode='logratio', axes=axis[4],\n",
    "                   title='Theta', show=False)\n",
    "#mne.viz.tight_layout()\n",
    "plt.show()"
   ]
  },
  {
   "cell_type": "code",
   "execution_count": null,
   "metadata": {},
   "outputs": [],
   "source": []
  },
  {
   "cell_type": "code",
   "execution_count": null,
   "metadata": {},
   "outputs": [],
   "source": [
    "#save_array('./tfr_data/induced_intact_faces_morelet.npy', average_tfr_stim1)\n",
    "#save_array('./tfr_data/induced_all_but_if_morelet.npy', average_tfr_stim2)"
   ]
  },
  {
   "cell_type": "code",
   "execution_count": 46,
   "metadata": {},
   "outputs": [],
   "source": [
    "average_tfr_stim1 = load_array_from_memory('./tfr_data/induced_intact_faces_morelet.npy')\n",
    "average_tfr_stim2 = load_array_from_memory('./tfr_data/induced_all_but_if_morelet.npy')"
   ]
  },
  {
   "cell_type": "code",
   "execution_count": 47,
   "metadata": {},
   "outputs": [
    {
     "name": "stdout",
     "output_type": "stream",
     "text": [
      "Using a threshold of 4.006873\n",
      "stat_fun(H1): min=0.000000 max=71.007325\n",
      "Running initial clustering\n",
      "Found 28 clusters\n",
      "Permuting 1023 times...\n"
     ]
    },
    {
     "name": "stderr",
     "output_type": "stream",
     "text": [
      "<ipython-input-47-f6f76dc969f4>:1: RuntimeWarning: Ignoring argument \"tail\", performing 1-tailed F-test\n",
      "  F, clusters, cluster_ps, _ = mne.stats.permutation_cluster_test(\n"
     ]
    },
    {
     "data": {
      "application/vnd.jupyter.widget-view+json": {
       "model_id": "574de1cac170450a8c0e9e0f7e0b22db",
       "version_major": 2,
       "version_minor": 0
      },
      "text/plain": [
       "HBox(children=(HTML(value=''), FloatProgress(value=0.0, max=1023.0), HTML(value='')))"
      ]
     },
     "metadata": {},
     "output_type": "display_data"
    },
    {
     "name": "stdout",
     "output_type": "stream",
     "text": [
      "\n",
      "Computing cluster p-values\n",
      "Done.\n"
     ]
    }
   ],
   "source": [
    "F, clusters, cluster_ps, _ = mne.stats.permutation_cluster_test(\n",
    "            [average_tfr_stim1, average_tfr_stim2], n_jobs=4, seed=1234)"
   ]
  },
  {
   "cell_type": "code",
   "execution_count": 76,
   "metadata": {},
   "outputs": [
    {
     "name": "stdout",
     "output_type": "stream",
     "text": [
      "(100, 1537)\n"
     ]
    }
   ],
   "source": [
    "# sanity check for the shape of F\n",
    "print(F.shape)"
   ]
  },
  {
   "cell_type": "code",
   "execution_count": 48,
   "metadata": {},
   "outputs": [],
   "source": [
    "ext = [power_induced_if.times[0], power_induced_if.times[-1], freqs[0], freqs[-1]]"
   ]
  },
  {
   "cell_type": "code",
   "execution_count": 49,
   "metadata": {},
   "outputs": [
    {
     "name": "stdout",
     "output_type": "stream",
     "text": [
      "[-0.5, 1.0, 0.1, 49.99999999999999]\n"
     ]
    }
   ],
   "source": [
    "print(ext)"
   ]
  },
  {
   "cell_type": "code",
   "execution_count": 74,
   "metadata": {},
   "outputs": [],
   "source": [
    "# plot all clusters\n",
    "plot_statistic(F, freqs, ext, 'F value of the cluster permutation test')"
   ]
  },
  {
   "cell_type": "code",
   "execution_count": 75,
   "metadata": {},
   "outputs": [
    {
     "name": "stdout",
     "output_type": "stream",
     "text": [
      "0.078125\n",
      "0.046875\n",
      "0.2421875\n",
      "0.689453125\n",
      "0.658203125\n",
      "0.6259765625\n",
      "0.4345703125\n",
      "0.2900390625\n",
      "0.8330078125\n",
      "0.5068359375\n",
      "0.2978515625\n",
      "0.6787109375\n",
      "0.796875\n",
      "0.9248046875\n",
      "0.9599609375\n",
      "0.94921875\n",
      "0.931640625\n",
      "0.943359375\n",
      "0.9375\n",
      "0.876953125\n",
      "0.6328125\n",
      "0.908203125\n",
      "0.970703125\n",
      "0.958984375\n",
      "0.9287109375\n",
      "0.9248046875\n",
      "0.8759765625\n",
      "0.765625\n"
     ]
    }
   ],
   "source": [
    "significant_clusters = np.zeros(F.shape)\n",
    "for current_cluster, p in zip(clusters, cluster_ps):\n",
    "    print(p)\n",
    "    if p < 0.05:\n",
    "        significant_clusters[current_cluster] = F[current_cluster]\n",
    "\n",
    "# plot only significant cluster\n",
    "plot_statistic(significant_clusters, freqs, ext, 'F value of significant of the cluster permutation test')"
   ]
  },
  {
   "cell_type": "code",
   "execution_count": null,
   "metadata": {},
   "outputs": [],
   "source": []
  },
  {
   "cell_type": "code",
   "execution_count": 21,
   "metadata": {},
   "outputs": [
    {
     "name": "stdout",
     "output_type": "stream",
     "text": [
      "Applying baseline correction (mode: mean)\n"
     ]
    },
    {
     "data": {
      "image/png": "[encoded data removed]",
      "text/plain": [
       "<Figure size 640x480 with 2 Axes>"
      ]
     },
     "execution_count": 21,
     "metadata": {},
     "output_type": "execute_result"
    }
   ],
   "source": [
    "channel = 'PO8'\n",
    "power_induced_if.plot(cmap=cm.RdBu_r, baseline=baseline,picks=channel,vmin=vmin,vmax=vmax, title='Subject ' + str(sub) +str(' ')+ channel + ' induced')"
   ]
  },
  {
   "cell_type": "code",
   "execution_count": null,
   "metadata": {},
   "outputs": [],
   "source": []
  },
  {
   "cell_type": "code",
   "execution_count": null,
   "metadata": {},
   "outputs": [],
   "source": []
  },
  {
   "cell_type": "markdown",
   "metadata": {},
   "source": [
    "# Doctests"
   ]
  },
  {
   "cell_type": "code",
   "execution_count": null,
   "metadata": {},
   "outputs": [],
   "source": [
    "def equality(a, b):\n",
    "    '''\n",
    "    Test the 2. dimension of intact_faces_epochs and all_but_if_epochs.get_data\n",
    "    >>> equality(intact_faces_epochs.get_data().shape[1], all_but_if_epochs.get_data().shape[1])\n",
    "    True\n",
    "\n",
    "    Test the 3. dimension of intact_faces_epochs and all_but_if_epochs.get_data\n",
    "    >>> equality(intact_faces_epochs.get_data().shape[2], all_but_if_epochs.get_data().shape[2])\n",
    "    True\n",
    "    '''\n",
    "    return a == b"
   ]
  },
  {
   "cell_type": "code",
   "execution_count": null,
   "metadata": {},
   "outputs": [],
   "source": [
    "def test_save_load(input_array):\n",
    "    '''\n",
    "    >>> test_save_load([1, 2, 3, 4, 5])\n",
    "    True\n",
    "    \n",
    "    >>> test_save_load(average_tfr_stim1)\n",
    "    True\n",
    "    \n",
    "    >>> test_save_load(average_tfr_stim2)\n",
    "    True\n",
    "    '''\n",
    "    save_array('./test/test.npy', input_array)\n",
    "    loaded_array = load_array_from_memory('./test/test.npy')\n",
    "    \n",
    "    return np.array_equal(input_array, loaded_array)"
   ]
  },
  {
   "cell_type": "code",
   "execution_count": null,
   "metadata": {},
   "outputs": [],
   "source": [
    "import doctest\n",
    "doctest.testmod(verbose=True)"
   ]
  },
  {
   "cell_type": "code",
   "execution_count": null,
   "metadata": {},
   "outputs": [],
   "source": []
  }
 ],
 "metadata": {
  "kernelspec": {
   "display_name": "Python 3",
   "language": "python",
   "name": "python3"
  },
  "language_info": {
   "codemirror_mode": {
    "name": "ipython",
    "version": 3
   },
   "file_extension": ".py",
   "mimetype": "text/x-python",
   "name": "python",
   "nbconvert_exporter": "python",
   "pygments_lexer": "ipython3",
   "version": "3.8.3"
  }
 },
 "nbformat": 4,
 "nbformat_minor": 4
}
