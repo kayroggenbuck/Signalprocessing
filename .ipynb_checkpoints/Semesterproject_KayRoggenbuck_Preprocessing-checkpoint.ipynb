{
 "cells": [
  {
   "cell_type": "markdown",
   "metadata": {},
   "source": [
    "# Helper Functions"
   ]
  },
  {
   "cell_type": "code",
   "execution_count": null,
   "metadata": {},
   "outputs": [],
   "source": [
    "def load_data(path, subject):\n",
    "    \"\"\"\n",
    "    load the raw data from the given path and subject\n",
    "    \"\"\"\n",
    "    bids_root = path\n",
    "    subject_id = subject\n",
    "\n",
    "\n",
    "    bids_path = BIDSPath(subject=subject_id,task=\"N170\",session=\"N170\",\n",
    "                     datatype='eeg', suffix='eeg',\n",
    "                     root=bids_root)\n",
    "\n",
    "    # read the file\n",
    "    raw = read_raw_bids(bids_path)\n",
    "    # fix the annotations reading\n",
    "    ccs_eeg_utils.read_annotations_core(bids_path,raw)\n",
    "\n",
    "    raw.load_data()\n",
    "    return raw"
   ]
  },
  {
   "cell_type": "code",
   "execution_count": null,
   "metadata": {},
   "outputs": [],
   "source": [
    "def add_channel_locations(raw):\n",
    "    # set eog channels\n",
    "    raw.set_channel_types({'HEOG_left':'eog'})\n",
    "    raw.set_channel_types({'HEOG_right':'eog'})\n",
    "    raw.set_channel_types({'VEOG_lower':'eog'})\n",
    "    raw.set_montage('standard_1020',match_case=False)"
   ]
  },
  {
   "cell_type": "code",
   "execution_count": null,
   "metadata": {},
   "outputs": [],
   "source": [
    "def filter_data(raw, low_bound, high_bound):\n",
    "    # using mne filters for the eeg signal\n",
    "    filtered_raw = raw.copy().filter(low_bound,high_bound, fir_design='firwin')\n",
    "    return filtered_raw"
   ]
  },
  {
   "cell_type": "code",
   "execution_count": null,
   "metadata": {},
   "outputs": [],
   "source": [
    "def bad_segments(raw, subject_id):\n",
    "    \"\"\"\n",
    "    First find the bad segments and save it. \n",
    "    In case the bad segments already exist, then load the segments.\n",
    "    \"\"\"\n",
    "    #find_bad_segments(raw, subject_id)\n",
    "    load_bad_segments(raw, subject_id)\n",
    "    \n",
    "    # only for subject 001 a channel was marked as bad by me\n",
    "    if subject_id == '001':\n",
    "        raw.info['bads'] = ['F8']"
   ]
  },
  {
   "cell_type": "code",
   "execution_count": null,
   "metadata": {},
   "outputs": [],
   "source": [
    "def find_bad_segments(raw, subject_id):\n",
    "    \"\"\"\n",
    "    Find bad segments by hand.\n",
    "    \"\"\"\n",
    "    # press a and mark bad channels by hand (holding right click)\n",
    "    raw.plot(n_channels=len(raw.ch_names))\n",
    "    # save bad channels\n",
    "    bad_ix = [i for i,a in enumerate(raw.annotations) if a['description']==\"BAD_\"]\n",
    "    # if new segments should be saved use the next line\n",
    "    #raw.annotations[bad_ix].save(\"sub-{}_task-N170_badannotations.csv\".format(subject_id))"
   ]
  },
  {
   "cell_type": "code",
   "execution_count": null,
   "metadata": {},
   "outputs": [],
   "source": [
    "def load_bad_segments(raw, subject_id):\n",
    "    \"\"\"\n",
    "    Load the bad segments that were found in the step before.\n",
    "    \"\"\"\n",
    "    annotations = mne.read_annotations(\"sub-{}_task-N170_badannotations.csv\".format(subject_id))\n",
    "    raw.annotations.append(annotations.onset,annotations.duration,annotations.description)"
   ]
  },
  {
   "cell_type": "code",
   "execution_count": null,
   "metadata": {},
   "outputs": [],
   "source": [
    "def ica_filtering(raw, subject_id):\n",
    "    \"\"\"\n",
    "    Decomposition of the given data in Independant Components.\n",
    "    Based on the decomposition some components are marked as bad by\n",
    "    1. direct interpretation of the EOG channels\n",
    "    2. by hand from myselfe\n",
    "    Then the components marked as bad are excluded and the input data is reconstructed based on the remaining components\n",
    "    \"\"\"\n",
    "    # setup data with filter frequence 1 Hz\n",
    "    ica_raw = raw.copy()\n",
    "    ica_raw.load_data().filter(l_freq=1, h_freq=None)\n",
    "    ica = mne.preprocessing.ICA(method=\"fastica\", random_state=111)\n",
    "    ica.fit(raw,verbose=True)\n",
    "    \n",
    "    icaact = ica.get_sources(ica_raw)\n",
    "    #plt.plot(icaact[5,0:20000][0].T)\n",
    "    #plt.plot(ica_raw[0,0:20000][0].T)\n",
    "    \n",
    "    reload(mne)\n",
    "    \n",
    "    # this is used to find bad components from ICA by hand\n",
    "    ica.plot_properties(inst=ica_raw, dB=False, topomap_args={'extrapolate': 'head', 'contours': 0},\n",
    "                            psd_args={'fmin': 0, 'fmax': 50}, picks=['eeg'])\n",
    "    \n",
    "    \n",
    "    # find bad components via eog\n",
    "    eog_ind= []\n",
    "    #eog_ind, _ = ica.find_bads_eog(raw)\n",
    "    print('EOG Bad Components: ' + str(eog_ind))\n",
    "    \n",
    "    reconst_raw = raw.copy()\n",
    "    # eog bads plus some additional found via analysing the spectrum of the components (likely muscle articats)\n",
    "    expert_analysis_list = []\n",
    "    if subject_id == '001':\n",
    "        expert_analysis_list = [5,6,14,21]\n",
    "    elif subject_id == '017':\n",
    "        expert_analysis_list = [9]\n",
    "    elif subject_id == '031':\n",
    "        expert_analysis_list = []\n",
    "    \n",
    "    # combine the two lists and avoide duplicates)\n",
    "    exclude_list = eog_ind\n",
    "    for element in expert_analysis_list:\n",
    "        if element not in exclude_list:\n",
    "            exclude_list.append(element)\n",
    "    ica.apply(reconst_raw,exclude=exclude_list)\n",
    "\n",
    "    raw.plot()\n",
    "    reconst_raw.plot()  \n",
    "    ica.plot_overlay(raw,exclude=exclude_list)\n",
    "    return reconst_raw"
   ]
  },
  {
   "cell_type": "markdown",
   "metadata": {},
   "source": [
    "# -------------------------------------------------------------------------------------"
   ]
  },
  {
   "cell_type": "markdown",
   "metadata": {},
   "source": [
    "# Imports and important variables"
   ]
  },
  {
   "cell_type": "code",
   "execution_count": null,
   "metadata": {},
   "outputs": [],
   "source": [
    "import osfclient\n",
    "import mne\n",
    "import mne_bids\n",
    "import numpy as np\n",
    "import ccs_eeg_utils\n",
    "from ccs_eeg_semesterproject import (load_precomputed_badData, load_precomputed_ica)\n",
    "from mne_bids import (BIDSPath,read_raw_bids)\n",
    "from matplotlib import pyplot as plt\n",
    "from importlib import reload  \n",
    "\n",
    "%matplotlib qt\n",
    "path = \"../local/bidsN170\"\n",
    "temp_path = \"/ses-N170/eeg/\"\n",
    "sub = '001'"
   ]
  },
  {
   "cell_type": "markdown",
   "metadata": {},
   "source": [
    "# 1 Preprocessing For Subjects 001, 017, 031"
   ]
  },
  {
   "cell_type": "code",
   "execution_count": null,
   "metadata": {},
   "outputs": [],
   "source": [
    "# load the data\n",
    "raw = load_data(path, sub)"
   ]
  },
  {
   "cell_type": "code",
   "execution_count": null,
   "metadata": {},
   "outputs": [],
   "source": [
    "# for a first view of the raw un-preprocessed data\n",
    "raw.plot(n_channels=len(raw.ch_names))"
   ]
  },
  {
   "cell_type": "code",
   "execution_count": null,
   "metadata": {},
   "outputs": [],
   "source": [
    "# adding the channel positions (relevant for some calculations later)\n",
    "add_channel_locations(raw)"
   ]
  },
  {
   "cell_type": "code",
   "execution_count": null,
   "metadata": {},
   "outputs": [],
   "source": [
    "# a first look at the power spectral density of the raw data\n",
    "raw.plot_psd(fmax=75., average=True, spatial_colors=False)"
   ]
  },
  {
   "cell_type": "code",
   "execution_count": null,
   "metadata": {},
   "outputs": [],
   "source": [
    "# filtering the data with a bandpass filter\n",
    "raw_filtered = filter_data(raw, 0.5, 50)"
   ]
  },
  {
   "cell_type": "code",
   "execution_count": null,
   "metadata": {},
   "outputs": [],
   "source": [
    "# as sanity check a second look at the power spectral density after filtering\n",
    "raw_filtered.plot_psd(fmax=75., average=True, spatial_colors=False)"
   ]
  },
  {
   "cell_type": "code",
   "execution_count": null,
   "metadata": {},
   "outputs": [],
   "source": [
    "raw = raw_filtered"
   ]
  },
  {
   "cell_type": "code",
   "execution_count": null,
   "metadata": {},
   "outputs": [],
   "source": [
    "# either find or load bad segments in the data\n",
    "bad_segments(raw, sub)"
   ]
  },
  {
   "cell_type": "code",
   "execution_count": null,
   "metadata": {},
   "outputs": [],
   "source": [
    "# apply ICA to the data and detect bad components\n",
    "raw_ica = ica_filtering(raw, sub)"
   ]
  },
  {
   "cell_type": "code",
   "execution_count": null,
   "metadata": {},
   "outputs": [],
   "source": [
    "# interpolate bad channels (in my case only for subject 001 relevant)\n",
    "raw_ica.interpolate_bads()"
   ]
  },
  {
   "cell_type": "code",
   "execution_count": null,
   "metadata": {},
   "outputs": [],
   "source": [
    "raw = raw_ica"
   ]
  },
  {
   "cell_type": "code",
   "execution_count": null,
   "metadata": {},
   "outputs": [],
   "source": [
    "# rereference the data by the average\n",
    "raw_rereference, _  = mne.set_eeg_reference(raw, 'average', projection=True)\n",
    "raw_rereference.apply_proj()"
   ]
  },
  {
   "cell_type": "code",
   "execution_count": null,
   "metadata": {},
   "outputs": [],
   "source": [
    "# save the data in the same path as the raw data\n",
    "save_path = path + \"/sub-\" + sub + temp_path + \"sub-\" + sub +\"_cleaned.fif\"\n",
    "raw_rereference.save(save_path, overwrite=True)"
   ]
  },
  {
   "cell_type": "markdown",
   "metadata": {},
   "source": [
    "# -------------------------------------------------------------------------------------"
   ]
  },
  {
   "cell_type": "markdown",
   "metadata": {},
   "source": [
    "# 2 Preprocessing For The Remaining Subjects"
   ]
  },
  {
   "cell_type": "code",
   "execution_count": null,
   "metadata": {},
   "outputs": [],
   "source": [
    "for s in range(1,41):\n",
    "    # if we preprocessed the subject already, go on with next subject\n",
    "    if s in [1,17,31]:\n",
    "        continue\n",
    "    \n",
    "    # build the name for reading the data\n",
    "    if len(str(s)) > 1:\n",
    "        sub = '0' + str(s)\n",
    "    else:\n",
    "        sub = '00' + str(s)\n",
    "    raw = load_data(path, sub)\n",
    "    add_channel_locations(raw)\n",
    "    # filter the data with a bandpass filter\n",
    "    raw = filter_data(raw)\n",
    "    \n",
    "    # load preprocessing information\n",
    "    annotations, bad_ch = load_precomputed_badData(bids_root=path, subject_id=sub, task=\"N170\")\n",
    "    ica, bad_components = load_precomputed_ica(bids_root=path, subject_id=sub, task=\"N170\")\n",
    "    ica.apply(raw, exclude=bad_components)\n",
    "    \n",
    "    # rereference the data by the average\n",
    "    raw_rereference, _  = mne.set_eeg_reference(raw, 'average', projection=True)\n",
    "    raw_rereference.apply_proj()\n",
    "    \n",
    "    save_path = path + \"/sub-\" + sub + temp_path + \"sub-\" + sub +\"_cleaned.fif\"\n",
    "    #raw_rereference.save(save_path, overwrite=True)\n",
    "print('DONE')"
   ]
  },
  {
   "cell_type": "markdown",
   "metadata": {},
   "source": [
    "# -------------------------------------------------------------------------------------"
   ]
  },
  {
   "cell_type": "markdown",
   "metadata": {},
   "source": [
    "# 3 save preprocessing without setting channel positions to avoide a strange bug in decoding"
   ]
  },
  {
   "cell_type": "code",
   "execution_count": null,
   "metadata": {},
   "outputs": [],
   "source": [
    "for s in range(1,41):\n",
    "    # if we preprocessed the subject already, go on with next subject\n",
    "    if s in [1,17,31]:\n",
    "        continue\n",
    "        \n",
    "    # build the name for reading the data\n",
    "    if len(str(s)) > 1:\n",
    "        sub = '0' + str(s)\n",
    "    else:\n",
    "        sub = '00' + str(s)\n",
    "    raw = load_data(path, sub)\n",
    "    raw = filter_data(raw, 0.5, 50)\n",
    "    \n",
    "    # load preprocessing information\n",
    "    annotations, bad_ch = load_precomputed_badData(bids_root=path, subject_id=sub, task=\"N170\")\n",
    "    ica, bad_components = load_precomputed_ica(bids_root=path, subject_id=sub, task=\"N170\")\n",
    "    ica.apply(raw, exclude=bad_components)\n",
    "    \n",
    "    # rereference the data by the average\n",
    "    raw_rereference, _  = mne.set_eeg_reference(raw, 'average', projection=True)\n",
    "    raw_rereference.apply_proj()\n",
    "    \n",
    "    save_path = path + \"/sub-\" + sub + temp_path + \"sub-\" + sub +\"_cleaned_no_channel_positions.fif\"\n",
    "    #raw_rereference.save(save_path, overwrite=True)\n",
    "print('DONE')"
   ]
  }
 ],
 "metadata": {
  "kernelspec": {
   "display_name": "Python 3",
   "language": "python",
   "name": "python3"
  },
  "language_info": {
   "codemirror_mode": {
    "name": "ipython",
    "version": 3
   },
   "file_extension": ".py",
   "mimetype": "text/x-python",
   "name": "python",
   "nbconvert_exporter": "python",
   "pygments_lexer": "ipython3",
   "version": "3.8.3"
  }
 },
 "nbformat": 4,
 "nbformat_minor": 4
}
