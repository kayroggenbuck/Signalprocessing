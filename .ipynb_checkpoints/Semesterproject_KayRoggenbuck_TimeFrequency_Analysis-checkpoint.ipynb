{
 "cells": [
  {
   "cell_type": "markdown",
   "metadata": {},
   "source": [
    "# Helper Function"
   ]
  },
  {
   "cell_type": "code",
   "execution_count": null,
   "metadata": {},
   "outputs": [],
   "source": [
    "def plot_statistic(to_show, y_scale, ext, title):\n",
    "    \"\"\"\n",
    "    to_show: the statistic to plot (in my case F)\n",
    "    y_scale: the scale of the resulting heatmap (in my case the frequencies)\n",
    "    \n",
    "    calculates a heatmap based on the statistic (to_show).\n",
    "    \"\"\"\n",
    "    plt.title(title)\n",
    "    plt.imshow(to_show, aspect='auto', origin='lower', extent=ext, cmap=cm.RdBu_r)\n",
    "    plt.ylabel('Frequencies [Hz]')\n",
    "    plt.xlabel('time [ms]')\n",
    "    # to ensure a readable y-axis\n",
    "    tick_positions = [1,5,10,15,20,25,30,35,40,45,50]\n",
    "    ticks = [round(y_scale[i*2 - 1],2) for i in range(len(y_scale)) if i in tick_positions]\n",
    "    plt.yticks(tick_positions, ticks)\n",
    "    plt.colorbar()\n",
    "    plt.show()"
   ]
  },
  {
   "cell_type": "markdown",
   "metadata": {},
   "source": [
    "# -------------------------------------------------------------------------------------"
   ]
  },
  {
   "cell_type": "markdown",
   "metadata": {},
   "source": [
    "# Imports and important variables"
   ]
  },
  {
   "cell_type": "code",
   "execution_count": null,
   "metadata": {},
   "outputs": [],
   "source": [
    "import osfclient\n",
    "import mne\n",
    "import mne_bids\n",
    "import numpy as np\n",
    "import scipy\n",
    "import ccs_eeg_utils\n",
    "import ccs_eeg_semesterproject\n",
    "import itertools\n",
    "from mne_bids import (BIDSPath,read_raw_bids)\n",
    "from matplotlib import pyplot as plt\n",
    "from importlib import reload \n",
    "from matplotlib import cm\n",
    "\n",
    "from helper_functions import *\n",
    "\n",
    "%matplotlib qt\n",
    "path = \"../local/bidsN170\"\n",
    "temp_path = \"/ses-N170/eeg/\"\n",
    "sub = '001'\n",
    "\n",
    "# INFO, WARNING\n",
    "mne.set_log_level(verbose='INFO')"
   ]
  },
  {
   "cell_type": "code",
   "execution_count": null,
   "metadata": {},
   "outputs": [],
   "source": [
    "read_path = path + \"/sub-\" + sub + temp_path + \"sub-\" + sub +\"_cleaned.fif\"\n",
    "raw = mne.io.read_raw_fif(read_path)\n",
    "\n",
    "epochs, events = load_epochs(raw)\n",
    "epochs.drop_bad()"
   ]
  },
  {
   "cell_type": "code",
   "execution_count": null,
   "metadata": {},
   "outputs": [],
   "source": [
    "# extract the different stimuli and conditions\n",
    "evoked_face_normal = epochs[[\"stimulus:{}\".format(k) for k in range(1,41)]].average()\n",
    "evoked_car_normal = epochs[[\"stimulus:{}\".format(k) for k in range(41,81)]].average()\n",
    "evoked_face_scrambled = epochs[[\"stimulus:{}\".format(k) for k in range(101,141)]].average()\n",
    "evoked_car_scrambled = epochs[[\"stimulus:{}\".format(k) for k in range(141,181)]].average()"
   ]
  },
  {
   "cell_type": "code",
   "execution_count": null,
   "metadata": {},
   "outputs": [],
   "source": [
    "# a first look at the different stimuli\n",
    "times = np.linspace(0.13, 0.2, 5)\n",
    "fig = evoked_face_normal.plot_topomap(times=times, title='evoked normal faces')\n",
    "fig = evoked_car_normal.plot_topomap(times=times, title='evoked normal cars')\n",
    "fig = evoked_face_scrambled.plot_topomap(times=times, title='evoked scrambled faces')\n",
    "fig = evoked_car_scrambled.plot_topomap(times=times, title='evoked scrambled cars')"
   ]
  },
  {
   "cell_type": "markdown",
   "metadata": {},
   "source": [
    "# -------------------------------------------------------------------------------------"
   ]
  },
  {
   "cell_type": "markdown",
   "metadata": {},
   "source": [
    "# Time Frequency Analysis"
   ]
  },
  {
   "cell_type": "code",
   "execution_count": null,
   "metadata": {},
   "outputs": [],
   "source": [
    "# collect the data from the different stimuli\n",
    "epochs.load_data()\n",
    "intact_faces_epochs = epochs[[\"stimulus:{}\".format(k) for k in range(1,41)]] #.pick_channels([\"P7\"])\n",
    "scrambled_faces_epochs = epochs[[\"stimulus:{}\".format(k) for k in range(101,141)]] #.pick_channels([\"P7\"])\n",
    "intact_cars_epochs = epochs[[\"stimulus:{}\".format(k) for k in range(41,81)]] #.pick_channels([\"P7\"])\n",
    "scrambled_cars_epochs = epochs[[\"stimulus:{}\".format(k) for k in range(141,181)]] #.pick_channels([\"P7\"])\n",
    "\n",
    "# combine the data from scrambled faces, intact cars and scrambled cars\n",
    "new_range = itertools.chain(range(101,141), range(41,81), range(141,181))\n",
    "all_but_if_epochs = epochs[[\"stimulus:{}\".format(k) for k in new_range]]"
   ]
  },
  {
   "cell_type": "markdown",
   "metadata": {},
   "source": [
    "# 1. For One Subject"
   ]
  },
  {
   "cell_type": "code",
   "execution_count": null,
   "metadata": {},
   "outputs": [],
   "source": [
    "# The important variables for the analysis\n",
    "# logspace for a higher resolution in the lower frequencies\n",
    "freqs = np.logspace(*np.log10([0.1, 50]), num=100)\n",
    "# chose the number of cycles based on the frequency to get a trade-off of the different resolutions\n",
    "n_cycles = freqs/2\n",
    "baseline = [-0.2,0]"
   ]
  },
  {
   "cell_type": "markdown",
   "metadata": {},
   "source": [
    "## a) choose stimulus"
   ]
  },
  {
   "cell_type": "code",
   "execution_count": null,
   "metadata": {},
   "outputs": [],
   "source": [
    "epochs_induced_if = intact_faces_epochs.copy()\n",
    "epochs_induced_sf = scrambled_faces_epochs.copy()\n",
    "epochs_induced_ic = intact_cars_epochs.copy()\n",
    "epochs_induced_sc = scrambled_cars_epochs.copy()\n",
    "epochs_induced_all = epochs.copy()\n",
    "epochs_induced_all_but_if = all_but_if_epochs.copy()"
   ]
  },
  {
   "cell_type": "code",
   "execution_count": null,
   "metadata": {},
   "outputs": [],
   "source": [
    "# calculate the induced of the different stimuli epochs\n",
    "epochs_induced_if.subtract_evoked()\n",
    "epochs_induced_sf.subtract_evoked()\n",
    "epochs_induced_ic.subtract_evoked()\n",
    "epochs_induced_sc.subtract_evoked()\n",
    "epochs_induced_all.subtract_evoked()\n",
    "epochs_induced_all_but_if.subtract_evoked()"
   ]
  },
  {
   "cell_type": "markdown",
   "metadata": {},
   "source": [
    "## b) Power Total"
   ]
  },
  {
   "cell_type": "code",
   "execution_count": null,
   "metadata": {},
   "outputs": [],
   "source": [
    "power_total = mne.time_frequency.tfr_morlet(epochs, \n",
    "                        freqs=freqs, n_cycles=n_cycles, return_itc=False,n_jobs=4,average=True)#,picks='Cz')"
   ]
  },
  {
   "cell_type": "code",
   "execution_count": null,
   "metadata": {},
   "outputs": [],
   "source": [
    "# to get a first insight in what happens for the different channels\n",
    "%matplotlib qt\n",
    "power_total.plot_topo(baseline=baseline,mode='percent',vmin=vmin,vmax=vmax);"
   ]
  },
  {
   "cell_type": "markdown",
   "metadata": {},
   "source": [
    "## c) Induced "
   ]
  },
  {
   "cell_type": "code",
   "execution_count": null,
   "metadata": {},
   "outputs": [],
   "source": [
    "power_induced_if = mne.time_frequency.tfr_morlet(epochs_induced_if, freqs=freqs, \n",
    "                            n_cycles=n_cycles, return_itc=False,n_jobs=4,average=True)#,picks=\"P7\")"
   ]
  },
  {
   "cell_type": "code",
   "execution_count": null,
   "metadata": {},
   "outputs": [],
   "source": [
    "power_induced_all_but_if = mne.time_frequency.tfr_morlet(epochs_induced_all_but_if, freqs=freqs, \n",
    "                            n_cycles=n_cycles, return_itc=False,n_jobs=4,average=True)#,picks=\"P7\")"
   ]
  },
  {
   "cell_type": "code",
   "execution_count": null,
   "metadata": {},
   "outputs": [],
   "source": [
    "power_induced_sf = mne.time_frequency.tfr_morlet(epochs_induced_sf, freqs=freqs, \n",
    "                            n_cycles=n_cycles, return_itc=False,n_jobs=4,average=True)#,picks=\"P7\")\n",
    "power_induced_ic = mne.time_frequency.tfr_morlet(epochs_induced_ic, freqs=freqs, \n",
    "                            n_cycles=n_cycles, return_itc=False,n_jobs=4,average=True)#,picks=\"P7\")\n",
    "power_induced_sc = mne.time_frequency.tfr_morlet(epochs_induced_sc, freqs=freqs, \n",
    "                            n_cycles=n_cycles, return_itc=False,n_jobs=4,average=True)#,picks=\"P7\")"
   ]
  },
  {
   "cell_type": "markdown",
   "metadata": {},
   "source": [
    "## d) Bands for Induced Intact Faces"
   ]
  },
  {
   "cell_type": "code",
   "execution_count": null,
   "metadata": {},
   "outputs": [],
   "source": [
    "%matplotlib qt\n",
    "fig, axis = plt.subplots(1, 5, figsize=(7, 4))\n",
    "power_induced_if.plot_topomap(tmin=0.13, tmax=0.2, fmin=8, fmax=12,\n",
    "                   baseline=baseline, mode='logratio', axes=axis[0],\n",
    "                   title='Alpha', show=False)\n",
    "power_induced_if.plot_topomap(tmin=0.13, tmax=0.2, fmin=13, fmax=25,\n",
    "                   baseline=baseline, mode='logratio', axes=axis[1],\n",
    "                   title='Beta', show=False)\n",
    "power_induced_if.plot_topomap(tmin=0.13, tmax=0.2, fmin=26, fmax=40,\n",
    "                   baseline=baseline, mode='logratio', axes=axis[2],\n",
    "                   title='Gamma', show=False)\n",
    "power_induced_if.plot_topomap(tmin=0.13, tmax=0.2, fmin=1, fmax=4,\n",
    "                   baseline=baseline, mode='logratio', axes=axis[3],\n",
    "                   title='Delta', show=False)\n",
    "power_induced_if.plot_topomap(tmin=0.13, tmax=0.2, fmin=4, fmax=8,\n",
    "                   baseline=baseline, mode='logratio', axes=axis[4],\n",
    "                   title='Theta', show=False)\n",
    "#mne.viz.tight_layout()\n",
    "plt.show()"
   ]
  },
  {
   "cell_type": "markdown",
   "metadata": {},
   "source": [
    "# -------------------------------------------------------------------------------------"
   ]
  },
  {
   "cell_type": "markdown",
   "metadata": {},
   "source": [
    "# 2. For All Subjects"
   ]
  },
  {
   "cell_type": "code",
   "execution_count": null,
   "metadata": {},
   "outputs": [],
   "source": [
    "# these variables are the same as for one subject\n",
    "freqs = np.logspace(*np.log10([0.1, 50]), num=100)\n",
    "n_cycles = freqs/2\n",
    "baseline = [-0.5,-0.4]\n",
    "\n",
    "stimulus1 = []\n",
    "stimulus2 = []\n",
    "\n",
    "for s in range(1,41):\n",
    "    if len(str(s)) > 1:\n",
    "        sub = '0' + str(s)\n",
    "    else:\n",
    "        sub = '00' + str(s)\n",
    "    read_path = path + \"/sub-\" + sub + temp_path + \"sub-\" + sub +\"_cleaned.fif\"\n",
    "    raw = mne.io.read_raw_fif(read_path)\n",
    "    \n",
    "    \n",
    "    epochs, evts_dict = load_epochs(raw)\n",
    "    epochs.drop_bad()\n",
    "    \n",
    "    # get the epochs of interest\n",
    "    \n",
    "    ############################\n",
    "    ###     intact faces     ###\n",
    "    ############################\n",
    "    intact_faces_epochs = epochs[[\"stimulus:{}\".format(k) for k in range(1,41)]]\n",
    "    epochs_induced_if = intact_faces_epochs.copy()\n",
    "    epochs_induced_if.subtract_evoked()\n",
    "    power_induced_if = mne.time_frequency.tfr_morlet(epochs_induced_if, freqs=freqs, \n",
    "                            n_cycles=n_cycles, return_itc=False,n_jobs=4,average=True)\n",
    "    power_induced_if_no_baseline = power_induced_if.copy()\n",
    "    power_induced_if.apply_baseline(mode='ratio', baseline=baseline)\n",
    "    \n",
    "    \n",
    "    ####################################\n",
    "    ###     all but intact faces     ###\n",
    "    ####################################\n",
    "    new_range = itertools.chain(range(101,141), range(41,81), range(141,181))\n",
    "    all_but_if_epochs = epochs[[\"stimulus:{}\".format(k) for k in new_range]]\n",
    "    epochs_induced_all_but_if = all_but_if_epochs.copy()\n",
    "    epochs_induced_all_but_if.subtract_evoked()\n",
    "    power_induced_all_but_if = mne.time_frequency.tfr_morlet(epochs_induced_all_but_if, freqs=freqs, \n",
    "                            n_cycles=n_cycles, return_itc=False,n_jobs=4,average=True)\n",
    "    power_induced_all_but_if.apply_baseline(mode='ratio', baseline=baseline)\n",
    "    \n",
    "    \n",
    "    ###############################\n",
    "    ###     scrambled faces     ###\n",
    "    ###############################\n",
    "    \"\"\"\n",
    "    scrambled_faces_epochs = epochs[[\"stimulus:{}\".format(k) for k in range(101,141)]]\n",
    "    epochs_induced_sf = scrambled_faces_epochs.copy()\n",
    "    epochs_induced_sf.subtract_evoked()\n",
    "    \"\"\"\n",
    "    ############################\n",
    "    ###     intact cars      ###\n",
    "    ############################\n",
    "    \"\"\"\n",
    "    intact_cars_epochs = epochs[[\"stimulus:{}\".format(k) for k in range(41,81)]]\n",
    "    epochs_induced_ic = intact_cars_epochs.copy()\n",
    "    epochs_induced_ic.subtract_evoked()\n",
    "    \"\"\"\n",
    "    ##############################\n",
    "    ###     scrambled cars     ###\n",
    "    ##############################\n",
    "    \"\"\"\n",
    "    scrambled_cars_epochs = epochs[[\"stimulus:{}\".format(k) for k in range(141,181)]]\n",
    "    epochs_induced_sc = scrambled_cars_epochs.copy()\n",
    "    epochs_induced_sc.subtract_evoked()\n",
    "    \"\"\"\n",
    "    \n",
    "\n",
    "    stimulus1.append(power_induced_if)\n",
    "    stimulus2.append(power_induced_all_but_if)\n",
    "\n",
    "print('DONE')"
   ]
  },
  {
   "cell_type": "code",
   "execution_count": null,
   "metadata": {},
   "outputs": [],
   "source": [
    "# calculate the grand average of the considered stimuli\n",
    "induced_stimulus_1 = mne.grand_average(stimulus1)\n",
    "induced_stimulus_2 = mne.grand_average(stimulus2)"
   ]
  },
  {
   "cell_type": "code",
   "execution_count": null,
   "metadata": {},
   "outputs": [],
   "source": [
    "# get the data of the considered stimuli\n",
    "average_tfr_stim1 = induced_stimulus_1.data\n",
    "average_tfr_stim2 = induced_stimulus_2.data"
   ]
  },
  {
   "cell_type": "markdown",
   "metadata": {},
   "source": [
    "## Bands for the considered stimulus"
   ]
  },
  {
   "cell_type": "code",
   "execution_count": null,
   "metadata": {},
   "outputs": [],
   "source": [
    "\n",
    "%matplotlib qt\n",
    "fig, axis = plt.subplots(1, 5, figsize=(7, 4))\n",
    "induced_stimulus_2.plot_topomap(tmin=0.13, tmax=0.2, fmin=8, fmax=12,\n",
    "                   baseline=baseline, mode='logratio', axes=axis[0],\n",
    "                   title='Alpha', show=False)\n",
    "induced_stimulus_2.plot_topomap(tmin=0.13, tmax=0.2, fmin=13, fmax=25,\n",
    "                   baseline=baseline, mode='logratio', axes=axis[1],\n",
    "                   title='Beta', show=False)\n",
    "induced_stimulus_2.plot_topomap(tmin=0.13, tmax=0.2, fmin=26, fmax=40,\n",
    "                   baseline=baseline, mode='logratio', axes=axis[2],\n",
    "                   title='Gamma', show=False)\n",
    "induced_stimulus_2.plot_topomap(tmin=0.13, tmax=0.2, fmin=1, fmax=4,\n",
    "                   baseline=baseline, mode='logratio', axes=axis[3],\n",
    "                   title='Delta', show=False)\n",
    "induced_stimulus_2.plot_topomap(tmin=0.13, tmax=0.2, fmin=4, fmax=8,\n",
    "                   baseline=baseline, mode='logratio', axes=axis[4],\n",
    "                   title='Theta', show=False)\n",
    "#mne.viz.tight_layout()\n",
    "plt.show()"
   ]
  },
  {
   "cell_type": "markdown",
   "metadata": {},
   "source": [
    "## Save the Data"
   ]
  },
  {
   "cell_type": "code",
   "execution_count": null,
   "metadata": {},
   "outputs": [],
   "source": [
    "#save_array('./tfr_data/induced_intact_faces_morelet.npy', average_tfr_stim1)\n",
    "#save_array('./tfr_data/induced_all_but_if_morelet.npy', average_tfr_stim2)"
   ]
  },
  {
   "cell_type": "markdown",
   "metadata": {},
   "source": [
    "## Load the Data"
   ]
  },
  {
   "cell_type": "code",
   "execution_count": null,
   "metadata": {},
   "outputs": [],
   "source": [
    "average_tfr_stim1 = load_array_from_memory('./tfr_data/induced_intact_faces_morelet.npy')\n",
    "average_tfr_stim2 = load_array_from_memory('./tfr_data/induced_all_but_if_morelet.npy')"
   ]
  },
  {
   "cell_type": "markdown",
   "metadata": {},
   "source": [
    "## Calculae the Cluster Permutation Test"
   ]
  },
  {
   "cell_type": "code",
   "execution_count": null,
   "metadata": {},
   "outputs": [],
   "source": [
    "F, clusters, cluster_ps, _ = mne.stats.permutation_cluster_test(\n",
    "            [average_tfr_stim1, average_tfr_stim2], n_jobs=4, seed=1234)"
   ]
  },
  {
   "cell_type": "code",
   "execution_count": null,
   "metadata": {},
   "outputs": [],
   "source": [
    "# sanity check for the shape of F\n",
    "print(F.shape)"
   ]
  },
  {
   "cell_type": "code",
   "execution_count": null,
   "metadata": {},
   "outputs": [],
   "source": [
    "# borders of the heatmap (plot of the calculated statistic from the cluster permutation test)\n",
    "ext = [power_induced_if.times[0], power_induced_if.times[-1], freqs[0], freqs[-1]]"
   ]
  },
  {
   "cell_type": "code",
   "execution_count": null,
   "metadata": {},
   "outputs": [],
   "source": [
    "print(ext)"
   ]
  },
  {
   "cell_type": "code",
   "execution_count": null,
   "metadata": {},
   "outputs": [],
   "source": [
    "# plot all clusters\n",
    "plot_statistic(F, freqs, ext, 'F value of the cluster permutation test')"
   ]
  },
  {
   "cell_type": "code",
   "execution_count": null,
   "metadata": {},
   "outputs": [],
   "source": [
    "# calculate the significant clusters\n",
    "significant_clusters = np.zeros(F.shape)\n",
    "for current_cluster, p in zip(clusters, cluster_ps):\n",
    "    print(p)\n",
    "    if p < 0.05:\n",
    "        significant_clusters[current_cluster] = F[current_cluster]\n",
    "\n",
    "# plot only significant cluster\n",
    "plot_statistic(significant_clusters, freqs, ext, 'F value of significant of the cluster permutation test')"
   ]
  },
  {
   "cell_type": "markdown",
   "metadata": {},
   "source": [
    "# -------------------------------------------------------------------------------------"
   ]
  },
  {
   "cell_type": "markdown",
   "metadata": {},
   "source": [
    "# Doctests"
   ]
  },
  {
   "cell_type": "code",
   "execution_count": null,
   "metadata": {},
   "outputs": [],
   "source": [
    "def equality(a, b):\n",
    "    '''\n",
    "    Test the 2. dimension of intact_faces_epochs and all_but_if_epochs.get_data\n",
    "    >>> equality(intact_faces_epochs.get_data().shape[1], all_but_if_epochs.get_data().shape[1])\n",
    "    True\n",
    "\n",
    "    Test the 3. dimension of intact_faces_epochs and all_but_if_epochs.get_data\n",
    "    >>> equality(intact_faces_epochs.get_data().shape[2], all_but_if_epochs.get_data().shape[2])\n",
    "    True\n",
    "    '''\n",
    "    return a == b"
   ]
  },
  {
   "cell_type": "code",
   "execution_count": null,
   "metadata": {},
   "outputs": [],
   "source": [
    "def test_save_load(input_array):\n",
    "    '''\n",
    "    >>> test_save_load([1, 2, 3, 4, 5])\n",
    "    True\n",
    "    \n",
    "    >>> test_save_load(average_tfr_stim1)\n",
    "    True\n",
    "    \n",
    "    >>> test_save_load(average_tfr_stim2)\n",
    "    True\n",
    "    '''\n",
    "    save_array('./test/test.npy', input_array)\n",
    "    loaded_array = load_array_from_memory('./test/test.npy')\n",
    "    \n",
    "    return np.array_equal(input_array, loaded_array)"
   ]
  },
  {
   "cell_type": "code",
   "execution_count": null,
   "metadata": {},
   "outputs": [],
   "source": [
    "import doctest\n",
    "doctest.testmod(verbose=True)"
   ]
  }
 ],
 "metadata": {
  "kernelspec": {
   "display_name": "Python 3",
   "language": "python",
   "name": "python3"
  },
  "language_info": {
   "codemirror_mode": {
    "name": "ipython",
    "version": 3
   },
   "file_extension": ".py",
   "mimetype": "text/x-python",
   "name": "python",
   "nbconvert_exporter": "python",
   "pygments_lexer": "ipython3",
   "version": "3.8.3"
  }
 },
 "nbformat": 4,
 "nbformat_minor": 4
}
