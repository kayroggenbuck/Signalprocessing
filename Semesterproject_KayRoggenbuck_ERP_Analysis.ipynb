{
 "cells": [
  {
   "cell_type": "markdown",
   "metadata": {},
   "source": [
    "# Load Data"
   ]
  },
  {
   "cell_type": "code",
   "execution_count": 1,
   "metadata": {
    "scrolled": true
   },
   "outputs": [],
   "source": [
    "import osfclient\n",
    "import mne\n",
    "import mne_bids\n",
    "import numpy as np\n",
    "import ccs_eeg_utils\n",
    "import ccs_eeg_semesterproject\n",
    "from mne_bids import (BIDSPath,read_raw_bids)\n",
    "from matplotlib import pyplot as plt\n",
    "from importlib import reload \n",
    "\n",
    "from helper_functions import *\n",
    "\n",
    "%matplotlib qt\n",
    "path = \"../local/bidsN170\"\n",
    "temp_path = \"/ses-N170/eeg/\""
   ]
  },
  {
   "cell_type": "markdown",
   "metadata": {},
   "source": [
    "# Analysis all"
   ]
  },
  {
   "cell_type": "code",
   "execution_count": 2,
   "metadata": {
    "scrolled": true
   },
   "outputs": [
    {
     "name": "stdout",
     "output_type": "stream",
     "text": [
      "Subject 1############################################\n",
      "Opening raw data file ../local/bidsN170/sub-001/ses-N170/eeg/sub-001_cleaned.fif...\n"
     ]
    },
    {
     "name": "stderr",
     "output_type": "stream",
     "text": [
      "<ipython-input-2-d8f6c74b3870>:23: RuntimeWarning: This filename (../local/bidsN170/sub-001/ses-N170/eeg/sub-001_cleaned.fif) does not conform to MNE naming conventions. All raw files should end with raw.fif, raw_sss.fif, raw_tsss.fif, raw.fif.gz, raw_sss.fif.gz, raw_tsss.fif.gz or _meg.fif\n",
      "  raw = mne.io.read_raw_fif(read_path)\n"
     ]
    },
    {
     "name": "stdout",
     "output_type": "stream",
     "text": [
      "    Read a total of 1 projection items:\n",
      "        Average EEG reference (1 x 30) active\n",
      "    Range : 0 ... 699391 =      0.000 ...   682.999 secs\n",
      "Ready.\n",
      "Used Annotations descriptions: ['response:201', 'response:202', 'stimulus:1', 'stimulus:10', 'stimulus:101', 'stimulus:102', 'stimulus:103', 'stimulus:104', 'stimulus:105', 'stimulus:106', 'stimulus:107', 'stimulus:108', 'stimulus:109', 'stimulus:11', 'stimulus:110', 'stimulus:111', 'stimulus:112', 'stimulus:113', 'stimulus:114', 'stimulus:115', 'stimulus:116', 'stimulus:117', 'stimulus:118', 'stimulus:119', 'stimulus:12', 'stimulus:120', 'stimulus:121', 'stimulus:122', 'stimulus:123', 'stimulus:124', 'stimulus:125', 'stimulus:126', 'stimulus:127', 'stimulus:128', 'stimulus:129', 'stimulus:13', 'stimulus:130', 'stimulus:131', 'stimulus:132', 'stimulus:133', 'stimulus:134', 'stimulus:135', 'stimulus:136', 'stimulus:137', 'stimulus:138', 'stimulus:139', 'stimulus:14', 'stimulus:140', 'stimulus:141', 'stimulus:142', 'stimulus:143', 'stimulus:144', 'stimulus:145', 'stimulus:146', 'stimulus:147', 'stimulus:148', 'stimulus:149', 'stimulus:15', 'stimulus:150', 'stimulus:151', 'stimulus:152', 'stimulus:153', 'stimulus:154', 'stimulus:155', 'stimulus:156', 'stimulus:157', 'stimulus:158', 'stimulus:159', 'stimulus:16', 'stimulus:160', 'stimulus:161', 'stimulus:162', 'stimulus:163', 'stimulus:164', 'stimulus:165', 'stimulus:166', 'stimulus:167', 'stimulus:168', 'stimulus:169', 'stimulus:17', 'stimulus:170', 'stimulus:171', 'stimulus:172', 'stimulus:173', 'stimulus:174', 'stimulus:175', 'stimulus:176', 'stimulus:177', 'stimulus:178', 'stimulus:179', 'stimulus:18', 'stimulus:180', 'stimulus:19', 'stimulus:2', 'stimulus:20', 'stimulus:21', 'stimulus:22', 'stimulus:23', 'stimulus:24', 'stimulus:25', 'stimulus:26', 'stimulus:27', 'stimulus:28', 'stimulus:29', 'stimulus:3', 'stimulus:30', 'stimulus:31', 'stimulus:32', 'stimulus:33', 'stimulus:34', 'stimulus:35', 'stimulus:36', 'stimulus:37', 'stimulus:38', 'stimulus:39', 'stimulus:4', 'stimulus:40', 'stimulus:41', 'stimulus:42', 'stimulus:43', 'stimulus:44', 'stimulus:45', 'stimulus:46', 'stimulus:47', 'stimulus:48', 'stimulus:49', 'stimulus:5', 'stimulus:50', 'stimulus:51', 'stimulus:52', 'stimulus:53', 'stimulus:54', 'stimulus:55', 'stimulus:56', 'stimulus:57', 'stimulus:58', 'stimulus:59', 'stimulus:6', 'stimulus:60', 'stimulus:61', 'stimulus:62', 'stimulus:63', 'stimulus:64', 'stimulus:65', 'stimulus:66', 'stimulus:67', 'stimulus:68', 'stimulus:69', 'stimulus:7', 'stimulus:70', 'stimulus:71', 'stimulus:72', 'stimulus:73', 'stimulus:74', 'stimulus:75', 'stimulus:76', 'stimulus:77', 'stimulus:78', 'stimulus:79', 'stimulus:8', 'stimulus:80', 'stimulus:9']\n",
      "Not setting metadata\n",
      "Not setting metadata\n",
      "319 matching events found\n",
      "Setting baseline interval to [-0.099609375, 0.0] sec\n",
      "Applying baseline correction (mode: mean)\n",
      "Created an SSP operator (subspace dimension = 1)\n",
      "1 projection items activated\n",
      "Loading data for 319 events and 1127 original time points ...\n",
      "0 bad epochs dropped\n",
      "Loading data for 319 events and 1127 original time points ...\n",
      "Subject 2############################################\n",
      "Opening raw data file ../local/bidsN170/sub-002/ses-N170/eeg/sub-002_cleaned.fif...\n",
      "    Read a total of 1 projection items:\n"
     ]
    },
    {
     "name": "stderr",
     "output_type": "stream",
     "text": [
      "<ipython-input-2-d8f6c74b3870>:23: RuntimeWarning: This filename (../local/bidsN170/sub-002/ses-N170/eeg/sub-002_cleaned.fif) does not conform to MNE naming conventions. All raw files should end with raw.fif, raw_sss.fif, raw_tsss.fif, raw.fif.gz, raw_sss.fif.gz, raw_tsss.fif.gz or _meg.fif\n",
      "  raw = mne.io.read_raw_fif(read_path)\n"
     ]
    },
    {
     "name": "stdout",
     "output_type": "stream",
     "text": [
      "        Average EEG reference (1 x 30) active\n",
      "    Range : 0 ... 683007 =      0.000 ...   666.999 secs\n",
      "Ready.\n",
      "Used Annotations descriptions: ['response:201', 'response:202', 'stimulus:1', 'stimulus:10', 'stimulus:101', 'stimulus:102', 'stimulus:103', 'stimulus:104', 'stimulus:105', 'stimulus:106', 'stimulus:107', 'stimulus:108', 'stimulus:109', 'stimulus:11', 'stimulus:110', 'stimulus:111', 'stimulus:112', 'stimulus:113', 'stimulus:114', 'stimulus:115', 'stimulus:116', 'stimulus:117', 'stimulus:118', 'stimulus:119', 'stimulus:12', 'stimulus:120', 'stimulus:121', 'stimulus:122', 'stimulus:123', 'stimulus:124', 'stimulus:125', 'stimulus:126', 'stimulus:127', 'stimulus:128', 'stimulus:129', 'stimulus:13', 'stimulus:130', 'stimulus:131', 'stimulus:132', 'stimulus:133', 'stimulus:134', 'stimulus:135', 'stimulus:136', 'stimulus:137', 'stimulus:138', 'stimulus:139', 'stimulus:14', 'stimulus:140', 'stimulus:141', 'stimulus:142', 'stimulus:143', 'stimulus:144', 'stimulus:145', 'stimulus:146', 'stimulus:147', 'stimulus:148', 'stimulus:149', 'stimulus:15', 'stimulus:150', 'stimulus:151', 'stimulus:152', 'stimulus:153', 'stimulus:154', 'stimulus:155', 'stimulus:156', 'stimulus:157', 'stimulus:158', 'stimulus:159', 'stimulus:16', 'stimulus:160', 'stimulus:161', 'stimulus:162', 'stimulus:163', 'stimulus:164', 'stimulus:165', 'stimulus:166', 'stimulus:167', 'stimulus:168', 'stimulus:169', 'stimulus:17', 'stimulus:170', 'stimulus:171', 'stimulus:172', 'stimulus:173', 'stimulus:174', 'stimulus:175', 'stimulus:176', 'stimulus:177', 'stimulus:178', 'stimulus:179', 'stimulus:18', 'stimulus:180', 'stimulus:19', 'stimulus:2', 'stimulus:20', 'stimulus:21', 'stimulus:22', 'stimulus:23', 'stimulus:24', 'stimulus:25', 'stimulus:26', 'stimulus:27', 'stimulus:28', 'stimulus:29', 'stimulus:3', 'stimulus:30', 'stimulus:31', 'stimulus:32', 'stimulus:33', 'stimulus:34', 'stimulus:35', 'stimulus:36', 'stimulus:37', 'stimulus:38', 'stimulus:39', 'stimulus:4', 'stimulus:40', 'stimulus:41', 'stimulus:42', 'stimulus:43', 'stimulus:44', 'stimulus:45', 'stimulus:46', 'stimulus:47', 'stimulus:48', 'stimulus:49', 'stimulus:5', 'stimulus:50', 'stimulus:51', 'stimulus:52', 'stimulus:53', 'stimulus:54', 'stimulus:55', 'stimulus:56', 'stimulus:57', 'stimulus:58', 'stimulus:59', 'stimulus:6', 'stimulus:60', 'stimulus:61', 'stimulus:62', 'stimulus:63', 'stimulus:64', 'stimulus:65', 'stimulus:66', 'stimulus:67', 'stimulus:68', 'stimulus:69', 'stimulus:7', 'stimulus:70', 'stimulus:71', 'stimulus:72', 'stimulus:73', 'stimulus:74', 'stimulus:75', 'stimulus:76', 'stimulus:77', 'stimulus:78', 'stimulus:79', 'stimulus:8', 'stimulus:80', 'stimulus:9']\n",
      "Not setting metadata\n",
      "Not setting metadata\n",
      "320 matching events found\n",
      "Setting baseline interval to [-0.099609375, 0.0] sec\n",
      "Applying baseline correction (mode: mean)\n",
      "Created an SSP operator (subspace dimension = 1)\n",
      "1 projection items activated\n",
      "Loading data for 320 events and 1127 original time points ...\n",
      "0 bad epochs dropped\n",
      "Loading data for 320 events and 1127 original time points ...\n",
      "Subject 3############################################\n",
      "Opening raw data file ../local/bidsN170/sub-003/ses-N170/eeg/sub-003_cleaned.fif...\n",
      "    Read a total of 1 projection items:\n",
      "        Average EEG reference (1 x 30) active\n",
      "    Range : 0 ... 579583 =      0.000 ...   565.999 secs\n"
     ]
    },
    {
     "name": "stderr",
     "output_type": "stream",
     "text": [
      "<ipython-input-2-d8f6c74b3870>:23: RuntimeWarning: This filename (../local/bidsN170/sub-003/ses-N170/eeg/sub-003_cleaned.fif) does not conform to MNE naming conventions. All raw files should end with raw.fif, raw_sss.fif, raw_tsss.fif, raw.fif.gz, raw_sss.fif.gz, raw_tsss.fif.gz or _meg.fif\n",
      "  raw = mne.io.read_raw_fif(read_path)\n"
     ]
    },
    {
     "name": "stdout",
     "output_type": "stream",
     "text": [
      "Ready.\n",
      "Used Annotations descriptions: ['response:201', 'response:202', 'stimulus:1', 'stimulus:10', 'stimulus:101', 'stimulus:102', 'stimulus:103', 'stimulus:104', 'stimulus:105', 'stimulus:106', 'stimulus:107', 'stimulus:108', 'stimulus:109', 'stimulus:11', 'stimulus:110', 'stimulus:111', 'stimulus:112', 'stimulus:113', 'stimulus:114', 'stimulus:115', 'stimulus:116', 'stimulus:117', 'stimulus:118', 'stimulus:119', 'stimulus:12', 'stimulus:120', 'stimulus:121', 'stimulus:122', 'stimulus:123', 'stimulus:124', 'stimulus:125', 'stimulus:126', 'stimulus:127', 'stimulus:128', 'stimulus:129', 'stimulus:13', 'stimulus:130', 'stimulus:131', 'stimulus:132', 'stimulus:133', 'stimulus:134', 'stimulus:135', 'stimulus:136', 'stimulus:137', 'stimulus:138', 'stimulus:139', 'stimulus:14', 'stimulus:140', 'stimulus:141', 'stimulus:142', 'stimulus:143', 'stimulus:144', 'stimulus:145', 'stimulus:146', 'stimulus:147', 'stimulus:148', 'stimulus:149', 'stimulus:15', 'stimulus:150', 'stimulus:151', 'stimulus:152', 'stimulus:153', 'stimulus:154', 'stimulus:155', 'stimulus:156', 'stimulus:157', 'stimulus:158', 'stimulus:159', 'stimulus:16', 'stimulus:160', 'stimulus:161', 'stimulus:162', 'stimulus:163', 'stimulus:164', 'stimulus:165', 'stimulus:166', 'stimulus:167', 'stimulus:168', 'stimulus:169', 'stimulus:17', 'stimulus:170', 'stimulus:171', 'stimulus:172', 'stimulus:173', 'stimulus:174', 'stimulus:175', 'stimulus:176', 'stimulus:177', 'stimulus:178', 'stimulus:179', 'stimulus:18', 'stimulus:180', 'stimulus:19', 'stimulus:2', 'stimulus:20', 'stimulus:21', 'stimulus:22', 'stimulus:23', 'stimulus:24', 'stimulus:25', 'stimulus:26', 'stimulus:27', 'stimulus:28', 'stimulus:29', 'stimulus:3', 'stimulus:30', 'stimulus:31', 'stimulus:32', 'stimulus:33', 'stimulus:34', 'stimulus:35', 'stimulus:36', 'stimulus:37', 'stimulus:38', 'stimulus:39', 'stimulus:4', 'stimulus:40', 'stimulus:41', 'stimulus:42', 'stimulus:43', 'stimulus:44', 'stimulus:45', 'stimulus:46', 'stimulus:47', 'stimulus:48', 'stimulus:49', 'stimulus:5', 'stimulus:50', 'stimulus:51', 'stimulus:52', 'stimulus:53', 'stimulus:54', 'stimulus:55', 'stimulus:56', 'stimulus:57', 'stimulus:58', 'stimulus:59', 'stimulus:6', 'stimulus:60', 'stimulus:61', 'stimulus:62', 'stimulus:63', 'stimulus:64', 'stimulus:65', 'stimulus:66', 'stimulus:67', 'stimulus:68', 'stimulus:69', 'stimulus:7', 'stimulus:70', 'stimulus:71', 'stimulus:72', 'stimulus:73', 'stimulus:74', 'stimulus:75', 'stimulus:76', 'stimulus:77', 'stimulus:78', 'stimulus:79', 'stimulus:8', 'stimulus:80', 'stimulus:9']\n",
      "Not setting metadata\n",
      "Not setting metadata\n",
      "320 matching events found\n",
      "Setting baseline interval to [-0.099609375, 0.0] sec\n",
      "Applying baseline correction (mode: mean)\n",
      "Created an SSP operator (subspace dimension = 1)\n",
      "1 projection items activated\n",
      "Loading data for 320 events and 1127 original time points ...\n",
      "0 bad epochs dropped\n",
      "Loading data for 320 events and 1127 original time points ...\n",
      "Subject 4############################################\n",
      "Opening raw data file ../local/bidsN170/sub-004/ses-N170/eeg/sub-004_cleaned.fif...\n",
      "    Read a total of 1 projection items:\n"
     ]
    },
    {
     "name": "stderr",
     "output_type": "stream",
     "text": [
      "<ipython-input-2-d8f6c74b3870>:23: RuntimeWarning: This filename (../local/bidsN170/sub-004/ses-N170/eeg/sub-004_cleaned.fif) does not conform to MNE naming conventions. All raw files should end with raw.fif, raw_sss.fif, raw_tsss.fif, raw.fif.gz, raw_sss.fif.gz, raw_tsss.fif.gz or _meg.fif\n",
      "  raw = mne.io.read_raw_fif(read_path)\n"
     ]
    },
    {
     "name": "stdout",
     "output_type": "stream",
     "text": [
      "        Average EEG reference (1 x 30) active\n",
      "    Range : 0 ... 649215 =      0.000 ...   633.999 secs\n",
      "Ready.\n",
      "Used Annotations descriptions: ['response:201', 'response:202', 'stimulus:1', 'stimulus:10', 'stimulus:101', 'stimulus:102', 'stimulus:103', 'stimulus:104', 'stimulus:105', 'stimulus:106', 'stimulus:107', 'stimulus:108', 'stimulus:109', 'stimulus:11', 'stimulus:110', 'stimulus:111', 'stimulus:112', 'stimulus:113', 'stimulus:114', 'stimulus:115', 'stimulus:116', 'stimulus:117', 'stimulus:118', 'stimulus:119', 'stimulus:12', 'stimulus:120', 'stimulus:121', 'stimulus:122', 'stimulus:123', 'stimulus:124', 'stimulus:125', 'stimulus:126', 'stimulus:127', 'stimulus:128', 'stimulus:129', 'stimulus:13', 'stimulus:130', 'stimulus:131', 'stimulus:132', 'stimulus:133', 'stimulus:134', 'stimulus:135', 'stimulus:136', 'stimulus:137', 'stimulus:138', 'stimulus:139', 'stimulus:14', 'stimulus:140', 'stimulus:141', 'stimulus:142', 'stimulus:143', 'stimulus:144', 'stimulus:145', 'stimulus:146', 'stimulus:147', 'stimulus:148', 'stimulus:149', 'stimulus:15', 'stimulus:150', 'stimulus:151', 'stimulus:152', 'stimulus:153', 'stimulus:154', 'stimulus:155', 'stimulus:156', 'stimulus:157', 'stimulus:158', 'stimulus:159', 'stimulus:16', 'stimulus:160', 'stimulus:161', 'stimulus:162', 'stimulus:163', 'stimulus:164', 'stimulus:165', 'stimulus:166', 'stimulus:167', 'stimulus:168', 'stimulus:169', 'stimulus:17', 'stimulus:170', 'stimulus:171', 'stimulus:172', 'stimulus:173', 'stimulus:174', 'stimulus:175', 'stimulus:176', 'stimulus:177', 'stimulus:178', 'stimulus:179', 'stimulus:18', 'stimulus:180', 'stimulus:19', 'stimulus:2', 'stimulus:20', 'stimulus:21', 'stimulus:22', 'stimulus:23', 'stimulus:24', 'stimulus:25', 'stimulus:26', 'stimulus:27', 'stimulus:28', 'stimulus:29', 'stimulus:3', 'stimulus:30', 'stimulus:31', 'stimulus:32', 'stimulus:33', 'stimulus:34', 'stimulus:35', 'stimulus:36', 'stimulus:37', 'stimulus:38', 'stimulus:39', 'stimulus:4', 'stimulus:40', 'stimulus:41', 'stimulus:42', 'stimulus:43', 'stimulus:44', 'stimulus:45', 'stimulus:46', 'stimulus:47', 'stimulus:48', 'stimulus:49', 'stimulus:5', 'stimulus:50', 'stimulus:51', 'stimulus:52', 'stimulus:53', 'stimulus:54', 'stimulus:55', 'stimulus:56', 'stimulus:57', 'stimulus:58', 'stimulus:59', 'stimulus:6', 'stimulus:60', 'stimulus:61', 'stimulus:62', 'stimulus:63', 'stimulus:64', 'stimulus:65', 'stimulus:66', 'stimulus:67', 'stimulus:68', 'stimulus:69', 'stimulus:7', 'stimulus:70', 'stimulus:71', 'stimulus:72', 'stimulus:73', 'stimulus:74', 'stimulus:75', 'stimulus:76', 'stimulus:77', 'stimulus:78', 'stimulus:79', 'stimulus:8', 'stimulus:80', 'stimulus:9']\n",
      "Not setting metadata\n",
      "Not setting metadata\n",
      "320 matching events found\n",
      "Setting baseline interval to [-0.099609375, 0.0] sec\n",
      "Applying baseline correction (mode: mean)\n",
      "Created an SSP operator (subspace dimension = 1)\n",
      "1 projection items activated\n",
      "Loading data for 320 events and 1127 original time points ...\n",
      "0 bad epochs dropped\n",
      "Loading data for 320 events and 1127 original time points ...\n",
      "Subject 5############################################\n",
      "Opening raw data file ../local/bidsN170/sub-005/ses-N170/eeg/sub-005_cleaned.fif...\n",
      "    Read a total of 1 projection items:\n"
     ]
    },
    {
     "name": "stderr",
     "output_type": "stream",
     "text": [
      "<ipython-input-2-d8f6c74b3870>:23: RuntimeWarning: This filename (../local/bidsN170/sub-005/ses-N170/eeg/sub-005_cleaned.fif) does not conform to MNE naming conventions. All raw files should end with raw.fif, raw_sss.fif, raw_tsss.fif, raw.fif.gz, raw_sss.fif.gz, raw_tsss.fif.gz or _meg.fif\n",
      "  raw = mne.io.read_raw_fif(read_path)\n"
     ]
    },
    {
     "name": "stdout",
     "output_type": "stream",
     "text": [
      "        Average EEG reference (1 x 30) active\n",
      "    Range : 0 ... 603135 =      0.000 ...   588.999 secs\n",
      "Ready.\n",
      "Used Annotations descriptions: ['response:201', 'response:202', 'stimulus:1', 'stimulus:10', 'stimulus:101', 'stimulus:102', 'stimulus:103', 'stimulus:104', 'stimulus:105', 'stimulus:106', 'stimulus:107', 'stimulus:108', 'stimulus:109', 'stimulus:11', 'stimulus:110', 'stimulus:111', 'stimulus:112', 'stimulus:113', 'stimulus:114', 'stimulus:115', 'stimulus:116', 'stimulus:117', 'stimulus:118', 'stimulus:119', 'stimulus:12', 'stimulus:120', 'stimulus:121', 'stimulus:122', 'stimulus:123', 'stimulus:124', 'stimulus:125', 'stimulus:126', 'stimulus:127', 'stimulus:128', 'stimulus:129', 'stimulus:13', 'stimulus:130', 'stimulus:131', 'stimulus:132', 'stimulus:133', 'stimulus:134', 'stimulus:135', 'stimulus:136', 'stimulus:137', 'stimulus:138', 'stimulus:139', 'stimulus:14', 'stimulus:140', 'stimulus:141', 'stimulus:142', 'stimulus:143', 'stimulus:144', 'stimulus:145', 'stimulus:146', 'stimulus:147', 'stimulus:148', 'stimulus:149', 'stimulus:15', 'stimulus:150', 'stimulus:151', 'stimulus:152', 'stimulus:153', 'stimulus:154', 'stimulus:155', 'stimulus:156', 'stimulus:157', 'stimulus:158', 'stimulus:159', 'stimulus:16', 'stimulus:160', 'stimulus:161', 'stimulus:162', 'stimulus:163', 'stimulus:164', 'stimulus:165', 'stimulus:166', 'stimulus:167', 'stimulus:168', 'stimulus:169', 'stimulus:17', 'stimulus:170', 'stimulus:171', 'stimulus:172', 'stimulus:173', 'stimulus:174', 'stimulus:175', 'stimulus:176', 'stimulus:177', 'stimulus:178', 'stimulus:179', 'stimulus:18', 'stimulus:180', 'stimulus:19', 'stimulus:2', 'stimulus:20', 'stimulus:21', 'stimulus:22', 'stimulus:23', 'stimulus:24', 'stimulus:25', 'stimulus:26', 'stimulus:27', 'stimulus:28', 'stimulus:29', 'stimulus:3', 'stimulus:30', 'stimulus:31', 'stimulus:32', 'stimulus:33', 'stimulus:34', 'stimulus:35', 'stimulus:36', 'stimulus:37', 'stimulus:38', 'stimulus:39', 'stimulus:4', 'stimulus:40', 'stimulus:41', 'stimulus:42', 'stimulus:43', 'stimulus:44', 'stimulus:45', 'stimulus:46', 'stimulus:47', 'stimulus:48', 'stimulus:49', 'stimulus:5', 'stimulus:50', 'stimulus:51', 'stimulus:52', 'stimulus:53', 'stimulus:54', 'stimulus:55', 'stimulus:56', 'stimulus:57', 'stimulus:58', 'stimulus:59', 'stimulus:6', 'stimulus:60', 'stimulus:61', 'stimulus:62', 'stimulus:63', 'stimulus:64', 'stimulus:65', 'stimulus:66', 'stimulus:67', 'stimulus:68', 'stimulus:69', 'stimulus:7', 'stimulus:70', 'stimulus:71', 'stimulus:72', 'stimulus:73', 'stimulus:74', 'stimulus:75', 'stimulus:76', 'stimulus:77', 'stimulus:78', 'stimulus:79', 'stimulus:8', 'stimulus:80', 'stimulus:9']\n",
      "Not setting metadata\n",
      "Not setting metadata\n",
      "320 matching events found\n",
      "Setting baseline interval to [-0.099609375, 0.0] sec\n",
      "Applying baseline correction (mode: mean)\n",
      "Created an SSP operator (subspace dimension = 1)\n",
      "1 projection items activated\n",
      "Loading data for 320 events and 1127 original time points ...\n",
      "0 bad epochs dropped\n",
      "Loading data for 320 events and 1127 original time points ...\n",
      "Subject 6############################################\n",
      "Opening raw data file ../local/bidsN170/sub-006/ses-N170/eeg/sub-006_cleaned.fif...\n",
      "    Read a total of 1 projection items:\n",
      "        Average EEG reference (1 x 30) active\n",
      "    Range : 0 ... 529407 =      0.000 ...   516.999 secs\n",
      "Ready.\n",
      "Used Annotations descriptions: ['response:201', 'response:202', 'stimulus:1', 'stimulus:10', 'stimulus:101', 'stimulus:102', 'stimulus:103', 'stimulus:104', 'stimulus:105', 'stimulus:106', 'stimulus:107', 'stimulus:108', 'stimulus:109', 'stimulus:11', 'stimulus:110', 'stimulus:111', 'stimulus:112', 'stimulus:113', 'stimulus:114', 'stimulus:115', 'stimulus:116', 'stimulus:117', 'stimulus:118', 'stimulus:119', 'stimulus:12', 'stimulus:120', 'stimulus:121', 'stimulus:122', 'stimulus:123', 'stimulus:124', 'stimulus:125', 'stimulus:126', 'stimulus:127', 'stimulus:128', 'stimulus:129', 'stimulus:13', 'stimulus:130', 'stimulus:131', 'stimulus:132', 'stimulus:133', 'stimulus:134', 'stimulus:135', 'stimulus:136', 'stimulus:137', 'stimulus:138', 'stimulus:139', 'stimulus:14', 'stimulus:140', 'stimulus:141', 'stimulus:142', 'stimulus:143', 'stimulus:144', 'stimulus:145', 'stimulus:146', 'stimulus:147', 'stimulus:148', 'stimulus:149', 'stimulus:15', 'stimulus:150', 'stimulus:151', 'stimulus:152', 'stimulus:153', 'stimulus:154', 'stimulus:155', 'stimulus:156', 'stimulus:157', 'stimulus:158', 'stimulus:159', 'stimulus:16', 'stimulus:160', 'stimulus:161', 'stimulus:162', 'stimulus:163', 'stimulus:164', 'stimulus:165', 'stimulus:166', 'stimulus:167', 'stimulus:168', 'stimulus:169', 'stimulus:17', 'stimulus:170', 'stimulus:171', 'stimulus:172', 'stimulus:173', 'stimulus:174', 'stimulus:175', 'stimulus:176', 'stimulus:177', 'stimulus:178', 'stimulus:179', 'stimulus:18', 'stimulus:180', 'stimulus:19', 'stimulus:2', 'stimulus:20', 'stimulus:21', 'stimulus:22', 'stimulus:23', 'stimulus:24', 'stimulus:25', 'stimulus:26', 'stimulus:27', 'stimulus:28', 'stimulus:29', 'stimulus:3', 'stimulus:30', 'stimulus:31', 'stimulus:32', 'stimulus:33', 'stimulus:34', 'stimulus:35', 'stimulus:36', 'stimulus:37', 'stimulus:38', 'stimulus:39', 'stimulus:4', 'stimulus:40', 'stimulus:41', 'stimulus:42', 'stimulus:43', 'stimulus:44', 'stimulus:45', 'stimulus:46', 'stimulus:47', 'stimulus:48', 'stimulus:49', 'stimulus:5', 'stimulus:50', 'stimulus:51', 'stimulus:52', 'stimulus:53', 'stimulus:54', 'stimulus:55', 'stimulus:56', 'stimulus:57', 'stimulus:58', 'stimulus:59', 'stimulus:6', 'stimulus:60', 'stimulus:61', 'stimulus:62', 'stimulus:63', 'stimulus:64', 'stimulus:65', 'stimulus:66', 'stimulus:67', 'stimulus:68', 'stimulus:69', 'stimulus:7', 'stimulus:70', 'stimulus:71', 'stimulus:72', 'stimulus:73', 'stimulus:74', 'stimulus:75', 'stimulus:76', 'stimulus:77', 'stimulus:78', 'stimulus:79', 'stimulus:8', 'stimulus:80', 'stimulus:9']\n"
     ]
    },
    {
     "name": "stderr",
     "output_type": "stream",
     "text": [
      "<ipython-input-2-d8f6c74b3870>:23: RuntimeWarning: This filename (../local/bidsN170/sub-006/ses-N170/eeg/sub-006_cleaned.fif) does not conform to MNE naming conventions. All raw files should end with raw.fif, raw_sss.fif, raw_tsss.fif, raw.fif.gz, raw_sss.fif.gz, raw_tsss.fif.gz or _meg.fif\n",
      "  raw = mne.io.read_raw_fif(read_path)\n"
     ]
    },
    {
     "name": "stdout",
     "output_type": "stream",
     "text": [
      "Not setting metadata\n",
      "Not setting metadata\n",
      "320 matching events found\n",
      "Setting baseline interval to [-0.099609375, 0.0] sec\n",
      "Applying baseline correction (mode: mean)\n",
      "Created an SSP operator (subspace dimension = 1)\n",
      "1 projection items activated\n",
      "Loading data for 320 events and 1127 original time points ...\n",
      "0 bad epochs dropped\n",
      "Loading data for 320 events and 1127 original time points ...\n",
      "Subject 7############################################\n",
      "Opening raw data file ../local/bidsN170/sub-007/ses-N170/eeg/sub-007_cleaned.fif...\n",
      "    Read a total of 1 projection items:\n",
      "        Average EEG reference (1 x 30) active\n",
      "    Range : 0 ... 589823 =      0.000 ...   575.999 secs\n",
      "Ready.\n"
     ]
    },
    {
     "name": "stderr",
     "output_type": "stream",
     "text": [
      "<ipython-input-2-d8f6c74b3870>:23: RuntimeWarning: This filename (../local/bidsN170/sub-007/ses-N170/eeg/sub-007_cleaned.fif) does not conform to MNE naming conventions. All raw files should end with raw.fif, raw_sss.fif, raw_tsss.fif, raw.fif.gz, raw_sss.fif.gz, raw_tsss.fif.gz or _meg.fif\n",
      "  raw = mne.io.read_raw_fif(read_path)\n"
     ]
    },
    {
     "name": "stdout",
     "output_type": "stream",
     "text": [
      "Used Annotations descriptions: ['response:201', 'response:202', 'stimulus:1', 'stimulus:10', 'stimulus:101', 'stimulus:102', 'stimulus:103', 'stimulus:104', 'stimulus:105', 'stimulus:106', 'stimulus:107', 'stimulus:108', 'stimulus:109', 'stimulus:11', 'stimulus:110', 'stimulus:111', 'stimulus:112', 'stimulus:113', 'stimulus:114', 'stimulus:115', 'stimulus:116', 'stimulus:117', 'stimulus:118', 'stimulus:119', 'stimulus:12', 'stimulus:120', 'stimulus:121', 'stimulus:122', 'stimulus:123', 'stimulus:124', 'stimulus:125', 'stimulus:126', 'stimulus:127', 'stimulus:128', 'stimulus:129', 'stimulus:13', 'stimulus:130', 'stimulus:131', 'stimulus:132', 'stimulus:133', 'stimulus:134', 'stimulus:135', 'stimulus:136', 'stimulus:137', 'stimulus:138', 'stimulus:139', 'stimulus:14', 'stimulus:140', 'stimulus:141', 'stimulus:142', 'stimulus:143', 'stimulus:144', 'stimulus:145', 'stimulus:146', 'stimulus:147', 'stimulus:148', 'stimulus:149', 'stimulus:15', 'stimulus:150', 'stimulus:151', 'stimulus:152', 'stimulus:153', 'stimulus:154', 'stimulus:155', 'stimulus:156', 'stimulus:157', 'stimulus:158', 'stimulus:159', 'stimulus:16', 'stimulus:160', 'stimulus:161', 'stimulus:162', 'stimulus:163', 'stimulus:164', 'stimulus:165', 'stimulus:166', 'stimulus:167', 'stimulus:168', 'stimulus:169', 'stimulus:17', 'stimulus:170', 'stimulus:171', 'stimulus:172', 'stimulus:173', 'stimulus:174', 'stimulus:175', 'stimulus:176', 'stimulus:177', 'stimulus:178', 'stimulus:179', 'stimulus:18', 'stimulus:180', 'stimulus:19', 'stimulus:2', 'stimulus:20', 'stimulus:21', 'stimulus:22', 'stimulus:23', 'stimulus:24', 'stimulus:25', 'stimulus:26', 'stimulus:27', 'stimulus:28', 'stimulus:29', 'stimulus:3', 'stimulus:30', 'stimulus:31', 'stimulus:32', 'stimulus:33', 'stimulus:34', 'stimulus:35', 'stimulus:36', 'stimulus:37', 'stimulus:38', 'stimulus:39', 'stimulus:4', 'stimulus:40', 'stimulus:41', 'stimulus:42', 'stimulus:43', 'stimulus:44', 'stimulus:45', 'stimulus:46', 'stimulus:47', 'stimulus:48', 'stimulus:49', 'stimulus:5', 'stimulus:50', 'stimulus:51', 'stimulus:52', 'stimulus:53', 'stimulus:54', 'stimulus:55', 'stimulus:56', 'stimulus:57', 'stimulus:58', 'stimulus:59', 'stimulus:6', 'stimulus:60', 'stimulus:61', 'stimulus:62', 'stimulus:63', 'stimulus:64', 'stimulus:65', 'stimulus:66', 'stimulus:67', 'stimulus:68', 'stimulus:69', 'stimulus:7', 'stimulus:70', 'stimulus:71', 'stimulus:72', 'stimulus:73', 'stimulus:74', 'stimulus:75', 'stimulus:76', 'stimulus:77', 'stimulus:78', 'stimulus:79', 'stimulus:8', 'stimulus:80', 'stimulus:9']\n",
      "Not setting metadata\n",
      "Not setting metadata\n",
      "320 matching events found\n",
      "Setting baseline interval to [-0.099609375, 0.0] sec\n",
      "Applying baseline correction (mode: mean)\n",
      "Created an SSP operator (subspace dimension = 1)\n",
      "1 projection items activated\n",
      "Loading data for 320 events and 1127 original time points ...\n",
      "0 bad epochs dropped\n",
      "Loading data for 320 events and 1127 original time points ...\n",
      "Subject 8############################################\n",
      "Opening raw data file ../local/bidsN170/sub-008/ses-N170/eeg/sub-008_cleaned.fif...\n"
     ]
    },
    {
     "name": "stderr",
     "output_type": "stream",
     "text": [
      "<ipython-input-2-d8f6c74b3870>:23: RuntimeWarning: This filename (../local/bidsN170/sub-008/ses-N170/eeg/sub-008_cleaned.fif) does not conform to MNE naming conventions. All raw files should end with raw.fif, raw_sss.fif, raw_tsss.fif, raw.fif.gz, raw_sss.fif.gz, raw_tsss.fif.gz or _meg.fif\n",
      "  raw = mne.io.read_raw_fif(read_path)\n"
     ]
    },
    {
     "name": "stdout",
     "output_type": "stream",
     "text": [
      "    Read a total of 1 projection items:\n",
      "        Average EEG reference (1 x 30) active\n",
      "    Range : 0 ... 804863 =      0.000 ...   785.999 secs\n",
      "Ready.\n",
      "Used Annotations descriptions: ['response:201', 'response:202', 'stimulus:1', 'stimulus:10', 'stimulus:101', 'stimulus:102', 'stimulus:103', 'stimulus:104', 'stimulus:105', 'stimulus:106', 'stimulus:107', 'stimulus:108', 'stimulus:109', 'stimulus:11', 'stimulus:110', 'stimulus:111', 'stimulus:112', 'stimulus:113', 'stimulus:114', 'stimulus:115', 'stimulus:116', 'stimulus:117', 'stimulus:118', 'stimulus:119', 'stimulus:12', 'stimulus:120', 'stimulus:121', 'stimulus:122', 'stimulus:123', 'stimulus:124', 'stimulus:125', 'stimulus:126', 'stimulus:127', 'stimulus:128', 'stimulus:129', 'stimulus:13', 'stimulus:130', 'stimulus:131', 'stimulus:132', 'stimulus:133', 'stimulus:134', 'stimulus:135', 'stimulus:136', 'stimulus:137', 'stimulus:138', 'stimulus:139', 'stimulus:14', 'stimulus:140', 'stimulus:141', 'stimulus:142', 'stimulus:143', 'stimulus:144', 'stimulus:145', 'stimulus:146', 'stimulus:147', 'stimulus:148', 'stimulus:149', 'stimulus:15', 'stimulus:150', 'stimulus:151', 'stimulus:152', 'stimulus:153', 'stimulus:154', 'stimulus:155', 'stimulus:156', 'stimulus:157', 'stimulus:158', 'stimulus:159', 'stimulus:16', 'stimulus:160', 'stimulus:161', 'stimulus:162', 'stimulus:163', 'stimulus:164', 'stimulus:165', 'stimulus:166', 'stimulus:167', 'stimulus:168', 'stimulus:169', 'stimulus:17', 'stimulus:170', 'stimulus:171', 'stimulus:172', 'stimulus:173', 'stimulus:174', 'stimulus:175', 'stimulus:176', 'stimulus:177', 'stimulus:178', 'stimulus:179', 'stimulus:18', 'stimulus:180', 'stimulus:19', 'stimulus:2', 'stimulus:20', 'stimulus:21', 'stimulus:22', 'stimulus:23', 'stimulus:24', 'stimulus:25', 'stimulus:26', 'stimulus:27', 'stimulus:28', 'stimulus:29', 'stimulus:3', 'stimulus:30', 'stimulus:31', 'stimulus:32', 'stimulus:33', 'stimulus:34', 'stimulus:35', 'stimulus:36', 'stimulus:37', 'stimulus:38', 'stimulus:39', 'stimulus:4', 'stimulus:40', 'stimulus:41', 'stimulus:42', 'stimulus:43', 'stimulus:44', 'stimulus:45', 'stimulus:46', 'stimulus:47', 'stimulus:48', 'stimulus:49', 'stimulus:5', 'stimulus:50', 'stimulus:51', 'stimulus:52', 'stimulus:53', 'stimulus:54', 'stimulus:55', 'stimulus:56', 'stimulus:57', 'stimulus:58', 'stimulus:59', 'stimulus:6', 'stimulus:60', 'stimulus:61', 'stimulus:62', 'stimulus:63', 'stimulus:64', 'stimulus:65', 'stimulus:66', 'stimulus:67', 'stimulus:68', 'stimulus:69', 'stimulus:7', 'stimulus:70', 'stimulus:71', 'stimulus:72', 'stimulus:73', 'stimulus:74', 'stimulus:75', 'stimulus:76', 'stimulus:77', 'stimulus:78', 'stimulus:79', 'stimulus:8', 'stimulus:80', 'stimulus:9']\n",
      "Not setting metadata\n",
      "Not setting metadata\n",
      "320 matching events found\n",
      "Setting baseline interval to [-0.099609375, 0.0] sec\n",
      "Applying baseline correction (mode: mean)\n",
      "Created an SSP operator (subspace dimension = 1)\n",
      "1 projection items activated\n",
      "Loading data for 320 events and 1127 original time points ...\n",
      "0 bad epochs dropped\n",
      "Loading data for 320 events and 1127 original time points ...\n",
      "Subject 9############################################\n",
      "Opening raw data file ../local/bidsN170/sub-009/ses-N170/eeg/sub-009_cleaned.fif...\n",
      "    Read a total of 1 projection items:\n",
      "        Average EEG reference (1 x 30) active\n",
      "    Range : 0 ... 559103 =      0.000 ...   545.999 secs\n",
      "Ready.\n",
      "Used Annotations descriptions: ['response:201', 'response:202', 'stimulus:1', 'stimulus:10', 'stimulus:101', 'stimulus:102', 'stimulus:103', 'stimulus:104', 'stimulus:105', 'stimulus:106', 'stimulus:107', 'stimulus:108', 'stimulus:109', 'stimulus:11', 'stimulus:110', 'stimulus:111', 'stimulus:112', 'stimulus:113', 'stimulus:114', 'stimulus:115', 'stimulus:116', 'stimulus:117', 'stimulus:118', 'stimulus:119', 'stimulus:12', 'stimulus:120', 'stimulus:121', 'stimulus:122', 'stimulus:123', 'stimulus:124', 'stimulus:125', 'stimulus:126', 'stimulus:127', 'stimulus:128', 'stimulus:129', 'stimulus:13', 'stimulus:130', 'stimulus:131', 'stimulus:132', 'stimulus:133', 'stimulus:134', 'stimulus:135', 'stimulus:136', 'stimulus:137', 'stimulus:138', 'stimulus:139', 'stimulus:14', 'stimulus:140', 'stimulus:141', 'stimulus:142', 'stimulus:143', 'stimulus:144', 'stimulus:145', 'stimulus:146', 'stimulus:147', 'stimulus:148', 'stimulus:149', 'stimulus:15', 'stimulus:150', 'stimulus:151', 'stimulus:152', 'stimulus:153', 'stimulus:154', 'stimulus:155', 'stimulus:156', 'stimulus:157', 'stimulus:158', 'stimulus:159', 'stimulus:16', 'stimulus:160', 'stimulus:161', 'stimulus:162', 'stimulus:163', 'stimulus:164', 'stimulus:165', 'stimulus:166', 'stimulus:167', 'stimulus:168', 'stimulus:169', 'stimulus:17', 'stimulus:170', 'stimulus:171', 'stimulus:172', 'stimulus:173', 'stimulus:174', 'stimulus:175', 'stimulus:176', 'stimulus:177', 'stimulus:178', 'stimulus:179', 'stimulus:18', 'stimulus:180', 'stimulus:19', 'stimulus:2', 'stimulus:20', 'stimulus:21', 'stimulus:22', 'stimulus:23', 'stimulus:24', 'stimulus:25', 'stimulus:26', 'stimulus:27', 'stimulus:28', 'stimulus:29', 'stimulus:3', 'stimulus:30', 'stimulus:31', 'stimulus:32', 'stimulus:33', 'stimulus:34', 'stimulus:35', 'stimulus:36', 'stimulus:37', 'stimulus:38', 'stimulus:39', 'stimulus:4', 'stimulus:40', 'stimulus:41', 'stimulus:42', 'stimulus:43', 'stimulus:44', 'stimulus:45', 'stimulus:46', 'stimulus:47', 'stimulus:48', 'stimulus:49', 'stimulus:5', 'stimulus:50', 'stimulus:51', 'stimulus:52', 'stimulus:53', 'stimulus:54', 'stimulus:55', 'stimulus:56', 'stimulus:57', 'stimulus:58', 'stimulus:59', 'stimulus:6', 'stimulus:60', 'stimulus:61', 'stimulus:62', 'stimulus:63', 'stimulus:64', 'stimulus:65', 'stimulus:66', 'stimulus:67', 'stimulus:68', 'stimulus:69', 'stimulus:7', 'stimulus:70', 'stimulus:71', 'stimulus:72', 'stimulus:73', 'stimulus:74', 'stimulus:75', 'stimulus:76', 'stimulus:77', 'stimulus:78', 'stimulus:79', 'stimulus:8', 'stimulus:80', 'stimulus:9']\n"
     ]
    },
    {
     "name": "stderr",
     "output_type": "stream",
     "text": [
      "<ipython-input-2-d8f6c74b3870>:23: RuntimeWarning: This filename (../local/bidsN170/sub-009/ses-N170/eeg/sub-009_cleaned.fif) does not conform to MNE naming conventions. All raw files should end with raw.fif, raw_sss.fif, raw_tsss.fif, raw.fif.gz, raw_sss.fif.gz, raw_tsss.fif.gz or _meg.fif\n",
      "  raw = mne.io.read_raw_fif(read_path)\n"
     ]
    },
    {
     "name": "stdout",
     "output_type": "stream",
     "text": [
      "Not setting metadata\n",
      "Not setting metadata\n",
      "320 matching events found\n",
      "Setting baseline interval to [-0.099609375, 0.0] sec\n",
      "Applying baseline correction (mode: mean)\n",
      "Created an SSP operator (subspace dimension = 1)\n",
      "1 projection items activated\n",
      "Loading data for 320 events and 1127 original time points ...\n",
      "0 bad epochs dropped\n",
      "Loading data for 320 events and 1127 original time points ...\n",
      "Subject 10############################################\n",
      "Opening raw data file ../local/bidsN170/sub-010/ses-N170/eeg/sub-010_cleaned.fif...\n",
      "    Read a total of 1 projection items:\n"
     ]
    },
    {
     "name": "stderr",
     "output_type": "stream",
     "text": [
      "<ipython-input-2-d8f6c74b3870>:23: RuntimeWarning: This filename (../local/bidsN170/sub-010/ses-N170/eeg/sub-010_cleaned.fif) does not conform to MNE naming conventions. All raw files should end with raw.fif, raw_sss.fif, raw_tsss.fif, raw.fif.gz, raw_sss.fif.gz, raw_tsss.fif.gz or _meg.fif\n",
      "  raw = mne.io.read_raw_fif(read_path)\n"
     ]
    },
    {
     "name": "stdout",
     "output_type": "stream",
     "text": [
      "        Average EEG reference (1 x 30) active\n",
      "    Range : 0 ... 556031 =      0.000 ...   542.999 secs\n",
      "Ready.\n",
      "Used Annotations descriptions: ['response:201', 'response:202', 'stimulus:1', 'stimulus:10', 'stimulus:101', 'stimulus:102', 'stimulus:103', 'stimulus:104', 'stimulus:105', 'stimulus:106', 'stimulus:107', 'stimulus:108', 'stimulus:109', 'stimulus:11', 'stimulus:110', 'stimulus:111', 'stimulus:112', 'stimulus:113', 'stimulus:114', 'stimulus:115', 'stimulus:116', 'stimulus:117', 'stimulus:118', 'stimulus:119', 'stimulus:12', 'stimulus:120', 'stimulus:121', 'stimulus:122', 'stimulus:123', 'stimulus:124', 'stimulus:125', 'stimulus:126', 'stimulus:127', 'stimulus:128', 'stimulus:129', 'stimulus:13', 'stimulus:130', 'stimulus:131', 'stimulus:132', 'stimulus:133', 'stimulus:134', 'stimulus:135', 'stimulus:136', 'stimulus:137', 'stimulus:138', 'stimulus:139', 'stimulus:14', 'stimulus:140', 'stimulus:141', 'stimulus:142', 'stimulus:143', 'stimulus:144', 'stimulus:145', 'stimulus:146', 'stimulus:147', 'stimulus:148', 'stimulus:149', 'stimulus:15', 'stimulus:150', 'stimulus:151', 'stimulus:152', 'stimulus:153', 'stimulus:154', 'stimulus:155', 'stimulus:156', 'stimulus:157', 'stimulus:158', 'stimulus:159', 'stimulus:16', 'stimulus:160', 'stimulus:161', 'stimulus:162', 'stimulus:163', 'stimulus:164', 'stimulus:165', 'stimulus:166', 'stimulus:167', 'stimulus:168', 'stimulus:169', 'stimulus:17', 'stimulus:170', 'stimulus:171', 'stimulus:172', 'stimulus:173', 'stimulus:174', 'stimulus:175', 'stimulus:176', 'stimulus:177', 'stimulus:178', 'stimulus:179', 'stimulus:18', 'stimulus:180', 'stimulus:19', 'stimulus:2', 'stimulus:20', 'stimulus:21', 'stimulus:22', 'stimulus:23', 'stimulus:24', 'stimulus:25', 'stimulus:26', 'stimulus:27', 'stimulus:28', 'stimulus:29', 'stimulus:3', 'stimulus:30', 'stimulus:31', 'stimulus:32', 'stimulus:33', 'stimulus:34', 'stimulus:35', 'stimulus:36', 'stimulus:37', 'stimulus:38', 'stimulus:39', 'stimulus:4', 'stimulus:40', 'stimulus:41', 'stimulus:42', 'stimulus:43', 'stimulus:44', 'stimulus:45', 'stimulus:46', 'stimulus:47', 'stimulus:48', 'stimulus:49', 'stimulus:5', 'stimulus:50', 'stimulus:51', 'stimulus:52', 'stimulus:53', 'stimulus:54', 'stimulus:55', 'stimulus:56', 'stimulus:57', 'stimulus:58', 'stimulus:59', 'stimulus:6', 'stimulus:60', 'stimulus:61', 'stimulus:62', 'stimulus:63', 'stimulus:64', 'stimulus:65', 'stimulus:66', 'stimulus:67', 'stimulus:68', 'stimulus:69', 'stimulus:7', 'stimulus:70', 'stimulus:71', 'stimulus:72', 'stimulus:73', 'stimulus:74', 'stimulus:75', 'stimulus:76', 'stimulus:77', 'stimulus:78', 'stimulus:79', 'stimulus:8', 'stimulus:80', 'stimulus:9']\n",
      "Not setting metadata\n",
      "Not setting metadata\n",
      "320 matching events found\n",
      "Setting baseline interval to [-0.099609375, 0.0] sec\n",
      "Applying baseline correction (mode: mean)\n",
      "Created an SSP operator (subspace dimension = 1)\n",
      "1 projection items activated\n",
      "Loading data for 320 events and 1127 original time points ...\n",
      "0 bad epochs dropped\n",
      "Loading data for 320 events and 1127 original time points ...\n",
      "Subject 11############################################\n",
      "Opening raw data file ../local/bidsN170/sub-011/ses-N170/eeg/sub-011_cleaned.fif...\n"
     ]
    },
    {
     "name": "stderr",
     "output_type": "stream",
     "text": [
      "<ipython-input-2-d8f6c74b3870>:23: RuntimeWarning: This filename (../local/bidsN170/sub-011/ses-N170/eeg/sub-011_cleaned.fif) does not conform to MNE naming conventions. All raw files should end with raw.fif, raw_sss.fif, raw_tsss.fif, raw.fif.gz, raw_sss.fif.gz, raw_tsss.fif.gz or _meg.fif\n",
      "  raw = mne.io.read_raw_fif(read_path)\n"
     ]
    },
    {
     "name": "stdout",
     "output_type": "stream",
     "text": [
      "    Read a total of 1 projection items:\n",
      "        Average EEG reference (1 x 30) active\n",
      "    Range : 0 ... 582655 =      0.000 ...   568.999 secs\n",
      "Ready.\n",
      "Used Annotations descriptions: ['response:201', 'response:202', 'stimulus:1', 'stimulus:10', 'stimulus:101', 'stimulus:102', 'stimulus:103', 'stimulus:104', 'stimulus:105', 'stimulus:106', 'stimulus:107', 'stimulus:108', 'stimulus:109', 'stimulus:11', 'stimulus:110', 'stimulus:111', 'stimulus:112', 'stimulus:113', 'stimulus:114', 'stimulus:115', 'stimulus:116', 'stimulus:117', 'stimulus:118', 'stimulus:119', 'stimulus:12', 'stimulus:120', 'stimulus:121', 'stimulus:122', 'stimulus:123', 'stimulus:124', 'stimulus:125', 'stimulus:126', 'stimulus:127', 'stimulus:128', 'stimulus:129', 'stimulus:13', 'stimulus:130', 'stimulus:131', 'stimulus:132', 'stimulus:133', 'stimulus:134', 'stimulus:135', 'stimulus:136', 'stimulus:137', 'stimulus:138', 'stimulus:139', 'stimulus:14', 'stimulus:140', 'stimulus:141', 'stimulus:142', 'stimulus:143', 'stimulus:144', 'stimulus:145', 'stimulus:146', 'stimulus:147', 'stimulus:148', 'stimulus:149', 'stimulus:15', 'stimulus:150', 'stimulus:151', 'stimulus:152', 'stimulus:153', 'stimulus:154', 'stimulus:155', 'stimulus:156', 'stimulus:157', 'stimulus:158', 'stimulus:159', 'stimulus:16', 'stimulus:160', 'stimulus:161', 'stimulus:162', 'stimulus:163', 'stimulus:164', 'stimulus:165', 'stimulus:166', 'stimulus:167', 'stimulus:168', 'stimulus:169', 'stimulus:17', 'stimulus:170', 'stimulus:171', 'stimulus:172', 'stimulus:173', 'stimulus:174', 'stimulus:175', 'stimulus:176', 'stimulus:177', 'stimulus:178', 'stimulus:179', 'stimulus:18', 'stimulus:180', 'stimulus:19', 'stimulus:2', 'stimulus:20', 'stimulus:21', 'stimulus:22', 'stimulus:23', 'stimulus:24', 'stimulus:25', 'stimulus:26', 'stimulus:27', 'stimulus:28', 'stimulus:29', 'stimulus:3', 'stimulus:30', 'stimulus:31', 'stimulus:32', 'stimulus:33', 'stimulus:34', 'stimulus:35', 'stimulus:36', 'stimulus:37', 'stimulus:38', 'stimulus:39', 'stimulus:4', 'stimulus:40', 'stimulus:41', 'stimulus:42', 'stimulus:43', 'stimulus:44', 'stimulus:45', 'stimulus:46', 'stimulus:47', 'stimulus:48', 'stimulus:49', 'stimulus:5', 'stimulus:50', 'stimulus:51', 'stimulus:52', 'stimulus:53', 'stimulus:54', 'stimulus:55', 'stimulus:56', 'stimulus:57', 'stimulus:58', 'stimulus:59', 'stimulus:6', 'stimulus:60', 'stimulus:61', 'stimulus:62', 'stimulus:63', 'stimulus:64', 'stimulus:65', 'stimulus:66', 'stimulus:67', 'stimulus:68', 'stimulus:69', 'stimulus:7', 'stimulus:70', 'stimulus:71', 'stimulus:72', 'stimulus:73', 'stimulus:74', 'stimulus:75', 'stimulus:76', 'stimulus:77', 'stimulus:78', 'stimulus:79', 'stimulus:8', 'stimulus:80', 'stimulus:9']\n",
      "Not setting metadata\n",
      "Not setting metadata\n",
      "320 matching events found\n",
      "Setting baseline interval to [-0.099609375, 0.0] sec\n",
      "Applying baseline correction (mode: mean)\n",
      "Created an SSP operator (subspace dimension = 1)\n",
      "1 projection items activated\n",
      "Loading data for 320 events and 1127 original time points ...\n",
      "0 bad epochs dropped\n",
      "Loading data for 320 events and 1127 original time points ...\n",
      "Subject 12############################################\n",
      "Opening raw data file ../local/bidsN170/sub-012/ses-N170/eeg/sub-012_cleaned.fif...\n",
      "    Read a total of 1 projection items:\n",
      "        Average EEG reference (1 x 30) active\n",
      "    Range : 0 ... 537599 =      0.000 ...   524.999 secs\n",
      "Ready.\n",
      "Used Annotations descriptions: ['response:201', 'response:202', 'stimulus:1', 'stimulus:10', 'stimulus:101', 'stimulus:102', 'stimulus:103', 'stimulus:104', 'stimulus:105', 'stimulus:106', 'stimulus:107', 'stimulus:108', 'stimulus:109', 'stimulus:11', 'stimulus:110', 'stimulus:111', 'stimulus:112', 'stimulus:113', 'stimulus:114', 'stimulus:115', 'stimulus:116', 'stimulus:117', 'stimulus:118', 'stimulus:119', 'stimulus:12', 'stimulus:120', 'stimulus:121', 'stimulus:122', 'stimulus:123', 'stimulus:124', 'stimulus:125', 'stimulus:126', 'stimulus:127', 'stimulus:128', 'stimulus:129', 'stimulus:13', 'stimulus:130', 'stimulus:131', 'stimulus:132', 'stimulus:133', 'stimulus:134', 'stimulus:135', 'stimulus:136', 'stimulus:137', 'stimulus:138', 'stimulus:139', 'stimulus:14', 'stimulus:140', 'stimulus:141', 'stimulus:142', 'stimulus:143', 'stimulus:144', 'stimulus:145', 'stimulus:146', 'stimulus:147', 'stimulus:148', 'stimulus:149', 'stimulus:15', 'stimulus:150', 'stimulus:151', 'stimulus:152', 'stimulus:153', 'stimulus:154', 'stimulus:155', 'stimulus:156', 'stimulus:157', 'stimulus:158', 'stimulus:159', 'stimulus:16', 'stimulus:160', 'stimulus:161', 'stimulus:162', 'stimulus:163', 'stimulus:164', 'stimulus:165', 'stimulus:166', 'stimulus:167', 'stimulus:168', 'stimulus:169', 'stimulus:17', 'stimulus:170', 'stimulus:171', 'stimulus:172', 'stimulus:173', 'stimulus:174', 'stimulus:175', 'stimulus:176', 'stimulus:177', 'stimulus:178', 'stimulus:179', 'stimulus:18', 'stimulus:180', 'stimulus:19', 'stimulus:2', 'stimulus:20', 'stimulus:21', 'stimulus:22', 'stimulus:23', 'stimulus:24', 'stimulus:25', 'stimulus:26', 'stimulus:27', 'stimulus:28', 'stimulus:29', 'stimulus:3', 'stimulus:30', 'stimulus:31', 'stimulus:32', 'stimulus:33', 'stimulus:34', 'stimulus:35', 'stimulus:36', 'stimulus:37', 'stimulus:38', 'stimulus:39', 'stimulus:4', 'stimulus:40', 'stimulus:41', 'stimulus:42', 'stimulus:43', 'stimulus:44', 'stimulus:45', 'stimulus:46', 'stimulus:47', 'stimulus:48', 'stimulus:49', 'stimulus:5', 'stimulus:50', 'stimulus:51', 'stimulus:52', 'stimulus:53', 'stimulus:54', 'stimulus:55', 'stimulus:56', 'stimulus:57', 'stimulus:58', 'stimulus:59', 'stimulus:6', 'stimulus:60', 'stimulus:61', 'stimulus:62', 'stimulus:63', 'stimulus:64', 'stimulus:65', 'stimulus:66', 'stimulus:67', 'stimulus:68', 'stimulus:69', 'stimulus:7', 'stimulus:70', 'stimulus:71', 'stimulus:72', 'stimulus:73', 'stimulus:74', 'stimulus:75', 'stimulus:76', 'stimulus:77', 'stimulus:78', 'stimulus:79', 'stimulus:8', 'stimulus:80', 'stimulus:9']\n",
      "Not setting metadata\n"
     ]
    },
    {
     "name": "stderr",
     "output_type": "stream",
     "text": [
      "<ipython-input-2-d8f6c74b3870>:23: RuntimeWarning: This filename (../local/bidsN170/sub-012/ses-N170/eeg/sub-012_cleaned.fif) does not conform to MNE naming conventions. All raw files should end with raw.fif, raw_sss.fif, raw_tsss.fif, raw.fif.gz, raw_sss.fif.gz, raw_tsss.fif.gz or _meg.fif\n",
      "  raw = mne.io.read_raw_fif(read_path)\n"
     ]
    },
    {
     "name": "stdout",
     "output_type": "stream",
     "text": [
      "Not setting metadata\n",
      "320 matching events found\n",
      "Setting baseline interval to [-0.099609375, 0.0] sec\n",
      "Applying baseline correction (mode: mean)\n",
      "Created an SSP operator (subspace dimension = 1)\n",
      "1 projection items activated\n",
      "Loading data for 320 events and 1127 original time points ...\n",
      "0 bad epochs dropped\n",
      "Loading data for 320 events and 1127 original time points ...\n",
      "Subject 13############################################\n",
      "Opening raw data file ../local/bidsN170/sub-013/ses-N170/eeg/sub-013_cleaned.fif...\n",
      "    Read a total of 1 projection items:\n",
      "        Average EEG reference (1 x 30) active\n",
      "    Range : 0 ... 601087 =      0.000 ...   586.999 secs\n"
     ]
    },
    {
     "name": "stderr",
     "output_type": "stream",
     "text": [
      "<ipython-input-2-d8f6c74b3870>:23: RuntimeWarning: This filename (../local/bidsN170/sub-013/ses-N170/eeg/sub-013_cleaned.fif) does not conform to MNE naming conventions. All raw files should end with raw.fif, raw_sss.fif, raw_tsss.fif, raw.fif.gz, raw_sss.fif.gz, raw_tsss.fif.gz or _meg.fif\n",
      "  raw = mne.io.read_raw_fif(read_path)\n"
     ]
    },
    {
     "name": "stdout",
     "output_type": "stream",
     "text": [
      "Ready.\n",
      "Used Annotations descriptions: ['response:201', 'response:202', 'stimulus:1', 'stimulus:10', 'stimulus:101', 'stimulus:102', 'stimulus:103', 'stimulus:104', 'stimulus:105', 'stimulus:106', 'stimulus:107', 'stimulus:108', 'stimulus:109', 'stimulus:11', 'stimulus:110', 'stimulus:111', 'stimulus:112', 'stimulus:113', 'stimulus:114', 'stimulus:115', 'stimulus:116', 'stimulus:117', 'stimulus:118', 'stimulus:119', 'stimulus:12', 'stimulus:120', 'stimulus:121', 'stimulus:122', 'stimulus:123', 'stimulus:124', 'stimulus:125', 'stimulus:126', 'stimulus:127', 'stimulus:128', 'stimulus:129', 'stimulus:13', 'stimulus:130', 'stimulus:131', 'stimulus:132', 'stimulus:133', 'stimulus:134', 'stimulus:135', 'stimulus:136', 'stimulus:137', 'stimulus:138', 'stimulus:139', 'stimulus:14', 'stimulus:140', 'stimulus:141', 'stimulus:142', 'stimulus:143', 'stimulus:144', 'stimulus:145', 'stimulus:146', 'stimulus:147', 'stimulus:148', 'stimulus:149', 'stimulus:15', 'stimulus:150', 'stimulus:151', 'stimulus:152', 'stimulus:153', 'stimulus:154', 'stimulus:155', 'stimulus:156', 'stimulus:157', 'stimulus:158', 'stimulus:159', 'stimulus:16', 'stimulus:160', 'stimulus:161', 'stimulus:162', 'stimulus:163', 'stimulus:164', 'stimulus:165', 'stimulus:166', 'stimulus:167', 'stimulus:168', 'stimulus:169', 'stimulus:17', 'stimulus:170', 'stimulus:171', 'stimulus:172', 'stimulus:173', 'stimulus:174', 'stimulus:175', 'stimulus:176', 'stimulus:177', 'stimulus:178', 'stimulus:179', 'stimulus:18', 'stimulus:180', 'stimulus:19', 'stimulus:2', 'stimulus:20', 'stimulus:21', 'stimulus:22', 'stimulus:23', 'stimulus:24', 'stimulus:25', 'stimulus:26', 'stimulus:27', 'stimulus:28', 'stimulus:29', 'stimulus:3', 'stimulus:30', 'stimulus:31', 'stimulus:32', 'stimulus:33', 'stimulus:34', 'stimulus:35', 'stimulus:36', 'stimulus:37', 'stimulus:38', 'stimulus:39', 'stimulus:4', 'stimulus:40', 'stimulus:41', 'stimulus:42', 'stimulus:43', 'stimulus:44', 'stimulus:45', 'stimulus:46', 'stimulus:47', 'stimulus:48', 'stimulus:49', 'stimulus:5', 'stimulus:50', 'stimulus:51', 'stimulus:52', 'stimulus:53', 'stimulus:54', 'stimulus:55', 'stimulus:56', 'stimulus:57', 'stimulus:58', 'stimulus:59', 'stimulus:6', 'stimulus:60', 'stimulus:61', 'stimulus:62', 'stimulus:63', 'stimulus:64', 'stimulus:65', 'stimulus:66', 'stimulus:67', 'stimulus:68', 'stimulus:69', 'stimulus:7', 'stimulus:70', 'stimulus:71', 'stimulus:72', 'stimulus:73', 'stimulus:74', 'stimulus:75', 'stimulus:76', 'stimulus:77', 'stimulus:78', 'stimulus:79', 'stimulus:8', 'stimulus:80', 'stimulus:9']\n",
      "Not setting metadata\n",
      "Not setting metadata\n",
      "320 matching events found\n",
      "Setting baseline interval to [-0.099609375, 0.0] sec\n",
      "Applying baseline correction (mode: mean)\n",
      "Created an SSP operator (subspace dimension = 1)\n",
      "1 projection items activated\n",
      "Loading data for 320 events and 1127 original time points ...\n",
      "0 bad epochs dropped\n",
      "Loading data for 320 events and 1127 original time points ...\n",
      "Subject 14############################################\n",
      "Opening raw data file ../local/bidsN170/sub-014/ses-N170/eeg/sub-014_cleaned.fif...\n",
      "    Read a total of 1 projection items:\n",
      "        Average EEG reference (1 x 30) active\n",
      "    Range : 0 ... 566271 =      0.000 ...   552.999 secs\n",
      "Ready.\n",
      "Used Annotations descriptions: ['response:201', 'response:202', 'stimulus:1', 'stimulus:10', 'stimulus:101', 'stimulus:102', 'stimulus:103', 'stimulus:104', 'stimulus:105', 'stimulus:106', 'stimulus:107', 'stimulus:108', 'stimulus:109', 'stimulus:11', 'stimulus:110', 'stimulus:111', 'stimulus:112', 'stimulus:113', 'stimulus:114', 'stimulus:115', 'stimulus:116', 'stimulus:117', 'stimulus:118', 'stimulus:119', 'stimulus:12', 'stimulus:120', 'stimulus:121', 'stimulus:122', 'stimulus:123', 'stimulus:124', 'stimulus:125', 'stimulus:126', 'stimulus:127', 'stimulus:128', 'stimulus:129', 'stimulus:13', 'stimulus:130', 'stimulus:131', 'stimulus:132', 'stimulus:133', 'stimulus:134', 'stimulus:135', 'stimulus:136', 'stimulus:137', 'stimulus:138', 'stimulus:139', 'stimulus:14', 'stimulus:140', 'stimulus:141', 'stimulus:142', 'stimulus:143', 'stimulus:144', 'stimulus:145', 'stimulus:146', 'stimulus:147', 'stimulus:148', 'stimulus:149', 'stimulus:15', 'stimulus:150', 'stimulus:151', 'stimulus:152', 'stimulus:153', 'stimulus:154', 'stimulus:155', 'stimulus:156', 'stimulus:157', 'stimulus:158', 'stimulus:159', 'stimulus:16', 'stimulus:160', 'stimulus:161', 'stimulus:162', 'stimulus:163', 'stimulus:164', 'stimulus:165', 'stimulus:166', 'stimulus:167', 'stimulus:168', 'stimulus:169', 'stimulus:17', 'stimulus:170', 'stimulus:171', 'stimulus:172', 'stimulus:173', 'stimulus:174', 'stimulus:175', 'stimulus:176', 'stimulus:177', 'stimulus:178', 'stimulus:179', 'stimulus:18', 'stimulus:180', 'stimulus:19', 'stimulus:2', 'stimulus:20', 'stimulus:21', 'stimulus:22', 'stimulus:23', 'stimulus:24', 'stimulus:25', 'stimulus:26', 'stimulus:27', 'stimulus:28', 'stimulus:29', 'stimulus:3', 'stimulus:30', 'stimulus:31', 'stimulus:32', 'stimulus:33', 'stimulus:34', 'stimulus:35', 'stimulus:36', 'stimulus:37', 'stimulus:38', 'stimulus:39', 'stimulus:4', 'stimulus:40', 'stimulus:41', 'stimulus:42', 'stimulus:43', 'stimulus:44', 'stimulus:45', 'stimulus:46', 'stimulus:47', 'stimulus:48', 'stimulus:49', 'stimulus:5', 'stimulus:50', 'stimulus:51', 'stimulus:52', 'stimulus:53', 'stimulus:54', 'stimulus:55', 'stimulus:56', 'stimulus:57', 'stimulus:58', 'stimulus:59', 'stimulus:6', 'stimulus:60', 'stimulus:61', 'stimulus:62', 'stimulus:63', 'stimulus:64', 'stimulus:65', 'stimulus:66', 'stimulus:67', 'stimulus:68', 'stimulus:69', 'stimulus:7', 'stimulus:70', 'stimulus:71', 'stimulus:72', 'stimulus:73', 'stimulus:74', 'stimulus:75', 'stimulus:76', 'stimulus:77', 'stimulus:78', 'stimulus:79', 'stimulus:8', 'stimulus:80', 'stimulus:9']\n"
     ]
    },
    {
     "name": "stderr",
     "output_type": "stream",
     "text": [
      "<ipython-input-2-d8f6c74b3870>:23: RuntimeWarning: This filename (../local/bidsN170/sub-014/ses-N170/eeg/sub-014_cleaned.fif) does not conform to MNE naming conventions. All raw files should end with raw.fif, raw_sss.fif, raw_tsss.fif, raw.fif.gz, raw_sss.fif.gz, raw_tsss.fif.gz or _meg.fif\n",
      "  raw = mne.io.read_raw_fif(read_path)\n"
     ]
    },
    {
     "name": "stdout",
     "output_type": "stream",
     "text": [
      "Not setting metadata\n",
      "Not setting metadata\n",
      "320 matching events found\n",
      "Setting baseline interval to [-0.099609375, 0.0] sec\n",
      "Applying baseline correction (mode: mean)\n",
      "Created an SSP operator (subspace dimension = 1)\n",
      "1 projection items activated\n",
      "Loading data for 320 events and 1127 original time points ...\n",
      "0 bad epochs dropped\n",
      "Loading data for 320 events and 1127 original time points ...\n",
      "Subject 15############################################\n",
      "Opening raw data file ../local/bidsN170/sub-015/ses-N170/eeg/sub-015_cleaned.fif...\n",
      "    Read a total of 1 projection items:\n"
     ]
    },
    {
     "name": "stderr",
     "output_type": "stream",
     "text": [
      "<ipython-input-2-d8f6c74b3870>:23: RuntimeWarning: This filename (../local/bidsN170/sub-015/ses-N170/eeg/sub-015_cleaned.fif) does not conform to MNE naming conventions. All raw files should end with raw.fif, raw_sss.fif, raw_tsss.fif, raw.fif.gz, raw_sss.fif.gz, raw_tsss.fif.gz or _meg.fif\n",
      "  raw = mne.io.read_raw_fif(read_path)\n"
     ]
    },
    {
     "name": "stdout",
     "output_type": "stream",
     "text": [
      "        Average EEG reference (1 x 30) active\n",
      "    Range : 0 ... 589823 =      0.000 ...   575.999 secs\n",
      "Ready.\n",
      "Used Annotations descriptions: ['response:201', 'response:202', 'stimulus:1', 'stimulus:10', 'stimulus:101', 'stimulus:102', 'stimulus:103', 'stimulus:104', 'stimulus:105', 'stimulus:106', 'stimulus:107', 'stimulus:108', 'stimulus:109', 'stimulus:11', 'stimulus:110', 'stimulus:111', 'stimulus:112', 'stimulus:113', 'stimulus:114', 'stimulus:115', 'stimulus:116', 'stimulus:117', 'stimulus:118', 'stimulus:119', 'stimulus:12', 'stimulus:120', 'stimulus:121', 'stimulus:122', 'stimulus:123', 'stimulus:124', 'stimulus:125', 'stimulus:126', 'stimulus:127', 'stimulus:128', 'stimulus:129', 'stimulus:13', 'stimulus:130', 'stimulus:131', 'stimulus:132', 'stimulus:133', 'stimulus:134', 'stimulus:135', 'stimulus:136', 'stimulus:137', 'stimulus:138', 'stimulus:139', 'stimulus:14', 'stimulus:140', 'stimulus:141', 'stimulus:142', 'stimulus:143', 'stimulus:144', 'stimulus:145', 'stimulus:146', 'stimulus:147', 'stimulus:148', 'stimulus:149', 'stimulus:15', 'stimulus:150', 'stimulus:151', 'stimulus:152', 'stimulus:153', 'stimulus:154', 'stimulus:155', 'stimulus:156', 'stimulus:157', 'stimulus:158', 'stimulus:159', 'stimulus:16', 'stimulus:160', 'stimulus:161', 'stimulus:162', 'stimulus:163', 'stimulus:164', 'stimulus:165', 'stimulus:166', 'stimulus:167', 'stimulus:168', 'stimulus:169', 'stimulus:17', 'stimulus:170', 'stimulus:171', 'stimulus:172', 'stimulus:173', 'stimulus:174', 'stimulus:175', 'stimulus:176', 'stimulus:177', 'stimulus:178', 'stimulus:179', 'stimulus:18', 'stimulus:180', 'stimulus:19', 'stimulus:2', 'stimulus:20', 'stimulus:21', 'stimulus:22', 'stimulus:23', 'stimulus:24', 'stimulus:25', 'stimulus:26', 'stimulus:27', 'stimulus:28', 'stimulus:29', 'stimulus:3', 'stimulus:30', 'stimulus:31', 'stimulus:32', 'stimulus:33', 'stimulus:34', 'stimulus:35', 'stimulus:36', 'stimulus:37', 'stimulus:38', 'stimulus:39', 'stimulus:4', 'stimulus:40', 'stimulus:41', 'stimulus:42', 'stimulus:43', 'stimulus:44', 'stimulus:45', 'stimulus:46', 'stimulus:47', 'stimulus:48', 'stimulus:49', 'stimulus:5', 'stimulus:50', 'stimulus:51', 'stimulus:52', 'stimulus:53', 'stimulus:54', 'stimulus:55', 'stimulus:56', 'stimulus:57', 'stimulus:58', 'stimulus:59', 'stimulus:6', 'stimulus:60', 'stimulus:61', 'stimulus:62', 'stimulus:63', 'stimulus:64', 'stimulus:65', 'stimulus:66', 'stimulus:67', 'stimulus:68', 'stimulus:69', 'stimulus:7', 'stimulus:70', 'stimulus:71', 'stimulus:72', 'stimulus:73', 'stimulus:74', 'stimulus:75', 'stimulus:76', 'stimulus:77', 'stimulus:78', 'stimulus:79', 'stimulus:8', 'stimulus:80', 'stimulus:9']\n",
      "Not setting metadata\n",
      "Not setting metadata\n",
      "320 matching events found\n",
      "Setting baseline interval to [-0.099609375, 0.0] sec\n",
      "Applying baseline correction (mode: mean)\n",
      "Created an SSP operator (subspace dimension = 1)\n",
      "1 projection items activated\n",
      "Loading data for 320 events and 1127 original time points ...\n",
      "0 bad epochs dropped\n",
      "Loading data for 320 events and 1127 original time points ...\n",
      "Subject 16############################################\n",
      "Opening raw data file ../local/bidsN170/sub-016/ses-N170/eeg/sub-016_cleaned.fif...\n"
     ]
    },
    {
     "name": "stderr",
     "output_type": "stream",
     "text": [
      "<ipython-input-2-d8f6c74b3870>:23: RuntimeWarning: This filename (../local/bidsN170/sub-016/ses-N170/eeg/sub-016_cleaned.fif) does not conform to MNE naming conventions. All raw files should end with raw.fif, raw_sss.fif, raw_tsss.fif, raw.fif.gz, raw_sss.fif.gz, raw_tsss.fif.gz or _meg.fif\n",
      "  raw = mne.io.read_raw_fif(read_path)\n"
     ]
    },
    {
     "name": "stdout",
     "output_type": "stream",
     "text": [
      "    Read a total of 1 projection items:\n",
      "        Average EEG reference (1 x 30) active\n",
      "    Range : 0 ... 646143 =      0.000 ...   630.999 secs\n",
      "Ready.\n",
      "Used Annotations descriptions: ['response:201', 'response:202', 'stimulus:1', 'stimulus:10', 'stimulus:101', 'stimulus:102', 'stimulus:103', 'stimulus:104', 'stimulus:105', 'stimulus:106', 'stimulus:107', 'stimulus:108', 'stimulus:109', 'stimulus:11', 'stimulus:110', 'stimulus:111', 'stimulus:112', 'stimulus:113', 'stimulus:114', 'stimulus:115', 'stimulus:116', 'stimulus:117', 'stimulus:118', 'stimulus:119', 'stimulus:12', 'stimulus:120', 'stimulus:121', 'stimulus:122', 'stimulus:123', 'stimulus:124', 'stimulus:125', 'stimulus:126', 'stimulus:127', 'stimulus:128', 'stimulus:129', 'stimulus:13', 'stimulus:130', 'stimulus:131', 'stimulus:132', 'stimulus:133', 'stimulus:134', 'stimulus:135', 'stimulus:136', 'stimulus:137', 'stimulus:138', 'stimulus:139', 'stimulus:14', 'stimulus:140', 'stimulus:141', 'stimulus:142', 'stimulus:143', 'stimulus:144', 'stimulus:145', 'stimulus:146', 'stimulus:147', 'stimulus:148', 'stimulus:149', 'stimulus:15', 'stimulus:150', 'stimulus:151', 'stimulus:152', 'stimulus:153', 'stimulus:154', 'stimulus:155', 'stimulus:156', 'stimulus:157', 'stimulus:158', 'stimulus:159', 'stimulus:16', 'stimulus:160', 'stimulus:161', 'stimulus:162', 'stimulus:163', 'stimulus:164', 'stimulus:165', 'stimulus:166', 'stimulus:167', 'stimulus:168', 'stimulus:169', 'stimulus:17', 'stimulus:170', 'stimulus:171', 'stimulus:172', 'stimulus:173', 'stimulus:174', 'stimulus:175', 'stimulus:176', 'stimulus:177', 'stimulus:178', 'stimulus:179', 'stimulus:18', 'stimulus:180', 'stimulus:19', 'stimulus:2', 'stimulus:20', 'stimulus:21', 'stimulus:22', 'stimulus:23', 'stimulus:24', 'stimulus:25', 'stimulus:26', 'stimulus:27', 'stimulus:28', 'stimulus:29', 'stimulus:3', 'stimulus:30', 'stimulus:31', 'stimulus:32', 'stimulus:33', 'stimulus:34', 'stimulus:35', 'stimulus:36', 'stimulus:37', 'stimulus:38', 'stimulus:39', 'stimulus:4', 'stimulus:40', 'stimulus:41', 'stimulus:42', 'stimulus:43', 'stimulus:44', 'stimulus:45', 'stimulus:46', 'stimulus:47', 'stimulus:48', 'stimulus:49', 'stimulus:5', 'stimulus:50', 'stimulus:51', 'stimulus:52', 'stimulus:53', 'stimulus:54', 'stimulus:55', 'stimulus:56', 'stimulus:57', 'stimulus:58', 'stimulus:59', 'stimulus:6', 'stimulus:60', 'stimulus:61', 'stimulus:62', 'stimulus:63', 'stimulus:64', 'stimulus:65', 'stimulus:66', 'stimulus:67', 'stimulus:68', 'stimulus:69', 'stimulus:7', 'stimulus:70', 'stimulus:71', 'stimulus:72', 'stimulus:73', 'stimulus:74', 'stimulus:75', 'stimulus:76', 'stimulus:77', 'stimulus:78', 'stimulus:79', 'stimulus:8', 'stimulus:80', 'stimulus:9']\n",
      "Not setting metadata\n",
      "Not setting metadata\n",
      "320 matching events found\n",
      "Setting baseline interval to [-0.099609375, 0.0] sec\n",
      "Applying baseline correction (mode: mean)\n",
      "Created an SSP operator (subspace dimension = 1)\n",
      "1 projection items activated\n",
      "Loading data for 320 events and 1127 original time points ...\n",
      "0 bad epochs dropped\n",
      "Loading data for 320 events and 1127 original time points ...\n",
      "Subject 17############################################\n",
      "Opening raw data file ../local/bidsN170/sub-017/ses-N170/eeg/sub-017_cleaned.fif...\n",
      "    Read a total of 1 projection items:\n"
     ]
    },
    {
     "name": "stderr",
     "output_type": "stream",
     "text": [
      "<ipython-input-2-d8f6c74b3870>:23: RuntimeWarning: This filename (../local/bidsN170/sub-017/ses-N170/eeg/sub-017_cleaned.fif) does not conform to MNE naming conventions. All raw files should end with raw.fif, raw_sss.fif, raw_tsss.fif, raw.fif.gz, raw_sss.fif.gz, raw_tsss.fif.gz or _meg.fif\n",
      "  raw = mne.io.read_raw_fif(read_path)\n"
     ]
    },
    {
     "name": "stdout",
     "output_type": "stream",
     "text": [
      "        Average EEG reference (1 x 30) active\n",
      "    Range : 0 ... 609279 =      0.000 ...   594.999 secs\n",
      "Ready.\n",
      "Used Annotations descriptions: ['response:201', 'response:202', 'stimulus:1', 'stimulus:10', 'stimulus:101', 'stimulus:102', 'stimulus:103', 'stimulus:104', 'stimulus:105', 'stimulus:106', 'stimulus:107', 'stimulus:108', 'stimulus:109', 'stimulus:11', 'stimulus:110', 'stimulus:111', 'stimulus:112', 'stimulus:113', 'stimulus:114', 'stimulus:115', 'stimulus:116', 'stimulus:117', 'stimulus:118', 'stimulus:119', 'stimulus:12', 'stimulus:120', 'stimulus:121', 'stimulus:122', 'stimulus:123', 'stimulus:124', 'stimulus:125', 'stimulus:126', 'stimulus:127', 'stimulus:128', 'stimulus:129', 'stimulus:13', 'stimulus:130', 'stimulus:131', 'stimulus:132', 'stimulus:133', 'stimulus:134', 'stimulus:135', 'stimulus:136', 'stimulus:137', 'stimulus:138', 'stimulus:139', 'stimulus:14', 'stimulus:140', 'stimulus:141', 'stimulus:142', 'stimulus:143', 'stimulus:144', 'stimulus:145', 'stimulus:146', 'stimulus:147', 'stimulus:148', 'stimulus:149', 'stimulus:15', 'stimulus:150', 'stimulus:151', 'stimulus:152', 'stimulus:153', 'stimulus:154', 'stimulus:155', 'stimulus:156', 'stimulus:157', 'stimulus:158', 'stimulus:159', 'stimulus:16', 'stimulus:160', 'stimulus:161', 'stimulus:162', 'stimulus:163', 'stimulus:164', 'stimulus:165', 'stimulus:166', 'stimulus:167', 'stimulus:168', 'stimulus:169', 'stimulus:17', 'stimulus:170', 'stimulus:171', 'stimulus:172', 'stimulus:173', 'stimulus:174', 'stimulus:175', 'stimulus:176', 'stimulus:177', 'stimulus:178', 'stimulus:179', 'stimulus:18', 'stimulus:180', 'stimulus:19', 'stimulus:2', 'stimulus:20', 'stimulus:21', 'stimulus:22', 'stimulus:23', 'stimulus:24', 'stimulus:25', 'stimulus:26', 'stimulus:27', 'stimulus:28', 'stimulus:29', 'stimulus:3', 'stimulus:30', 'stimulus:31', 'stimulus:32', 'stimulus:33', 'stimulus:34', 'stimulus:35', 'stimulus:36', 'stimulus:37', 'stimulus:38', 'stimulus:39', 'stimulus:4', 'stimulus:40', 'stimulus:41', 'stimulus:42', 'stimulus:43', 'stimulus:44', 'stimulus:45', 'stimulus:46', 'stimulus:47', 'stimulus:48', 'stimulus:49', 'stimulus:5', 'stimulus:50', 'stimulus:51', 'stimulus:52', 'stimulus:53', 'stimulus:54', 'stimulus:55', 'stimulus:56', 'stimulus:57', 'stimulus:58', 'stimulus:59', 'stimulus:6', 'stimulus:60', 'stimulus:61', 'stimulus:62', 'stimulus:63', 'stimulus:64', 'stimulus:65', 'stimulus:66', 'stimulus:67', 'stimulus:68', 'stimulus:69', 'stimulus:7', 'stimulus:70', 'stimulus:71', 'stimulus:72', 'stimulus:73', 'stimulus:74', 'stimulus:75', 'stimulus:76', 'stimulus:77', 'stimulus:78', 'stimulus:79', 'stimulus:8', 'stimulus:80', 'stimulus:9']\n",
      "Not setting metadata\n",
      "Not setting metadata\n",
      "320 matching events found\n",
      "Setting baseline interval to [-0.099609375, 0.0] sec\n",
      "Applying baseline correction (mode: mean)\n",
      "Created an SSP operator (subspace dimension = 1)\n",
      "1 projection items activated\n",
      "Loading data for 320 events and 1127 original time points ...\n",
      "0 bad epochs dropped\n",
      "Loading data for 320 events and 1127 original time points ...\n",
      "Subject 18############################################\n",
      "Opening raw data file ../local/bidsN170/sub-018/ses-N170/eeg/sub-018_cleaned.fif...\n"
     ]
    },
    {
     "name": "stderr",
     "output_type": "stream",
     "text": [
      "<ipython-input-2-d8f6c74b3870>:23: RuntimeWarning: This filename (../local/bidsN170/sub-018/ses-N170/eeg/sub-018_cleaned.fif) does not conform to MNE naming conventions. All raw files should end with raw.fif, raw_sss.fif, raw_tsss.fif, raw.fif.gz, raw_sss.fif.gz, raw_tsss.fif.gz or _meg.fif\n",
      "  raw = mne.io.read_raw_fif(read_path)\n"
     ]
    },
    {
     "name": "stdout",
     "output_type": "stream",
     "text": [
      "    Read a total of 1 projection items:\n",
      "        Average EEG reference (1 x 30) active\n",
      "    Range : 0 ... 622591 =      0.000 ...   607.999 secs\n",
      "Ready.\n",
      "Used Annotations descriptions: ['response:201', 'response:202', 'stimulus:1', 'stimulus:10', 'stimulus:101', 'stimulus:102', 'stimulus:103', 'stimulus:104', 'stimulus:105', 'stimulus:106', 'stimulus:107', 'stimulus:108', 'stimulus:109', 'stimulus:11', 'stimulus:110', 'stimulus:111', 'stimulus:112', 'stimulus:113', 'stimulus:114', 'stimulus:115', 'stimulus:116', 'stimulus:117', 'stimulus:118', 'stimulus:119', 'stimulus:12', 'stimulus:120', 'stimulus:121', 'stimulus:122', 'stimulus:123', 'stimulus:124', 'stimulus:125', 'stimulus:126', 'stimulus:127', 'stimulus:128', 'stimulus:129', 'stimulus:13', 'stimulus:130', 'stimulus:131', 'stimulus:132', 'stimulus:133', 'stimulus:134', 'stimulus:135', 'stimulus:136', 'stimulus:137', 'stimulus:138', 'stimulus:139', 'stimulus:14', 'stimulus:140', 'stimulus:141', 'stimulus:142', 'stimulus:143', 'stimulus:144', 'stimulus:145', 'stimulus:146', 'stimulus:147', 'stimulus:148', 'stimulus:149', 'stimulus:15', 'stimulus:150', 'stimulus:151', 'stimulus:152', 'stimulus:153', 'stimulus:154', 'stimulus:155', 'stimulus:156', 'stimulus:157', 'stimulus:158', 'stimulus:159', 'stimulus:16', 'stimulus:160', 'stimulus:161', 'stimulus:162', 'stimulus:163', 'stimulus:164', 'stimulus:165', 'stimulus:166', 'stimulus:167', 'stimulus:168', 'stimulus:169', 'stimulus:17', 'stimulus:170', 'stimulus:171', 'stimulus:172', 'stimulus:173', 'stimulus:174', 'stimulus:175', 'stimulus:176', 'stimulus:177', 'stimulus:178', 'stimulus:179', 'stimulus:18', 'stimulus:180', 'stimulus:19', 'stimulus:2', 'stimulus:20', 'stimulus:21', 'stimulus:22', 'stimulus:23', 'stimulus:24', 'stimulus:25', 'stimulus:26', 'stimulus:27', 'stimulus:28', 'stimulus:29', 'stimulus:3', 'stimulus:30', 'stimulus:31', 'stimulus:32', 'stimulus:33', 'stimulus:34', 'stimulus:35', 'stimulus:36', 'stimulus:37', 'stimulus:38', 'stimulus:39', 'stimulus:4', 'stimulus:40', 'stimulus:41', 'stimulus:42', 'stimulus:43', 'stimulus:44', 'stimulus:45', 'stimulus:46', 'stimulus:47', 'stimulus:48', 'stimulus:49', 'stimulus:5', 'stimulus:50', 'stimulus:51', 'stimulus:52', 'stimulus:53', 'stimulus:54', 'stimulus:55', 'stimulus:56', 'stimulus:57', 'stimulus:58', 'stimulus:59', 'stimulus:6', 'stimulus:60', 'stimulus:61', 'stimulus:62', 'stimulus:63', 'stimulus:64', 'stimulus:65', 'stimulus:66', 'stimulus:67', 'stimulus:68', 'stimulus:69', 'stimulus:7', 'stimulus:70', 'stimulus:71', 'stimulus:72', 'stimulus:73', 'stimulus:74', 'stimulus:75', 'stimulus:76', 'stimulus:77', 'stimulus:78', 'stimulus:79', 'stimulus:8', 'stimulus:80', 'stimulus:9']\n",
      "Not setting metadata\n",
      "Not setting metadata\n",
      "320 matching events found\n",
      "Setting baseline interval to [-0.099609375, 0.0] sec\n",
      "Applying baseline correction (mode: mean)\n",
      "Created an SSP operator (subspace dimension = 1)\n",
      "1 projection items activated\n",
      "Loading data for 320 events and 1127 original time points ...\n",
      "0 bad epochs dropped\n",
      "Loading data for 320 events and 1127 original time points ...\n",
      "Subject 19############################################\n",
      "Opening raw data file ../local/bidsN170/sub-019/ses-N170/eeg/sub-019_cleaned.fif...\n",
      "    Read a total of 1 projection items:\n",
      "        Average EEG reference (1 x 30) active\n",
      "    Range : 0 ... 535551 =      0.000 ...   522.999 secs\n",
      "Ready.\n",
      "Used Annotations descriptions: ['response:201', 'response:202', 'stimulus:1', 'stimulus:10', 'stimulus:101', 'stimulus:102', 'stimulus:103', 'stimulus:104', 'stimulus:105', 'stimulus:106', 'stimulus:107', 'stimulus:108', 'stimulus:109', 'stimulus:11', 'stimulus:110', 'stimulus:111', 'stimulus:112', 'stimulus:113', 'stimulus:114', 'stimulus:115', 'stimulus:116', 'stimulus:117', 'stimulus:118', 'stimulus:119', 'stimulus:12', 'stimulus:120', 'stimulus:121', 'stimulus:122', 'stimulus:123', 'stimulus:124', 'stimulus:125', 'stimulus:126', 'stimulus:127', 'stimulus:128', 'stimulus:129', 'stimulus:13', 'stimulus:130', 'stimulus:131', 'stimulus:132', 'stimulus:133', 'stimulus:134', 'stimulus:135', 'stimulus:136', 'stimulus:137', 'stimulus:138', 'stimulus:139', 'stimulus:14', 'stimulus:140', 'stimulus:141', 'stimulus:142', 'stimulus:143', 'stimulus:144', 'stimulus:145', 'stimulus:146', 'stimulus:147', 'stimulus:148', 'stimulus:149', 'stimulus:15', 'stimulus:150', 'stimulus:151', 'stimulus:152', 'stimulus:153', 'stimulus:154', 'stimulus:155', 'stimulus:156', 'stimulus:157', 'stimulus:158', 'stimulus:159', 'stimulus:16', 'stimulus:160', 'stimulus:161', 'stimulus:162', 'stimulus:163', 'stimulus:164', 'stimulus:165', 'stimulus:166', 'stimulus:167', 'stimulus:168', 'stimulus:169', 'stimulus:17', 'stimulus:170', 'stimulus:171', 'stimulus:172', 'stimulus:173', 'stimulus:174', 'stimulus:175', 'stimulus:176', 'stimulus:177', 'stimulus:178', 'stimulus:179', 'stimulus:18', 'stimulus:180', 'stimulus:19', 'stimulus:2', 'stimulus:20', 'stimulus:21', 'stimulus:22', 'stimulus:23', 'stimulus:24', 'stimulus:25', 'stimulus:26', 'stimulus:27', 'stimulus:28', 'stimulus:29', 'stimulus:3', 'stimulus:30', 'stimulus:31', 'stimulus:32', 'stimulus:33', 'stimulus:34', 'stimulus:35', 'stimulus:36', 'stimulus:37', 'stimulus:38', 'stimulus:39', 'stimulus:4', 'stimulus:40', 'stimulus:41', 'stimulus:42', 'stimulus:43', 'stimulus:44', 'stimulus:45', 'stimulus:46', 'stimulus:47', 'stimulus:48', 'stimulus:49', 'stimulus:5', 'stimulus:50', 'stimulus:51', 'stimulus:52', 'stimulus:53', 'stimulus:54', 'stimulus:55', 'stimulus:56', 'stimulus:57', 'stimulus:58', 'stimulus:59', 'stimulus:6', 'stimulus:60', 'stimulus:61', 'stimulus:62', 'stimulus:63', 'stimulus:64', 'stimulus:65', 'stimulus:66', 'stimulus:67', 'stimulus:68', 'stimulus:69', 'stimulus:7', 'stimulus:70', 'stimulus:71', 'stimulus:72', 'stimulus:73', 'stimulus:74', 'stimulus:75', 'stimulus:76', 'stimulus:77', 'stimulus:78', 'stimulus:79', 'stimulus:8', 'stimulus:80', 'stimulus:9']\n",
      "Not setting metadata\n"
     ]
    },
    {
     "name": "stderr",
     "output_type": "stream",
     "text": [
      "<ipython-input-2-d8f6c74b3870>:23: RuntimeWarning: This filename (../local/bidsN170/sub-019/ses-N170/eeg/sub-019_cleaned.fif) does not conform to MNE naming conventions. All raw files should end with raw.fif, raw_sss.fif, raw_tsss.fif, raw.fif.gz, raw_sss.fif.gz, raw_tsss.fif.gz or _meg.fif\n",
      "  raw = mne.io.read_raw_fif(read_path)\n"
     ]
    },
    {
     "name": "stdout",
     "output_type": "stream",
     "text": [
      "Not setting metadata\n",
      "320 matching events found\n",
      "Setting baseline interval to [-0.099609375, 0.0] sec\n",
      "Applying baseline correction (mode: mean)\n",
      "Created an SSP operator (subspace dimension = 1)\n",
      "1 projection items activated\n",
      "Loading data for 320 events and 1127 original time points ...\n",
      "0 bad epochs dropped\n",
      "Loading data for 320 events and 1127 original time points ...\n",
      "Subject 20############################################\n",
      "Opening raw data file ../local/bidsN170/sub-020/ses-N170/eeg/sub-020_cleaned.fif...\n",
      "    Read a total of 1 projection items:\n",
      "        Average EEG reference (1 x 30) active\n"
     ]
    },
    {
     "name": "stderr",
     "output_type": "stream",
     "text": [
      "<ipython-input-2-d8f6c74b3870>:23: RuntimeWarning: This filename (../local/bidsN170/sub-020/ses-N170/eeg/sub-020_cleaned.fif) does not conform to MNE naming conventions. All raw files should end with raw.fif, raw_sss.fif, raw_tsss.fif, raw.fif.gz, raw_sss.fif.gz, raw_tsss.fif.gz or _meg.fif\n",
      "  raw = mne.io.read_raw_fif(read_path)\n"
     ]
    },
    {
     "name": "stdout",
     "output_type": "stream",
     "text": [
      "    Range : 0 ... 599039 =      0.000 ...   584.999 secs\n",
      "Ready.\n",
      "Used Annotations descriptions: ['response:201', 'response:202', 'stimulus:1', 'stimulus:10', 'stimulus:101', 'stimulus:102', 'stimulus:103', 'stimulus:104', 'stimulus:105', 'stimulus:106', 'stimulus:107', 'stimulus:108', 'stimulus:109', 'stimulus:11', 'stimulus:110', 'stimulus:111', 'stimulus:112', 'stimulus:113', 'stimulus:114', 'stimulus:115', 'stimulus:116', 'stimulus:117', 'stimulus:118', 'stimulus:119', 'stimulus:12', 'stimulus:120', 'stimulus:121', 'stimulus:122', 'stimulus:123', 'stimulus:124', 'stimulus:125', 'stimulus:126', 'stimulus:127', 'stimulus:128', 'stimulus:129', 'stimulus:13', 'stimulus:130', 'stimulus:131', 'stimulus:132', 'stimulus:133', 'stimulus:134', 'stimulus:135', 'stimulus:136', 'stimulus:137', 'stimulus:138', 'stimulus:139', 'stimulus:14', 'stimulus:140', 'stimulus:141', 'stimulus:142', 'stimulus:143', 'stimulus:144', 'stimulus:145', 'stimulus:146', 'stimulus:147', 'stimulus:148', 'stimulus:149', 'stimulus:15', 'stimulus:150', 'stimulus:151', 'stimulus:152', 'stimulus:153', 'stimulus:154', 'stimulus:155', 'stimulus:156', 'stimulus:157', 'stimulus:158', 'stimulus:159', 'stimulus:16', 'stimulus:160', 'stimulus:161', 'stimulus:162', 'stimulus:163', 'stimulus:164', 'stimulus:165', 'stimulus:166', 'stimulus:167', 'stimulus:168', 'stimulus:169', 'stimulus:17', 'stimulus:170', 'stimulus:171', 'stimulus:172', 'stimulus:173', 'stimulus:174', 'stimulus:175', 'stimulus:176', 'stimulus:177', 'stimulus:178', 'stimulus:179', 'stimulus:18', 'stimulus:180', 'stimulus:19', 'stimulus:2', 'stimulus:20', 'stimulus:21', 'stimulus:22', 'stimulus:23', 'stimulus:24', 'stimulus:25', 'stimulus:26', 'stimulus:27', 'stimulus:28', 'stimulus:29', 'stimulus:3', 'stimulus:30', 'stimulus:31', 'stimulus:32', 'stimulus:33', 'stimulus:34', 'stimulus:35', 'stimulus:36', 'stimulus:37', 'stimulus:38', 'stimulus:39', 'stimulus:4', 'stimulus:40', 'stimulus:41', 'stimulus:42', 'stimulus:43', 'stimulus:44', 'stimulus:45', 'stimulus:46', 'stimulus:47', 'stimulus:48', 'stimulus:49', 'stimulus:5', 'stimulus:50', 'stimulus:51', 'stimulus:52', 'stimulus:53', 'stimulus:54', 'stimulus:55', 'stimulus:56', 'stimulus:57', 'stimulus:58', 'stimulus:59', 'stimulus:6', 'stimulus:60', 'stimulus:61', 'stimulus:62', 'stimulus:63', 'stimulus:64', 'stimulus:65', 'stimulus:66', 'stimulus:67', 'stimulus:68', 'stimulus:69', 'stimulus:7', 'stimulus:70', 'stimulus:71', 'stimulus:72', 'stimulus:73', 'stimulus:74', 'stimulus:75', 'stimulus:76', 'stimulus:77', 'stimulus:78', 'stimulus:79', 'stimulus:8', 'stimulus:80', 'stimulus:9']\n",
      "Not setting metadata\n",
      "Not setting metadata\n",
      "320 matching events found\n",
      "Setting baseline interval to [-0.099609375, 0.0] sec\n",
      "Applying baseline correction (mode: mean)\n",
      "Created an SSP operator (subspace dimension = 1)\n",
      "1 projection items activated\n",
      "Loading data for 320 events and 1127 original time points ...\n",
      "0 bad epochs dropped\n",
      "Loading data for 320 events and 1127 original time points ...\n",
      "Subject 21############################################\n",
      "Opening raw data file ../local/bidsN170/sub-021/ses-N170/eeg/sub-021_cleaned.fif...\n",
      "    Read a total of 1 projection items:\n"
     ]
    },
    {
     "name": "stderr",
     "output_type": "stream",
     "text": [
      "<ipython-input-2-d8f6c74b3870>:23: RuntimeWarning: This filename (../local/bidsN170/sub-021/ses-N170/eeg/sub-021_cleaned.fif) does not conform to MNE naming conventions. All raw files should end with raw.fif, raw_sss.fif, raw_tsss.fif, raw.fif.gz, raw_sss.fif.gz, raw_tsss.fif.gz or _meg.fif\n",
      "  raw = mne.io.read_raw_fif(read_path)\n"
     ]
    },
    {
     "name": "stdout",
     "output_type": "stream",
     "text": [
      "        Average EEG reference (1 x 30) active\n",
      "    Range : 0 ... 570367 =      0.000 ...   556.999 secs\n",
      "Ready.\n",
      "Used Annotations descriptions: ['response:201', 'response:202', 'stimulus:1', 'stimulus:10', 'stimulus:101', 'stimulus:102', 'stimulus:103', 'stimulus:104', 'stimulus:105', 'stimulus:106', 'stimulus:107', 'stimulus:108', 'stimulus:109', 'stimulus:11', 'stimulus:110', 'stimulus:111', 'stimulus:112', 'stimulus:113', 'stimulus:114', 'stimulus:115', 'stimulus:116', 'stimulus:117', 'stimulus:118', 'stimulus:119', 'stimulus:12', 'stimulus:120', 'stimulus:121', 'stimulus:122', 'stimulus:123', 'stimulus:124', 'stimulus:125', 'stimulus:126', 'stimulus:127', 'stimulus:128', 'stimulus:129', 'stimulus:13', 'stimulus:130', 'stimulus:131', 'stimulus:132', 'stimulus:133', 'stimulus:134', 'stimulus:135', 'stimulus:136', 'stimulus:137', 'stimulus:138', 'stimulus:139', 'stimulus:14', 'stimulus:140', 'stimulus:141', 'stimulus:142', 'stimulus:143', 'stimulus:144', 'stimulus:145', 'stimulus:146', 'stimulus:147', 'stimulus:148', 'stimulus:149', 'stimulus:15', 'stimulus:150', 'stimulus:151', 'stimulus:152', 'stimulus:153', 'stimulus:154', 'stimulus:155', 'stimulus:156', 'stimulus:157', 'stimulus:158', 'stimulus:159', 'stimulus:16', 'stimulus:160', 'stimulus:161', 'stimulus:162', 'stimulus:163', 'stimulus:164', 'stimulus:165', 'stimulus:166', 'stimulus:167', 'stimulus:168', 'stimulus:169', 'stimulus:17', 'stimulus:170', 'stimulus:171', 'stimulus:172', 'stimulus:173', 'stimulus:174', 'stimulus:175', 'stimulus:176', 'stimulus:177', 'stimulus:178', 'stimulus:179', 'stimulus:18', 'stimulus:180', 'stimulus:19', 'stimulus:2', 'stimulus:20', 'stimulus:21', 'stimulus:22', 'stimulus:23', 'stimulus:24', 'stimulus:25', 'stimulus:26', 'stimulus:27', 'stimulus:28', 'stimulus:29', 'stimulus:3', 'stimulus:30', 'stimulus:31', 'stimulus:32', 'stimulus:33', 'stimulus:34', 'stimulus:35', 'stimulus:36', 'stimulus:37', 'stimulus:38', 'stimulus:39', 'stimulus:4', 'stimulus:40', 'stimulus:41', 'stimulus:42', 'stimulus:43', 'stimulus:44', 'stimulus:45', 'stimulus:46', 'stimulus:47', 'stimulus:48', 'stimulus:49', 'stimulus:5', 'stimulus:50', 'stimulus:51', 'stimulus:52', 'stimulus:53', 'stimulus:54', 'stimulus:55', 'stimulus:56', 'stimulus:57', 'stimulus:58', 'stimulus:59', 'stimulus:6', 'stimulus:60', 'stimulus:61', 'stimulus:62', 'stimulus:63', 'stimulus:64', 'stimulus:65', 'stimulus:66', 'stimulus:67', 'stimulus:68', 'stimulus:69', 'stimulus:7', 'stimulus:70', 'stimulus:71', 'stimulus:72', 'stimulus:73', 'stimulus:74', 'stimulus:75', 'stimulus:76', 'stimulus:77', 'stimulus:78', 'stimulus:79', 'stimulus:8', 'stimulus:80', 'stimulus:9']\n",
      "Not setting metadata\n",
      "Not setting metadata\n",
      "320 matching events found\n",
      "Setting baseline interval to [-0.099609375, 0.0] sec\n",
      "Applying baseline correction (mode: mean)\n",
      "Created an SSP operator (subspace dimension = 1)\n",
      "1 projection items activated\n",
      "Loading data for 320 events and 1127 original time points ...\n",
      "0 bad epochs dropped\n",
      "Loading data for 320 events and 1127 original time points ...\n",
      "Subject 22############################################\n",
      "Opening raw data file ../local/bidsN170/sub-022/ses-N170/eeg/sub-022_cleaned.fif...\n",
      "    Read a total of 1 projection items:\n"
     ]
    },
    {
     "name": "stderr",
     "output_type": "stream",
     "text": [
      "<ipython-input-2-d8f6c74b3870>:23: RuntimeWarning: This filename (../local/bidsN170/sub-022/ses-N170/eeg/sub-022_cleaned.fif) does not conform to MNE naming conventions. All raw files should end with raw.fif, raw_sss.fif, raw_tsss.fif, raw.fif.gz, raw_sss.fif.gz, raw_tsss.fif.gz or _meg.fif\n",
      "  raw = mne.io.read_raw_fif(read_path)\n"
     ]
    },
    {
     "name": "stdout",
     "output_type": "stream",
     "text": [
      "        Average EEG reference (1 x 30) active\n",
      "    Range : 0 ... 591871 =      0.000 ...   577.999 secs\n",
      "Ready.\n",
      "Used Annotations descriptions: ['response:201', 'response:202', 'stimulus:1', 'stimulus:10', 'stimulus:101', 'stimulus:102', 'stimulus:103', 'stimulus:104', 'stimulus:105', 'stimulus:106', 'stimulus:107', 'stimulus:108', 'stimulus:109', 'stimulus:11', 'stimulus:110', 'stimulus:111', 'stimulus:112', 'stimulus:113', 'stimulus:114', 'stimulus:115', 'stimulus:116', 'stimulus:117', 'stimulus:118', 'stimulus:119', 'stimulus:12', 'stimulus:120', 'stimulus:121', 'stimulus:122', 'stimulus:123', 'stimulus:124', 'stimulus:125', 'stimulus:126', 'stimulus:127', 'stimulus:128', 'stimulus:129', 'stimulus:13', 'stimulus:130', 'stimulus:131', 'stimulus:132', 'stimulus:133', 'stimulus:134', 'stimulus:135', 'stimulus:136', 'stimulus:137', 'stimulus:138', 'stimulus:139', 'stimulus:14', 'stimulus:140', 'stimulus:141', 'stimulus:142', 'stimulus:143', 'stimulus:144', 'stimulus:145', 'stimulus:146', 'stimulus:147', 'stimulus:148', 'stimulus:149', 'stimulus:15', 'stimulus:150', 'stimulus:151', 'stimulus:152', 'stimulus:153', 'stimulus:154', 'stimulus:155', 'stimulus:156', 'stimulus:157', 'stimulus:158', 'stimulus:159', 'stimulus:16', 'stimulus:160', 'stimulus:161', 'stimulus:162', 'stimulus:163', 'stimulus:164', 'stimulus:165', 'stimulus:166', 'stimulus:167', 'stimulus:168', 'stimulus:169', 'stimulus:17', 'stimulus:170', 'stimulus:171', 'stimulus:172', 'stimulus:173', 'stimulus:174', 'stimulus:175', 'stimulus:176', 'stimulus:177', 'stimulus:178', 'stimulus:179', 'stimulus:18', 'stimulus:180', 'stimulus:19', 'stimulus:2', 'stimulus:20', 'stimulus:21', 'stimulus:22', 'stimulus:23', 'stimulus:24', 'stimulus:25', 'stimulus:26', 'stimulus:27', 'stimulus:28', 'stimulus:29', 'stimulus:3', 'stimulus:30', 'stimulus:31', 'stimulus:32', 'stimulus:33', 'stimulus:34', 'stimulus:35', 'stimulus:36', 'stimulus:37', 'stimulus:38', 'stimulus:39', 'stimulus:4', 'stimulus:40', 'stimulus:41', 'stimulus:42', 'stimulus:43', 'stimulus:44', 'stimulus:45', 'stimulus:46', 'stimulus:47', 'stimulus:48', 'stimulus:49', 'stimulus:5', 'stimulus:50', 'stimulus:51', 'stimulus:52', 'stimulus:53', 'stimulus:54', 'stimulus:55', 'stimulus:56', 'stimulus:57', 'stimulus:58', 'stimulus:59', 'stimulus:6', 'stimulus:60', 'stimulus:61', 'stimulus:62', 'stimulus:63', 'stimulus:64', 'stimulus:65', 'stimulus:66', 'stimulus:67', 'stimulus:68', 'stimulus:69', 'stimulus:7', 'stimulus:70', 'stimulus:71', 'stimulus:72', 'stimulus:73', 'stimulus:74', 'stimulus:75', 'stimulus:76', 'stimulus:77', 'stimulus:78', 'stimulus:79', 'stimulus:8', 'stimulus:80', 'stimulus:9']\n",
      "Not setting metadata\n",
      "Not setting metadata\n",
      "320 matching events found\n",
      "Setting baseline interval to [-0.099609375, 0.0] sec\n",
      "Applying baseline correction (mode: mean)\n",
      "Created an SSP operator (subspace dimension = 1)\n",
      "1 projection items activated\n",
      "Loading data for 320 events and 1127 original time points ...\n",
      "0 bad epochs dropped\n",
      "Loading data for 320 events and 1127 original time points ...\n",
      "Subject 23############################################\n",
      "Opening raw data file ../local/bidsN170/sub-023/ses-N170/eeg/sub-023_cleaned.fif...\n",
      "    Read a total of 1 projection items:\n",
      "        Average EEG reference (1 x 30) active\n"
     ]
    },
    {
     "name": "stderr",
     "output_type": "stream",
     "text": [
      "<ipython-input-2-d8f6c74b3870>:23: RuntimeWarning: This filename (../local/bidsN170/sub-023/ses-N170/eeg/sub-023_cleaned.fif) does not conform to MNE naming conventions. All raw files should end with raw.fif, raw_sss.fif, raw_tsss.fif, raw.fif.gz, raw_sss.fif.gz, raw_tsss.fif.gz or _meg.fif\n",
      "  raw = mne.io.read_raw_fif(read_path)\n"
     ]
    },
    {
     "name": "stdout",
     "output_type": "stream",
     "text": [
      "    Range : 0 ... 564223 =      0.000 ...   550.999 secs\n",
      "Ready.\n",
      "Used Annotations descriptions: ['response:201', 'response:202', 'stimulus:1', 'stimulus:10', 'stimulus:101', 'stimulus:102', 'stimulus:103', 'stimulus:104', 'stimulus:105', 'stimulus:106', 'stimulus:107', 'stimulus:108', 'stimulus:109', 'stimulus:11', 'stimulus:110', 'stimulus:111', 'stimulus:112', 'stimulus:113', 'stimulus:114', 'stimulus:115', 'stimulus:116', 'stimulus:117', 'stimulus:118', 'stimulus:119', 'stimulus:12', 'stimulus:120', 'stimulus:121', 'stimulus:122', 'stimulus:123', 'stimulus:124', 'stimulus:125', 'stimulus:126', 'stimulus:127', 'stimulus:128', 'stimulus:129', 'stimulus:13', 'stimulus:130', 'stimulus:131', 'stimulus:132', 'stimulus:133', 'stimulus:134', 'stimulus:135', 'stimulus:136', 'stimulus:137', 'stimulus:138', 'stimulus:139', 'stimulus:14', 'stimulus:140', 'stimulus:141', 'stimulus:142', 'stimulus:143', 'stimulus:144', 'stimulus:145', 'stimulus:146', 'stimulus:147', 'stimulus:148', 'stimulus:149', 'stimulus:15', 'stimulus:150', 'stimulus:151', 'stimulus:152', 'stimulus:153', 'stimulus:154', 'stimulus:155', 'stimulus:156', 'stimulus:157', 'stimulus:158', 'stimulus:159', 'stimulus:16', 'stimulus:160', 'stimulus:161', 'stimulus:162', 'stimulus:163', 'stimulus:164', 'stimulus:165', 'stimulus:166', 'stimulus:167', 'stimulus:168', 'stimulus:169', 'stimulus:17', 'stimulus:170', 'stimulus:171', 'stimulus:172', 'stimulus:173', 'stimulus:174', 'stimulus:175', 'stimulus:176', 'stimulus:177', 'stimulus:178', 'stimulus:179', 'stimulus:18', 'stimulus:180', 'stimulus:19', 'stimulus:2', 'stimulus:20', 'stimulus:21', 'stimulus:22', 'stimulus:23', 'stimulus:24', 'stimulus:25', 'stimulus:26', 'stimulus:27', 'stimulus:28', 'stimulus:29', 'stimulus:3', 'stimulus:30', 'stimulus:31', 'stimulus:32', 'stimulus:33', 'stimulus:34', 'stimulus:35', 'stimulus:36', 'stimulus:37', 'stimulus:38', 'stimulus:39', 'stimulus:4', 'stimulus:40', 'stimulus:41', 'stimulus:42', 'stimulus:43', 'stimulus:44', 'stimulus:45', 'stimulus:46', 'stimulus:47', 'stimulus:48', 'stimulus:49', 'stimulus:5', 'stimulus:50', 'stimulus:51', 'stimulus:52', 'stimulus:53', 'stimulus:54', 'stimulus:55', 'stimulus:56', 'stimulus:57', 'stimulus:58', 'stimulus:59', 'stimulus:6', 'stimulus:60', 'stimulus:61', 'stimulus:62', 'stimulus:63', 'stimulus:64', 'stimulus:65', 'stimulus:66', 'stimulus:67', 'stimulus:68', 'stimulus:69', 'stimulus:7', 'stimulus:70', 'stimulus:71', 'stimulus:72', 'stimulus:73', 'stimulus:74', 'stimulus:75', 'stimulus:76', 'stimulus:77', 'stimulus:78', 'stimulus:79', 'stimulus:8', 'stimulus:80', 'stimulus:9']\n",
      "Not setting metadata\n",
      "Not setting metadata\n",
      "320 matching events found\n",
      "Setting baseline interval to [-0.099609375, 0.0] sec\n",
      "Applying baseline correction (mode: mean)\n",
      "Created an SSP operator (subspace dimension = 1)\n",
      "1 projection items activated\n",
      "Loading data for 320 events and 1127 original time points ...\n",
      "0 bad epochs dropped\n",
      "Loading data for 320 events and 1127 original time points ...\n",
      "Subject 24############################################\n",
      "Opening raw data file ../local/bidsN170/sub-024/ses-N170/eeg/sub-024_cleaned.fif...\n",
      "    Read a total of 1 projection items:\n",
      "        Average EEG reference (1 x 30) active\n",
      "    Range : 0 ... 580607 =      0.000 ...   566.999 secs\n"
     ]
    },
    {
     "name": "stderr",
     "output_type": "stream",
     "text": [
      "<ipython-input-2-d8f6c74b3870>:23: RuntimeWarning: This filename (../local/bidsN170/sub-024/ses-N170/eeg/sub-024_cleaned.fif) does not conform to MNE naming conventions. All raw files should end with raw.fif, raw_sss.fif, raw_tsss.fif, raw.fif.gz, raw_sss.fif.gz, raw_tsss.fif.gz or _meg.fif\n",
      "  raw = mne.io.read_raw_fif(read_path)\n"
     ]
    },
    {
     "name": "stdout",
     "output_type": "stream",
     "text": [
      "Ready.\n",
      "Used Annotations descriptions: ['response:201', 'response:202', 'stimulus:1', 'stimulus:10', 'stimulus:101', 'stimulus:102', 'stimulus:103', 'stimulus:104', 'stimulus:105', 'stimulus:106', 'stimulus:107', 'stimulus:108', 'stimulus:109', 'stimulus:11', 'stimulus:110', 'stimulus:111', 'stimulus:112', 'stimulus:113', 'stimulus:114', 'stimulus:115', 'stimulus:116', 'stimulus:117', 'stimulus:118', 'stimulus:119', 'stimulus:12', 'stimulus:120', 'stimulus:121', 'stimulus:122', 'stimulus:123', 'stimulus:124', 'stimulus:125', 'stimulus:126', 'stimulus:127', 'stimulus:128', 'stimulus:129', 'stimulus:13', 'stimulus:130', 'stimulus:131', 'stimulus:132', 'stimulus:133', 'stimulus:134', 'stimulus:135', 'stimulus:136', 'stimulus:137', 'stimulus:138', 'stimulus:139', 'stimulus:14', 'stimulus:140', 'stimulus:141', 'stimulus:142', 'stimulus:143', 'stimulus:144', 'stimulus:145', 'stimulus:146', 'stimulus:147', 'stimulus:148', 'stimulus:149', 'stimulus:15', 'stimulus:150', 'stimulus:151', 'stimulus:152', 'stimulus:153', 'stimulus:154', 'stimulus:155', 'stimulus:156', 'stimulus:157', 'stimulus:158', 'stimulus:159', 'stimulus:16', 'stimulus:160', 'stimulus:161', 'stimulus:162', 'stimulus:163', 'stimulus:164', 'stimulus:165', 'stimulus:166', 'stimulus:167', 'stimulus:168', 'stimulus:169', 'stimulus:17', 'stimulus:170', 'stimulus:171', 'stimulus:172', 'stimulus:173', 'stimulus:174', 'stimulus:175', 'stimulus:176', 'stimulus:177', 'stimulus:178', 'stimulus:179', 'stimulus:18', 'stimulus:180', 'stimulus:19', 'stimulus:2', 'stimulus:20', 'stimulus:21', 'stimulus:22', 'stimulus:23', 'stimulus:24', 'stimulus:25', 'stimulus:26', 'stimulus:27', 'stimulus:28', 'stimulus:29', 'stimulus:3', 'stimulus:30', 'stimulus:31', 'stimulus:32', 'stimulus:33', 'stimulus:34', 'stimulus:35', 'stimulus:36', 'stimulus:37', 'stimulus:38', 'stimulus:39', 'stimulus:4', 'stimulus:40', 'stimulus:41', 'stimulus:42', 'stimulus:43', 'stimulus:44', 'stimulus:45', 'stimulus:46', 'stimulus:47', 'stimulus:48', 'stimulus:49', 'stimulus:5', 'stimulus:50', 'stimulus:51', 'stimulus:52', 'stimulus:53', 'stimulus:54', 'stimulus:55', 'stimulus:56', 'stimulus:57', 'stimulus:58', 'stimulus:59', 'stimulus:6', 'stimulus:60', 'stimulus:61', 'stimulus:62', 'stimulus:63', 'stimulus:64', 'stimulus:65', 'stimulus:66', 'stimulus:67', 'stimulus:68', 'stimulus:69', 'stimulus:7', 'stimulus:70', 'stimulus:71', 'stimulus:72', 'stimulus:73', 'stimulus:74', 'stimulus:75', 'stimulus:76', 'stimulus:77', 'stimulus:78', 'stimulus:79', 'stimulus:8', 'stimulus:80', 'stimulus:9']\n",
      "Not setting metadata\n",
      "Not setting metadata\n",
      "320 matching events found\n",
      "Setting baseline interval to [-0.099609375, 0.0] sec\n",
      "Applying baseline correction (mode: mean)\n",
      "Created an SSP operator (subspace dimension = 1)\n",
      "1 projection items activated\n",
      "Loading data for 320 events and 1127 original time points ...\n",
      "0 bad epochs dropped\n",
      "Loading data for 320 events and 1127 original time points ...\n",
      "Subject 25############################################\n",
      "Opening raw data file ../local/bidsN170/sub-025/ses-N170/eeg/sub-025_cleaned.fif...\n",
      "    Read a total of 1 projection items:\n",
      "        Average EEG reference (1 x 30) active\n",
      "    Range : 0 ... 591871 =      0.000 ...   577.999 secs\n",
      "Ready.\n"
     ]
    },
    {
     "name": "stderr",
     "output_type": "stream",
     "text": [
      "<ipython-input-2-d8f6c74b3870>:23: RuntimeWarning: This filename (../local/bidsN170/sub-025/ses-N170/eeg/sub-025_cleaned.fif) does not conform to MNE naming conventions. All raw files should end with raw.fif, raw_sss.fif, raw_tsss.fif, raw.fif.gz, raw_sss.fif.gz, raw_tsss.fif.gz or _meg.fif\n",
      "  raw = mne.io.read_raw_fif(read_path)\n"
     ]
    },
    {
     "name": "stdout",
     "output_type": "stream",
     "text": [
      "Used Annotations descriptions: ['response:201', 'response:202', 'stimulus:1', 'stimulus:10', 'stimulus:101', 'stimulus:102', 'stimulus:103', 'stimulus:104', 'stimulus:105', 'stimulus:106', 'stimulus:107', 'stimulus:108', 'stimulus:109', 'stimulus:11', 'stimulus:110', 'stimulus:111', 'stimulus:112', 'stimulus:113', 'stimulus:114', 'stimulus:115', 'stimulus:116', 'stimulus:117', 'stimulus:118', 'stimulus:119', 'stimulus:12', 'stimulus:120', 'stimulus:121', 'stimulus:122', 'stimulus:123', 'stimulus:124', 'stimulus:125', 'stimulus:126', 'stimulus:127', 'stimulus:128', 'stimulus:129', 'stimulus:13', 'stimulus:130', 'stimulus:131', 'stimulus:132', 'stimulus:133', 'stimulus:134', 'stimulus:135', 'stimulus:136', 'stimulus:137', 'stimulus:138', 'stimulus:139', 'stimulus:14', 'stimulus:140', 'stimulus:141', 'stimulus:142', 'stimulus:143', 'stimulus:144', 'stimulus:145', 'stimulus:146', 'stimulus:147', 'stimulus:148', 'stimulus:149', 'stimulus:15', 'stimulus:150', 'stimulus:151', 'stimulus:152', 'stimulus:153', 'stimulus:154', 'stimulus:155', 'stimulus:156', 'stimulus:157', 'stimulus:158', 'stimulus:159', 'stimulus:16', 'stimulus:160', 'stimulus:161', 'stimulus:162', 'stimulus:163', 'stimulus:164', 'stimulus:165', 'stimulus:166', 'stimulus:167', 'stimulus:168', 'stimulus:169', 'stimulus:17', 'stimulus:170', 'stimulus:171', 'stimulus:172', 'stimulus:173', 'stimulus:174', 'stimulus:175', 'stimulus:176', 'stimulus:177', 'stimulus:178', 'stimulus:179', 'stimulus:18', 'stimulus:180', 'stimulus:19', 'stimulus:2', 'stimulus:20', 'stimulus:21', 'stimulus:22', 'stimulus:23', 'stimulus:24', 'stimulus:25', 'stimulus:26', 'stimulus:27', 'stimulus:28', 'stimulus:29', 'stimulus:3', 'stimulus:30', 'stimulus:31', 'stimulus:32', 'stimulus:33', 'stimulus:34', 'stimulus:35', 'stimulus:36', 'stimulus:37', 'stimulus:38', 'stimulus:39', 'stimulus:4', 'stimulus:40', 'stimulus:41', 'stimulus:42', 'stimulus:43', 'stimulus:44', 'stimulus:45', 'stimulus:46', 'stimulus:47', 'stimulus:48', 'stimulus:49', 'stimulus:5', 'stimulus:50', 'stimulus:51', 'stimulus:52', 'stimulus:53', 'stimulus:54', 'stimulus:55', 'stimulus:56', 'stimulus:57', 'stimulus:58', 'stimulus:59', 'stimulus:6', 'stimulus:60', 'stimulus:61', 'stimulus:62', 'stimulus:63', 'stimulus:64', 'stimulus:65', 'stimulus:66', 'stimulus:67', 'stimulus:68', 'stimulus:69', 'stimulus:7', 'stimulus:70', 'stimulus:71', 'stimulus:72', 'stimulus:73', 'stimulus:74', 'stimulus:75', 'stimulus:76', 'stimulus:77', 'stimulus:78', 'stimulus:79', 'stimulus:8', 'stimulus:80', 'stimulus:9']\n",
      "Not setting metadata\n",
      "Not setting metadata\n",
      "320 matching events found\n",
      "Setting baseline interval to [-0.099609375, 0.0] sec\n",
      "Applying baseline correction (mode: mean)\n",
      "Created an SSP operator (subspace dimension = 1)\n",
      "1 projection items activated\n",
      "Loading data for 320 events and 1127 original time points ...\n",
      "0 bad epochs dropped\n",
      "Loading data for 320 events and 1127 original time points ...\n",
      "Subject 26############################################\n",
      "Opening raw data file ../local/bidsN170/sub-026/ses-N170/eeg/sub-026_cleaned.fif...\n",
      "    Read a total of 1 projection items:\n",
      "        Average EEG reference (1 x 30) active\n",
      "    Range : 0 ... 568319 =      0.000 ...   554.999 secs\n",
      "Ready.\n",
      "Used Annotations descriptions: ['response:201', 'response:202', 'stimulus:1', 'stimulus:10', 'stimulus:101', 'stimulus:102', 'stimulus:103', 'stimulus:104', 'stimulus:105', 'stimulus:106', 'stimulus:107', 'stimulus:108', 'stimulus:109', 'stimulus:11', 'stimulus:110', 'stimulus:111', 'stimulus:112', 'stimulus:113', 'stimulus:114', 'stimulus:115', 'stimulus:116', 'stimulus:117', 'stimulus:118', 'stimulus:119', 'stimulus:12', 'stimulus:120', 'stimulus:121', 'stimulus:122', 'stimulus:123', 'stimulus:124', 'stimulus:125', 'stimulus:126', 'stimulus:127', 'stimulus:128', 'stimulus:129', 'stimulus:13', 'stimulus:130', 'stimulus:131', 'stimulus:132', 'stimulus:133', 'stimulus:134', 'stimulus:135', 'stimulus:136', 'stimulus:137', 'stimulus:138', 'stimulus:139', 'stimulus:14', 'stimulus:140', 'stimulus:141', 'stimulus:142', 'stimulus:143', 'stimulus:144', 'stimulus:145', 'stimulus:146', 'stimulus:147', 'stimulus:148', 'stimulus:149', 'stimulus:15', 'stimulus:150', 'stimulus:151', 'stimulus:152', 'stimulus:153', 'stimulus:154', 'stimulus:155', 'stimulus:156', 'stimulus:157', 'stimulus:158', 'stimulus:159', 'stimulus:16', 'stimulus:160', 'stimulus:161', 'stimulus:162', 'stimulus:163', 'stimulus:164', 'stimulus:165', 'stimulus:166', 'stimulus:167', 'stimulus:168', 'stimulus:169', 'stimulus:17', 'stimulus:170', 'stimulus:171', 'stimulus:172', 'stimulus:173', 'stimulus:174', 'stimulus:175', 'stimulus:176', 'stimulus:177', 'stimulus:178', 'stimulus:179', 'stimulus:18', 'stimulus:180', 'stimulus:19', 'stimulus:2', 'stimulus:20', 'stimulus:21', 'stimulus:22', 'stimulus:23', 'stimulus:24', 'stimulus:25', 'stimulus:26', 'stimulus:27', 'stimulus:28', 'stimulus:29', 'stimulus:3', 'stimulus:30', 'stimulus:31', 'stimulus:32', 'stimulus:33', 'stimulus:34', 'stimulus:35', 'stimulus:36', 'stimulus:37', 'stimulus:38', 'stimulus:39', 'stimulus:4', 'stimulus:40', 'stimulus:41', 'stimulus:42', 'stimulus:43', 'stimulus:44', 'stimulus:45', 'stimulus:46', 'stimulus:47', 'stimulus:48', 'stimulus:49', 'stimulus:5', 'stimulus:50', 'stimulus:51', 'stimulus:52', 'stimulus:53', 'stimulus:54', 'stimulus:55', 'stimulus:56', 'stimulus:57', 'stimulus:58', 'stimulus:59', 'stimulus:6', 'stimulus:60', 'stimulus:61', 'stimulus:62', 'stimulus:63', 'stimulus:64', 'stimulus:65', 'stimulus:66', 'stimulus:67', 'stimulus:68', 'stimulus:69', 'stimulus:7', 'stimulus:70', 'stimulus:71', 'stimulus:72', 'stimulus:73', 'stimulus:74', 'stimulus:75', 'stimulus:76', 'stimulus:77', 'stimulus:78', 'stimulus:79', 'stimulus:8', 'stimulus:80', 'stimulus:9']\n"
     ]
    },
    {
     "name": "stderr",
     "output_type": "stream",
     "text": [
      "<ipython-input-2-d8f6c74b3870>:23: RuntimeWarning: This filename (../local/bidsN170/sub-026/ses-N170/eeg/sub-026_cleaned.fif) does not conform to MNE naming conventions. All raw files should end with raw.fif, raw_sss.fif, raw_tsss.fif, raw.fif.gz, raw_sss.fif.gz, raw_tsss.fif.gz or _meg.fif\n",
      "  raw = mne.io.read_raw_fif(read_path)\n"
     ]
    },
    {
     "name": "stdout",
     "output_type": "stream",
     "text": [
      "Not setting metadata\n",
      "Not setting metadata\n",
      "320 matching events found\n",
      "Setting baseline interval to [-0.099609375, 0.0] sec\n",
      "Applying baseline correction (mode: mean)\n",
      "Created an SSP operator (subspace dimension = 1)\n",
      "1 projection items activated\n",
      "Loading data for 320 events and 1127 original time points ...\n",
      "0 bad epochs dropped\n",
      "Loading data for 320 events and 1127 original time points ...\n",
      "Subject 27############################################\n",
      "Opening raw data file ../local/bidsN170/sub-027/ses-N170/eeg/sub-027_cleaned.fif...\n",
      "    Read a total of 1 projection items:\n",
      "        Average EEG reference (1 x 30) active\n",
      "    Range : 0 ... 578559 =      0.000 ...   564.999 secs\n",
      "Ready.\n",
      "Used Annotations descriptions: ['response:201', 'response:202', 'stimulus:1', 'stimulus:10', 'stimulus:101', 'stimulus:102', 'stimulus:103', 'stimulus:104', 'stimulus:105', 'stimulus:106', 'stimulus:107', 'stimulus:108', 'stimulus:109', 'stimulus:11', 'stimulus:110', 'stimulus:111', 'stimulus:112', 'stimulus:113', 'stimulus:114', 'stimulus:115', 'stimulus:116', 'stimulus:117', 'stimulus:118', 'stimulus:119', 'stimulus:12', 'stimulus:120', 'stimulus:121', 'stimulus:122', 'stimulus:123', 'stimulus:124', 'stimulus:125', 'stimulus:126', 'stimulus:127', 'stimulus:128', 'stimulus:129', 'stimulus:13', 'stimulus:130', 'stimulus:131', 'stimulus:132', 'stimulus:133', 'stimulus:134', 'stimulus:135', 'stimulus:136', 'stimulus:137', 'stimulus:138', 'stimulus:139', 'stimulus:14', 'stimulus:140', 'stimulus:141', 'stimulus:142', 'stimulus:143', 'stimulus:144', 'stimulus:145', 'stimulus:146', 'stimulus:147', 'stimulus:148', 'stimulus:149', 'stimulus:15', 'stimulus:150', 'stimulus:151', 'stimulus:152', 'stimulus:153', 'stimulus:154', 'stimulus:155', 'stimulus:156', 'stimulus:157', 'stimulus:158', 'stimulus:159', 'stimulus:16', 'stimulus:160', 'stimulus:161', 'stimulus:162', 'stimulus:163', 'stimulus:164', 'stimulus:165', 'stimulus:166', 'stimulus:167', 'stimulus:168', 'stimulus:169', 'stimulus:17', 'stimulus:170', 'stimulus:171', 'stimulus:172', 'stimulus:173', 'stimulus:174', 'stimulus:175', 'stimulus:176', 'stimulus:177', 'stimulus:178', 'stimulus:179', 'stimulus:18', 'stimulus:180', 'stimulus:19', 'stimulus:2', 'stimulus:20', 'stimulus:21', 'stimulus:22', 'stimulus:23', 'stimulus:24', 'stimulus:25', 'stimulus:26', 'stimulus:27', 'stimulus:28', 'stimulus:29', 'stimulus:3', 'stimulus:30', 'stimulus:31', 'stimulus:32', 'stimulus:33', 'stimulus:34', 'stimulus:35', 'stimulus:36', 'stimulus:37', 'stimulus:38', 'stimulus:39', 'stimulus:4', 'stimulus:40', 'stimulus:41', 'stimulus:42', 'stimulus:43', 'stimulus:44', 'stimulus:45', 'stimulus:46', 'stimulus:47', 'stimulus:48', 'stimulus:49', 'stimulus:5', 'stimulus:50', 'stimulus:51', 'stimulus:52', 'stimulus:53', 'stimulus:54', 'stimulus:55', 'stimulus:56', 'stimulus:57', 'stimulus:58', 'stimulus:59', 'stimulus:6', 'stimulus:60', 'stimulus:61', 'stimulus:62', 'stimulus:63', 'stimulus:64', 'stimulus:65', 'stimulus:66', 'stimulus:67', 'stimulus:68', 'stimulus:69', 'stimulus:7', 'stimulus:70', 'stimulus:71', 'stimulus:72', 'stimulus:73', 'stimulus:74', 'stimulus:75', 'stimulus:76', 'stimulus:77', 'stimulus:78', 'stimulus:79', 'stimulus:8', 'stimulus:80', 'stimulus:9']\n"
     ]
    },
    {
     "name": "stderr",
     "output_type": "stream",
     "text": [
      "<ipython-input-2-d8f6c74b3870>:23: RuntimeWarning: This filename (../local/bidsN170/sub-027/ses-N170/eeg/sub-027_cleaned.fif) does not conform to MNE naming conventions. All raw files should end with raw.fif, raw_sss.fif, raw_tsss.fif, raw.fif.gz, raw_sss.fif.gz, raw_tsss.fif.gz or _meg.fif\n",
      "  raw = mne.io.read_raw_fif(read_path)\n"
     ]
    },
    {
     "name": "stdout",
     "output_type": "stream",
     "text": [
      "Not setting metadata\n",
      "Not setting metadata\n",
      "320 matching events found\n",
      "Setting baseline interval to [-0.099609375, 0.0] sec\n",
      "Applying baseline correction (mode: mean)\n",
      "Created an SSP operator (subspace dimension = 1)\n",
      "1 projection items activated\n",
      "Loading data for 320 events and 1127 original time points ...\n",
      "0 bad epochs dropped\n",
      "Loading data for 320 events and 1127 original time points ...\n",
      "Subject 28############################################\n",
      "Opening raw data file ../local/bidsN170/sub-028/ses-N170/eeg/sub-028_cleaned.fif...\n",
      "    Read a total of 1 projection items:\n",
      "        Average EEG reference (1 x 30) active\n",
      "    Range : 0 ... 572415 =      0.000 ...   558.999 secs\n",
      "Ready.\n",
      "Used Annotations descriptions: ['response:201', 'response:202', 'stimulus:1', 'stimulus:10', 'stimulus:101', 'stimulus:102', 'stimulus:103', 'stimulus:104', 'stimulus:105', 'stimulus:106', 'stimulus:107', 'stimulus:108', 'stimulus:109', 'stimulus:11', 'stimulus:110', 'stimulus:111', 'stimulus:112', 'stimulus:113', 'stimulus:114', 'stimulus:115', 'stimulus:116', 'stimulus:117', 'stimulus:118', 'stimulus:119', 'stimulus:12', 'stimulus:120', 'stimulus:121', 'stimulus:122', 'stimulus:123', 'stimulus:124', 'stimulus:125', 'stimulus:126', 'stimulus:127', 'stimulus:128', 'stimulus:129', 'stimulus:13', 'stimulus:130', 'stimulus:131', 'stimulus:132', 'stimulus:133', 'stimulus:134', 'stimulus:135', 'stimulus:136', 'stimulus:137', 'stimulus:138', 'stimulus:139', 'stimulus:14', 'stimulus:140', 'stimulus:141', 'stimulus:142', 'stimulus:143', 'stimulus:144', 'stimulus:145', 'stimulus:146', 'stimulus:147', 'stimulus:148', 'stimulus:149', 'stimulus:15', 'stimulus:150', 'stimulus:151', 'stimulus:152', 'stimulus:153', 'stimulus:154', 'stimulus:155', 'stimulus:156', 'stimulus:157', 'stimulus:158', 'stimulus:159', 'stimulus:16', 'stimulus:160', 'stimulus:161', 'stimulus:162', 'stimulus:163', 'stimulus:164', 'stimulus:165', 'stimulus:166', 'stimulus:167', 'stimulus:168', 'stimulus:169', 'stimulus:17', 'stimulus:170', 'stimulus:171', 'stimulus:172', 'stimulus:173', 'stimulus:174', 'stimulus:175', 'stimulus:176', 'stimulus:177', 'stimulus:178', 'stimulus:179', 'stimulus:18', 'stimulus:180', 'stimulus:19', 'stimulus:2', 'stimulus:20', 'stimulus:21', 'stimulus:22', 'stimulus:23', 'stimulus:24', 'stimulus:25', 'stimulus:26', 'stimulus:27', 'stimulus:28', 'stimulus:29', 'stimulus:3', 'stimulus:30', 'stimulus:31', 'stimulus:32', 'stimulus:33', 'stimulus:34', 'stimulus:35', 'stimulus:36', 'stimulus:37', 'stimulus:38', 'stimulus:39', 'stimulus:4', 'stimulus:40', 'stimulus:41', 'stimulus:42', 'stimulus:43', 'stimulus:44', 'stimulus:45', 'stimulus:46', 'stimulus:47', 'stimulus:48', 'stimulus:49', 'stimulus:5', 'stimulus:50', 'stimulus:51', 'stimulus:52', 'stimulus:53', 'stimulus:54', 'stimulus:55', 'stimulus:56', 'stimulus:57', 'stimulus:58', 'stimulus:59', 'stimulus:6', 'stimulus:60', 'stimulus:61', 'stimulus:62', 'stimulus:63', 'stimulus:64', 'stimulus:65', 'stimulus:66', 'stimulus:67', 'stimulus:68', 'stimulus:69', 'stimulus:7', 'stimulus:70', 'stimulus:71', 'stimulus:72', 'stimulus:73', 'stimulus:74', 'stimulus:75', 'stimulus:76', 'stimulus:77', 'stimulus:78', 'stimulus:79', 'stimulus:8', 'stimulus:80', 'stimulus:9']\n"
     ]
    },
    {
     "name": "stderr",
     "output_type": "stream",
     "text": [
      "<ipython-input-2-d8f6c74b3870>:23: RuntimeWarning: This filename (../local/bidsN170/sub-028/ses-N170/eeg/sub-028_cleaned.fif) does not conform to MNE naming conventions. All raw files should end with raw.fif, raw_sss.fif, raw_tsss.fif, raw.fif.gz, raw_sss.fif.gz, raw_tsss.fif.gz or _meg.fif\n",
      "  raw = mne.io.read_raw_fif(read_path)\n"
     ]
    },
    {
     "name": "stdout",
     "output_type": "stream",
     "text": [
      "Not setting metadata\n",
      "Not setting metadata\n",
      "320 matching events found\n",
      "Setting baseline interval to [-0.099609375, 0.0] sec\n",
      "Applying baseline correction (mode: mean)\n",
      "Created an SSP operator (subspace dimension = 1)\n",
      "1 projection items activated\n",
      "Loading data for 320 events and 1127 original time points ...\n",
      "0 bad epochs dropped\n",
      "Loading data for 320 events and 1127 original time points ...\n",
      "Subject 29############################################\n",
      "Opening raw data file ../local/bidsN170/sub-029/ses-N170/eeg/sub-029_cleaned.fif...\n",
      "    Read a total of 1 projection items:\n",
      "        Average EEG reference (1 x 30) active\n"
     ]
    },
    {
     "name": "stderr",
     "output_type": "stream",
     "text": [
      "<ipython-input-2-d8f6c74b3870>:23: RuntimeWarning: This filename (../local/bidsN170/sub-029/ses-N170/eeg/sub-029_cleaned.fif) does not conform to MNE naming conventions. All raw files should end with raw.fif, raw_sss.fif, raw_tsss.fif, raw.fif.gz, raw_sss.fif.gz, raw_tsss.fif.gz or _meg.fif\n",
      "  raw = mne.io.read_raw_fif(read_path)\n"
     ]
    },
    {
     "name": "stdout",
     "output_type": "stream",
     "text": [
      "    Range : 0 ... 604159 =      0.000 ...   589.999 secs\n",
      "Ready.\n",
      "Used Annotations descriptions: ['response:201', 'response:202', 'stimulus:1', 'stimulus:10', 'stimulus:101', 'stimulus:102', 'stimulus:103', 'stimulus:104', 'stimulus:105', 'stimulus:106', 'stimulus:107', 'stimulus:108', 'stimulus:109', 'stimulus:11', 'stimulus:110', 'stimulus:111', 'stimulus:112', 'stimulus:113', 'stimulus:114', 'stimulus:115', 'stimulus:116', 'stimulus:117', 'stimulus:118', 'stimulus:119', 'stimulus:12', 'stimulus:120', 'stimulus:121', 'stimulus:122', 'stimulus:123', 'stimulus:124', 'stimulus:125', 'stimulus:126', 'stimulus:127', 'stimulus:128', 'stimulus:129', 'stimulus:13', 'stimulus:130', 'stimulus:131', 'stimulus:132', 'stimulus:133', 'stimulus:134', 'stimulus:135', 'stimulus:136', 'stimulus:137', 'stimulus:138', 'stimulus:139', 'stimulus:14', 'stimulus:140', 'stimulus:141', 'stimulus:142', 'stimulus:143', 'stimulus:144', 'stimulus:145', 'stimulus:146', 'stimulus:147', 'stimulus:148', 'stimulus:149', 'stimulus:15', 'stimulus:150', 'stimulus:151', 'stimulus:152', 'stimulus:153', 'stimulus:154', 'stimulus:155', 'stimulus:156', 'stimulus:157', 'stimulus:158', 'stimulus:159', 'stimulus:16', 'stimulus:160', 'stimulus:161', 'stimulus:162', 'stimulus:163', 'stimulus:164', 'stimulus:165', 'stimulus:166', 'stimulus:167', 'stimulus:168', 'stimulus:169', 'stimulus:17', 'stimulus:170', 'stimulus:171', 'stimulus:172', 'stimulus:173', 'stimulus:174', 'stimulus:175', 'stimulus:176', 'stimulus:177', 'stimulus:178', 'stimulus:179', 'stimulus:18', 'stimulus:180', 'stimulus:19', 'stimulus:2', 'stimulus:20', 'stimulus:21', 'stimulus:22', 'stimulus:23', 'stimulus:24', 'stimulus:25', 'stimulus:26', 'stimulus:27', 'stimulus:28', 'stimulus:29', 'stimulus:3', 'stimulus:30', 'stimulus:31', 'stimulus:32', 'stimulus:33', 'stimulus:34', 'stimulus:35', 'stimulus:36', 'stimulus:37', 'stimulus:38', 'stimulus:39', 'stimulus:4', 'stimulus:40', 'stimulus:41', 'stimulus:42', 'stimulus:43', 'stimulus:44', 'stimulus:45', 'stimulus:46', 'stimulus:47', 'stimulus:48', 'stimulus:49', 'stimulus:5', 'stimulus:50', 'stimulus:51', 'stimulus:52', 'stimulus:53', 'stimulus:54', 'stimulus:55', 'stimulus:56', 'stimulus:57', 'stimulus:58', 'stimulus:59', 'stimulus:6', 'stimulus:60', 'stimulus:61', 'stimulus:62', 'stimulus:63', 'stimulus:64', 'stimulus:65', 'stimulus:66', 'stimulus:67', 'stimulus:68', 'stimulus:69', 'stimulus:7', 'stimulus:70', 'stimulus:71', 'stimulus:72', 'stimulus:73', 'stimulus:74', 'stimulus:75', 'stimulus:76', 'stimulus:77', 'stimulus:78', 'stimulus:79', 'stimulus:8', 'stimulus:80', 'stimulus:9']\n",
      "Not setting metadata\n",
      "Not setting metadata\n",
      "320 matching events found\n",
      "Setting baseline interval to [-0.099609375, 0.0] sec\n",
      "Applying baseline correction (mode: mean)\n",
      "Created an SSP operator (subspace dimension = 1)\n",
      "1 projection items activated\n",
      "Loading data for 320 events and 1127 original time points ...\n",
      "0 bad epochs dropped\n",
      "Loading data for 320 events and 1127 original time points ...\n",
      "Subject 30############################################\n",
      "Opening raw data file ../local/bidsN170/sub-030/ses-N170/eeg/sub-030_cleaned.fif...\n",
      "    Read a total of 1 projection items:\n",
      "        Average EEG reference (1 x 30) active\n",
      "    Range : 0 ... 574463 =      0.000 ...   560.999 secs\n",
      "Ready.\n",
      "Used Annotations descriptions: ['response:201', 'response:202', 'stimulus:1', 'stimulus:10', 'stimulus:101', 'stimulus:102', 'stimulus:103', 'stimulus:104', 'stimulus:105', 'stimulus:106', 'stimulus:107', 'stimulus:108', 'stimulus:109', 'stimulus:11', 'stimulus:110', 'stimulus:111', 'stimulus:112', 'stimulus:113', 'stimulus:114', 'stimulus:115', 'stimulus:116', 'stimulus:117', 'stimulus:118', 'stimulus:119', 'stimulus:12', 'stimulus:120', 'stimulus:121', 'stimulus:122', 'stimulus:123', 'stimulus:124', 'stimulus:125', 'stimulus:126', 'stimulus:127', 'stimulus:128', 'stimulus:129', 'stimulus:13', 'stimulus:130', 'stimulus:131', 'stimulus:132', 'stimulus:133', 'stimulus:134', 'stimulus:135', 'stimulus:136', 'stimulus:137', 'stimulus:138', 'stimulus:139', 'stimulus:14', 'stimulus:140', 'stimulus:141', 'stimulus:142', 'stimulus:143', 'stimulus:144', 'stimulus:145', 'stimulus:146', 'stimulus:147', 'stimulus:148', 'stimulus:149', 'stimulus:15', 'stimulus:150', 'stimulus:151', 'stimulus:152', 'stimulus:153', 'stimulus:154', 'stimulus:155', 'stimulus:156', 'stimulus:157', 'stimulus:158', 'stimulus:159', 'stimulus:16', 'stimulus:160', 'stimulus:161', 'stimulus:162', 'stimulus:163', 'stimulus:164', 'stimulus:165', 'stimulus:166', 'stimulus:167', 'stimulus:168', 'stimulus:169', 'stimulus:17', 'stimulus:170', 'stimulus:171', 'stimulus:172', 'stimulus:173', 'stimulus:174', 'stimulus:175', 'stimulus:176', 'stimulus:177', 'stimulus:178', 'stimulus:179', 'stimulus:18', 'stimulus:180', 'stimulus:19', 'stimulus:2', 'stimulus:20', 'stimulus:21', 'stimulus:22', 'stimulus:23', 'stimulus:24', 'stimulus:25', 'stimulus:26', 'stimulus:27', 'stimulus:28', 'stimulus:29', 'stimulus:3', 'stimulus:30', 'stimulus:31', 'stimulus:32', 'stimulus:33', 'stimulus:34', 'stimulus:35', 'stimulus:36', 'stimulus:37', 'stimulus:38', 'stimulus:39', 'stimulus:4', 'stimulus:40', 'stimulus:41', 'stimulus:42', 'stimulus:43', 'stimulus:44', 'stimulus:45', 'stimulus:46', 'stimulus:47', 'stimulus:48', 'stimulus:49', 'stimulus:5', 'stimulus:50', 'stimulus:51', 'stimulus:52', 'stimulus:53', 'stimulus:54', 'stimulus:55', 'stimulus:56', 'stimulus:57', 'stimulus:58', 'stimulus:59', 'stimulus:6', 'stimulus:60', 'stimulus:61', 'stimulus:62', 'stimulus:63', 'stimulus:64', 'stimulus:65', 'stimulus:66', 'stimulus:67', 'stimulus:68', 'stimulus:69', 'stimulus:7', 'stimulus:70', 'stimulus:71', 'stimulus:72', 'stimulus:73', 'stimulus:74', 'stimulus:75', 'stimulus:76', 'stimulus:77', 'stimulus:78', 'stimulus:79', 'stimulus:8', 'stimulus:80', 'stimulus:9']\n"
     ]
    },
    {
     "name": "stderr",
     "output_type": "stream",
     "text": [
      "<ipython-input-2-d8f6c74b3870>:23: RuntimeWarning: This filename (../local/bidsN170/sub-030/ses-N170/eeg/sub-030_cleaned.fif) does not conform to MNE naming conventions. All raw files should end with raw.fif, raw_sss.fif, raw_tsss.fif, raw.fif.gz, raw_sss.fif.gz, raw_tsss.fif.gz or _meg.fif\n",
      "  raw = mne.io.read_raw_fif(read_path)\n"
     ]
    },
    {
     "name": "stdout",
     "output_type": "stream",
     "text": [
      "Not setting metadata\n",
      "Not setting metadata\n",
      "320 matching events found\n",
      "Setting baseline interval to [-0.099609375, 0.0] sec\n",
      "Applying baseline correction (mode: mean)\n",
      "Created an SSP operator (subspace dimension = 1)\n",
      "1 projection items activated\n",
      "Loading data for 320 events and 1127 original time points ...\n",
      "0 bad epochs dropped\n",
      "Loading data for 320 events and 1127 original time points ...\n",
      "Subject 31############################################\n",
      "Opening raw data file ../local/bidsN170/sub-031/ses-N170/eeg/sub-031_cleaned.fif...\n",
      "    Read a total of 1 projection items:\n"
     ]
    },
    {
     "name": "stderr",
     "output_type": "stream",
     "text": [
      "<ipython-input-2-d8f6c74b3870>:23: RuntimeWarning: This filename (../local/bidsN170/sub-031/ses-N170/eeg/sub-031_cleaned.fif) does not conform to MNE naming conventions. All raw files should end with raw.fif, raw_sss.fif, raw_tsss.fif, raw.fif.gz, raw_sss.fif.gz, raw_tsss.fif.gz or _meg.fif\n",
      "  raw = mne.io.read_raw_fif(read_path)\n"
     ]
    },
    {
     "name": "stdout",
     "output_type": "stream",
     "text": [
      "        Average EEG reference (1 x 30) active\n",
      "    Range : 0 ... 576511 =      0.000 ...   562.999 secs\n",
      "Ready.\n",
      "Used Annotations descriptions: ['response:201', 'response:202', 'stimulus:1', 'stimulus:10', 'stimulus:101', 'stimulus:102', 'stimulus:103', 'stimulus:104', 'stimulus:105', 'stimulus:106', 'stimulus:107', 'stimulus:108', 'stimulus:109', 'stimulus:11', 'stimulus:110', 'stimulus:111', 'stimulus:112', 'stimulus:113', 'stimulus:114', 'stimulus:115', 'stimulus:116', 'stimulus:117', 'stimulus:118', 'stimulus:119', 'stimulus:12', 'stimulus:120', 'stimulus:121', 'stimulus:122', 'stimulus:123', 'stimulus:124', 'stimulus:125', 'stimulus:126', 'stimulus:127', 'stimulus:128', 'stimulus:129', 'stimulus:13', 'stimulus:130', 'stimulus:131', 'stimulus:132', 'stimulus:133', 'stimulus:134', 'stimulus:135', 'stimulus:136', 'stimulus:137', 'stimulus:138', 'stimulus:139', 'stimulus:14', 'stimulus:140', 'stimulus:141', 'stimulus:142', 'stimulus:143', 'stimulus:144', 'stimulus:145', 'stimulus:146', 'stimulus:147', 'stimulus:148', 'stimulus:149', 'stimulus:15', 'stimulus:150', 'stimulus:151', 'stimulus:152', 'stimulus:153', 'stimulus:154', 'stimulus:155', 'stimulus:156', 'stimulus:157', 'stimulus:158', 'stimulus:159', 'stimulus:16', 'stimulus:160', 'stimulus:161', 'stimulus:162', 'stimulus:163', 'stimulus:164', 'stimulus:165', 'stimulus:166', 'stimulus:167', 'stimulus:168', 'stimulus:169', 'stimulus:17', 'stimulus:170', 'stimulus:171', 'stimulus:172', 'stimulus:173', 'stimulus:174', 'stimulus:175', 'stimulus:176', 'stimulus:177', 'stimulus:178', 'stimulus:179', 'stimulus:18', 'stimulus:180', 'stimulus:19', 'stimulus:2', 'stimulus:20', 'stimulus:21', 'stimulus:22', 'stimulus:23', 'stimulus:24', 'stimulus:25', 'stimulus:26', 'stimulus:27', 'stimulus:28', 'stimulus:29', 'stimulus:3', 'stimulus:30', 'stimulus:31', 'stimulus:32', 'stimulus:33', 'stimulus:34', 'stimulus:35', 'stimulus:36', 'stimulus:37', 'stimulus:38', 'stimulus:39', 'stimulus:4', 'stimulus:40', 'stimulus:41', 'stimulus:42', 'stimulus:43', 'stimulus:44', 'stimulus:45', 'stimulus:46', 'stimulus:47', 'stimulus:48', 'stimulus:49', 'stimulus:5', 'stimulus:50', 'stimulus:51', 'stimulus:52', 'stimulus:53', 'stimulus:54', 'stimulus:55', 'stimulus:56', 'stimulus:57', 'stimulus:58', 'stimulus:59', 'stimulus:6', 'stimulus:60', 'stimulus:61', 'stimulus:62', 'stimulus:63', 'stimulus:64', 'stimulus:65', 'stimulus:66', 'stimulus:67', 'stimulus:68', 'stimulus:69', 'stimulus:7', 'stimulus:70', 'stimulus:71', 'stimulus:72', 'stimulus:73', 'stimulus:74', 'stimulus:75', 'stimulus:76', 'stimulus:77', 'stimulus:78', 'stimulus:79', 'stimulus:8', 'stimulus:80', 'stimulus:9']\n",
      "Not setting metadata\n",
      "Not setting metadata\n",
      "320 matching events found\n",
      "Setting baseline interval to [-0.099609375, 0.0] sec\n",
      "Applying baseline correction (mode: mean)\n",
      "Created an SSP operator (subspace dimension = 1)\n",
      "1 projection items activated\n",
      "Loading data for 320 events and 1127 original time points ...\n",
      "0 bad epochs dropped\n",
      "Loading data for 320 events and 1127 original time points ...\n",
      "Subject 32############################################\n",
      "Opening raw data file ../local/bidsN170/sub-032/ses-N170/eeg/sub-032_cleaned.fif...\n",
      "    Read a total of 1 projection items:\n",
      "        Average EEG reference (1 x 30) active\n",
      "    Range : 0 ... 578559 =      0.000 ...   564.999 secs\n",
      "Ready.\n",
      "Used Annotations descriptions: ['response:201', 'response:202', 'stimulus:1', 'stimulus:10', 'stimulus:101', 'stimulus:102', 'stimulus:103', 'stimulus:104', 'stimulus:105', 'stimulus:106', 'stimulus:107', 'stimulus:108', 'stimulus:109', 'stimulus:11', 'stimulus:110', 'stimulus:111', 'stimulus:112', 'stimulus:113', 'stimulus:114', 'stimulus:115', 'stimulus:116', 'stimulus:117', 'stimulus:118', 'stimulus:119', 'stimulus:12', 'stimulus:120', 'stimulus:121', 'stimulus:122', 'stimulus:123', 'stimulus:124', 'stimulus:125', 'stimulus:126', 'stimulus:127', 'stimulus:128', 'stimulus:129', 'stimulus:13', 'stimulus:130', 'stimulus:131', 'stimulus:132', 'stimulus:133', 'stimulus:134', 'stimulus:135', 'stimulus:136', 'stimulus:137', 'stimulus:138', 'stimulus:139', 'stimulus:14', 'stimulus:140', 'stimulus:141', 'stimulus:142', 'stimulus:143', 'stimulus:144', 'stimulus:145', 'stimulus:146', 'stimulus:147', 'stimulus:148', 'stimulus:149', 'stimulus:15', 'stimulus:150', 'stimulus:151', 'stimulus:152', 'stimulus:153', 'stimulus:154', 'stimulus:155', 'stimulus:156', 'stimulus:157', 'stimulus:158', 'stimulus:159', 'stimulus:16', 'stimulus:160', 'stimulus:161', 'stimulus:162', 'stimulus:163', 'stimulus:164', 'stimulus:165', 'stimulus:166', 'stimulus:167', 'stimulus:168', 'stimulus:169', 'stimulus:17', 'stimulus:170', 'stimulus:171', 'stimulus:172', 'stimulus:173', 'stimulus:174', 'stimulus:175', 'stimulus:176', 'stimulus:177', 'stimulus:178', 'stimulus:179', 'stimulus:18', 'stimulus:180', 'stimulus:19', 'stimulus:2', 'stimulus:20', 'stimulus:21', 'stimulus:22', 'stimulus:23', 'stimulus:24', 'stimulus:25', 'stimulus:26', 'stimulus:27', 'stimulus:28', 'stimulus:29', 'stimulus:3', 'stimulus:30', 'stimulus:31', 'stimulus:32', 'stimulus:33', 'stimulus:34', 'stimulus:35', 'stimulus:36', 'stimulus:37', 'stimulus:38', 'stimulus:39', 'stimulus:4', 'stimulus:40', 'stimulus:41', 'stimulus:42', 'stimulus:43', 'stimulus:44', 'stimulus:45', 'stimulus:46', 'stimulus:47', 'stimulus:48', 'stimulus:49', 'stimulus:5', 'stimulus:50', 'stimulus:51', 'stimulus:52', 'stimulus:53', 'stimulus:54', 'stimulus:55', 'stimulus:56', 'stimulus:57', 'stimulus:58', 'stimulus:59', 'stimulus:6', 'stimulus:60', 'stimulus:61', 'stimulus:62', 'stimulus:63', 'stimulus:64', 'stimulus:65', 'stimulus:66', 'stimulus:67', 'stimulus:68', 'stimulus:69', 'stimulus:7', 'stimulus:70', 'stimulus:71', 'stimulus:72', 'stimulus:73', 'stimulus:74', 'stimulus:75', 'stimulus:76', 'stimulus:77', 'stimulus:78', 'stimulus:79', 'stimulus:8', 'stimulus:80', 'stimulus:9']\n"
     ]
    },
    {
     "name": "stderr",
     "output_type": "stream",
     "text": [
      "<ipython-input-2-d8f6c74b3870>:23: RuntimeWarning: This filename (../local/bidsN170/sub-032/ses-N170/eeg/sub-032_cleaned.fif) does not conform to MNE naming conventions. All raw files should end with raw.fif, raw_sss.fif, raw_tsss.fif, raw.fif.gz, raw_sss.fif.gz, raw_tsss.fif.gz or _meg.fif\n",
      "  raw = mne.io.read_raw_fif(read_path)\n"
     ]
    },
    {
     "name": "stdout",
     "output_type": "stream",
     "text": [
      "Not setting metadata\n",
      "Not setting metadata\n",
      "320 matching events found\n",
      "Setting baseline interval to [-0.099609375, 0.0] sec\n",
      "Applying baseline correction (mode: mean)\n",
      "Created an SSP operator (subspace dimension = 1)\n",
      "1 projection items activated\n",
      "Loading data for 320 events and 1127 original time points ...\n",
      "0 bad epochs dropped\n",
      "Loading data for 320 events and 1127 original time points ...\n",
      "Subject 33############################################\n",
      "Opening raw data file ../local/bidsN170/sub-033/ses-N170/eeg/sub-033_cleaned.fif...\n",
      "    Read a total of 1 projection items:\n",
      "        Average EEG reference (1 x 30) active\n",
      "    Range : 0 ... 570367 =      0.000 ...   556.999 secs\n",
      "Ready.\n",
      "Used Annotations descriptions: ['response:201', 'response:202', 'stimulus:1', 'stimulus:10', 'stimulus:101', 'stimulus:102', 'stimulus:103', 'stimulus:104', 'stimulus:105', 'stimulus:106', 'stimulus:107', 'stimulus:108', 'stimulus:109', 'stimulus:11', 'stimulus:110', 'stimulus:111', 'stimulus:112', 'stimulus:113', 'stimulus:114', 'stimulus:115', 'stimulus:116', 'stimulus:117', 'stimulus:118', 'stimulus:119', 'stimulus:12', 'stimulus:120', 'stimulus:121', 'stimulus:122', 'stimulus:123', 'stimulus:124', 'stimulus:125', 'stimulus:126', 'stimulus:127', 'stimulus:128', 'stimulus:129', 'stimulus:13', 'stimulus:130', 'stimulus:131', 'stimulus:132', 'stimulus:133', 'stimulus:134', 'stimulus:135', 'stimulus:136', 'stimulus:137', 'stimulus:138', 'stimulus:139', 'stimulus:14', 'stimulus:140', 'stimulus:141', 'stimulus:142', 'stimulus:143', 'stimulus:144', 'stimulus:145', 'stimulus:146', 'stimulus:147', 'stimulus:148', 'stimulus:149', 'stimulus:15', 'stimulus:150', 'stimulus:151', 'stimulus:152', 'stimulus:153', 'stimulus:154', 'stimulus:155', 'stimulus:156', 'stimulus:157', 'stimulus:158', 'stimulus:159', 'stimulus:16', 'stimulus:160', 'stimulus:161', 'stimulus:162', 'stimulus:163', 'stimulus:164', 'stimulus:165', 'stimulus:166', 'stimulus:167', 'stimulus:168', 'stimulus:169', 'stimulus:17', 'stimulus:170', 'stimulus:171', 'stimulus:172', 'stimulus:173', 'stimulus:174', 'stimulus:175', 'stimulus:176', 'stimulus:177', 'stimulus:178', 'stimulus:179', 'stimulus:18', 'stimulus:180', 'stimulus:19', 'stimulus:2', 'stimulus:20', 'stimulus:21', 'stimulus:22', 'stimulus:23', 'stimulus:24', 'stimulus:25', 'stimulus:26', 'stimulus:27', 'stimulus:28', 'stimulus:29', 'stimulus:3', 'stimulus:30', 'stimulus:31', 'stimulus:32', 'stimulus:33', 'stimulus:34', 'stimulus:35', 'stimulus:36', 'stimulus:37', 'stimulus:38', 'stimulus:39', 'stimulus:4', 'stimulus:40', 'stimulus:41', 'stimulus:42', 'stimulus:43', 'stimulus:44', 'stimulus:45', 'stimulus:46', 'stimulus:47', 'stimulus:48', 'stimulus:49', 'stimulus:5', 'stimulus:50', 'stimulus:51', 'stimulus:52', 'stimulus:53', 'stimulus:54', 'stimulus:55', 'stimulus:56', 'stimulus:57', 'stimulus:58', 'stimulus:59', 'stimulus:6', 'stimulus:60', 'stimulus:61', 'stimulus:62', 'stimulus:63', 'stimulus:64', 'stimulus:65', 'stimulus:66', 'stimulus:67', 'stimulus:68', 'stimulus:69', 'stimulus:7', 'stimulus:70', 'stimulus:71', 'stimulus:72', 'stimulus:73', 'stimulus:74', 'stimulus:75', 'stimulus:76', 'stimulus:77', 'stimulus:78', 'stimulus:79', 'stimulus:8', 'stimulus:80', 'stimulus:9']\n"
     ]
    },
    {
     "name": "stderr",
     "output_type": "stream",
     "text": [
      "<ipython-input-2-d8f6c74b3870>:23: RuntimeWarning: This filename (../local/bidsN170/sub-033/ses-N170/eeg/sub-033_cleaned.fif) does not conform to MNE naming conventions. All raw files should end with raw.fif, raw_sss.fif, raw_tsss.fif, raw.fif.gz, raw_sss.fif.gz, raw_tsss.fif.gz or _meg.fif\n",
      "  raw = mne.io.read_raw_fif(read_path)\n"
     ]
    },
    {
     "name": "stdout",
     "output_type": "stream",
     "text": [
      "Not setting metadata\n",
      "Not setting metadata\n",
      "320 matching events found\n",
      "Setting baseline interval to [-0.099609375, 0.0] sec\n",
      "Applying baseline correction (mode: mean)\n",
      "Created an SSP operator (subspace dimension = 1)\n",
      "1 projection items activated\n",
      "Loading data for 320 events and 1127 original time points ...\n",
      "0 bad epochs dropped\n",
      "Loading data for 320 events and 1127 original time points ...\n",
      "Subject 34############################################\n",
      "Opening raw data file ../local/bidsN170/sub-034/ses-N170/eeg/sub-034_cleaned.fif...\n",
      "    Read a total of 1 projection items:\n",
      "        Average EEG reference (1 x 30) active\n",
      "    Range : 0 ... 547839 =      0.000 ...   534.999 secs\n",
      "Ready.\n",
      "Used Annotations descriptions: ['response:201', 'response:202', 'stimulus:1', 'stimulus:10', 'stimulus:101', 'stimulus:102', 'stimulus:103', 'stimulus:104', 'stimulus:105', 'stimulus:106', 'stimulus:107', 'stimulus:108', 'stimulus:109', 'stimulus:11', 'stimulus:110', 'stimulus:111', 'stimulus:112', 'stimulus:113', 'stimulus:114', 'stimulus:115', 'stimulus:116', 'stimulus:117', 'stimulus:118', 'stimulus:119', 'stimulus:12', 'stimulus:120', 'stimulus:121', 'stimulus:122', 'stimulus:123', 'stimulus:124', 'stimulus:125', 'stimulus:126', 'stimulus:127', 'stimulus:128', 'stimulus:129', 'stimulus:13', 'stimulus:130', 'stimulus:131', 'stimulus:132', 'stimulus:133', 'stimulus:134', 'stimulus:135', 'stimulus:136', 'stimulus:137', 'stimulus:138', 'stimulus:139', 'stimulus:14', 'stimulus:140', 'stimulus:141', 'stimulus:142', 'stimulus:143', 'stimulus:144', 'stimulus:145', 'stimulus:146', 'stimulus:147', 'stimulus:148', 'stimulus:149', 'stimulus:15', 'stimulus:150', 'stimulus:151', 'stimulus:152', 'stimulus:153', 'stimulus:154', 'stimulus:155', 'stimulus:156', 'stimulus:157', 'stimulus:158', 'stimulus:159', 'stimulus:16', 'stimulus:160', 'stimulus:161', 'stimulus:162', 'stimulus:163', 'stimulus:164', 'stimulus:165', 'stimulus:166', 'stimulus:167', 'stimulus:168', 'stimulus:169', 'stimulus:17', 'stimulus:170', 'stimulus:171', 'stimulus:172', 'stimulus:173', 'stimulus:174', 'stimulus:175', 'stimulus:176', 'stimulus:177', 'stimulus:178', 'stimulus:179', 'stimulus:18', 'stimulus:180', 'stimulus:19', 'stimulus:2', 'stimulus:20', 'stimulus:21', 'stimulus:22', 'stimulus:23', 'stimulus:24', 'stimulus:25', 'stimulus:26', 'stimulus:27', 'stimulus:28', 'stimulus:29', 'stimulus:3', 'stimulus:30', 'stimulus:31', 'stimulus:32', 'stimulus:33', 'stimulus:34', 'stimulus:35', 'stimulus:36', 'stimulus:37', 'stimulus:38', 'stimulus:39', 'stimulus:4', 'stimulus:40', 'stimulus:41', 'stimulus:42', 'stimulus:43', 'stimulus:44', 'stimulus:45', 'stimulus:46', 'stimulus:47', 'stimulus:48', 'stimulus:49', 'stimulus:5', 'stimulus:50', 'stimulus:51', 'stimulus:52', 'stimulus:53', 'stimulus:54', 'stimulus:55', 'stimulus:56', 'stimulus:57', 'stimulus:58', 'stimulus:59', 'stimulus:6', 'stimulus:60', 'stimulus:61', 'stimulus:62', 'stimulus:63', 'stimulus:64', 'stimulus:65', 'stimulus:66', 'stimulus:67', 'stimulus:68', 'stimulus:69', 'stimulus:7', 'stimulus:70', 'stimulus:71', 'stimulus:72', 'stimulus:73', 'stimulus:74', 'stimulus:75', 'stimulus:76', 'stimulus:77', 'stimulus:78', 'stimulus:79', 'stimulus:8', 'stimulus:80', 'stimulus:9']\n",
      "Not setting metadata\n",
      "Not setting metadata\n",
      "320 matching events found\n",
      "Setting baseline interval to [-0.099609375, 0.0] sec\n",
      "Applying baseline correction (mode: mean)\n",
      "Created an SSP operator (subspace dimension = 1)\n"
     ]
    },
    {
     "name": "stderr",
     "output_type": "stream",
     "text": [
      "<ipython-input-2-d8f6c74b3870>:23: RuntimeWarning: This filename (../local/bidsN170/sub-034/ses-N170/eeg/sub-034_cleaned.fif) does not conform to MNE naming conventions. All raw files should end with raw.fif, raw_sss.fif, raw_tsss.fif, raw.fif.gz, raw_sss.fif.gz, raw_tsss.fif.gz or _meg.fif\n",
      "  raw = mne.io.read_raw_fif(read_path)\n"
     ]
    },
    {
     "name": "stdout",
     "output_type": "stream",
     "text": [
      "1 projection items activated\n",
      "Loading data for 320 events and 1127 original time points ...\n",
      "0 bad epochs dropped\n",
      "Loading data for 320 events and 1127 original time points ...\n",
      "Subject 35############################################\n",
      "Opening raw data file ../local/bidsN170/sub-035/ses-N170/eeg/sub-035_cleaned.fif...\n",
      "    Read a total of 1 projection items:\n"
     ]
    },
    {
     "name": "stderr",
     "output_type": "stream",
     "text": [
      "<ipython-input-2-d8f6c74b3870>:23: RuntimeWarning: This filename (../local/bidsN170/sub-035/ses-N170/eeg/sub-035_cleaned.fif) does not conform to MNE naming conventions. All raw files should end with raw.fif, raw_sss.fif, raw_tsss.fif, raw.fif.gz, raw_sss.fif.gz, raw_tsss.fif.gz or _meg.fif\n",
      "  raw = mne.io.read_raw_fif(read_path)\n"
     ]
    },
    {
     "name": "stdout",
     "output_type": "stream",
     "text": [
      "        Average EEG reference (1 x 30) active\n",
      "    Range : 0 ... 620543 =      0.000 ...   605.999 secs\n",
      "Ready.\n",
      "Used Annotations descriptions: ['response:201', 'response:202', 'stimulus:1', 'stimulus:10', 'stimulus:101', 'stimulus:102', 'stimulus:103', 'stimulus:104', 'stimulus:105', 'stimulus:106', 'stimulus:107', 'stimulus:108', 'stimulus:109', 'stimulus:11', 'stimulus:110', 'stimulus:111', 'stimulus:112', 'stimulus:113', 'stimulus:114', 'stimulus:115', 'stimulus:116', 'stimulus:117', 'stimulus:118', 'stimulus:119', 'stimulus:12', 'stimulus:120', 'stimulus:121', 'stimulus:122', 'stimulus:123', 'stimulus:124', 'stimulus:125', 'stimulus:126', 'stimulus:127', 'stimulus:128', 'stimulus:129', 'stimulus:13', 'stimulus:130', 'stimulus:131', 'stimulus:132', 'stimulus:133', 'stimulus:134', 'stimulus:135', 'stimulus:136', 'stimulus:137', 'stimulus:138', 'stimulus:139', 'stimulus:14', 'stimulus:140', 'stimulus:141', 'stimulus:142', 'stimulus:143', 'stimulus:144', 'stimulus:145', 'stimulus:146', 'stimulus:147', 'stimulus:148', 'stimulus:149', 'stimulus:15', 'stimulus:150', 'stimulus:151', 'stimulus:152', 'stimulus:153', 'stimulus:154', 'stimulus:155', 'stimulus:156', 'stimulus:157', 'stimulus:158', 'stimulus:159', 'stimulus:16', 'stimulus:160', 'stimulus:161', 'stimulus:162', 'stimulus:163', 'stimulus:164', 'stimulus:165', 'stimulus:166', 'stimulus:167', 'stimulus:168', 'stimulus:169', 'stimulus:17', 'stimulus:170', 'stimulus:171', 'stimulus:172', 'stimulus:173', 'stimulus:174', 'stimulus:175', 'stimulus:176', 'stimulus:177', 'stimulus:178', 'stimulus:179', 'stimulus:18', 'stimulus:180', 'stimulus:19', 'stimulus:2', 'stimulus:20', 'stimulus:21', 'stimulus:22', 'stimulus:23', 'stimulus:24', 'stimulus:25', 'stimulus:26', 'stimulus:27', 'stimulus:28', 'stimulus:29', 'stimulus:3', 'stimulus:30', 'stimulus:31', 'stimulus:32', 'stimulus:33', 'stimulus:34', 'stimulus:35', 'stimulus:36', 'stimulus:37', 'stimulus:38', 'stimulus:39', 'stimulus:4', 'stimulus:40', 'stimulus:41', 'stimulus:42', 'stimulus:43', 'stimulus:44', 'stimulus:45', 'stimulus:46', 'stimulus:47', 'stimulus:48', 'stimulus:49', 'stimulus:5', 'stimulus:50', 'stimulus:51', 'stimulus:52', 'stimulus:53', 'stimulus:54', 'stimulus:55', 'stimulus:56', 'stimulus:57', 'stimulus:58', 'stimulus:59', 'stimulus:6', 'stimulus:60', 'stimulus:61', 'stimulus:62', 'stimulus:63', 'stimulus:64', 'stimulus:65', 'stimulus:66', 'stimulus:67', 'stimulus:68', 'stimulus:69', 'stimulus:7', 'stimulus:70', 'stimulus:71', 'stimulus:72', 'stimulus:73', 'stimulus:74', 'stimulus:75', 'stimulus:76', 'stimulus:77', 'stimulus:78', 'stimulus:79', 'stimulus:8', 'stimulus:80', 'stimulus:9']\n",
      "Not setting metadata\n",
      "Not setting metadata\n",
      "320 matching events found\n",
      "Setting baseline interval to [-0.099609375, 0.0] sec\n",
      "Applying baseline correction (mode: mean)\n",
      "Created an SSP operator (subspace dimension = 1)\n",
      "1 projection items activated\n",
      "Loading data for 320 events and 1127 original time points ...\n",
      "0 bad epochs dropped\n",
      "Loading data for 320 events and 1127 original time points ...\n",
      "Subject 36############################################\n",
      "Opening raw data file ../local/bidsN170/sub-036/ses-N170/eeg/sub-036_cleaned.fif...\n",
      "    Read a total of 1 projection items:\n",
      "        Average EEG reference (1 x 30) active\n",
      "    Range : 0 ... 542719 =      0.000 ...   529.999 secs\n",
      "Ready.\n",
      "Used Annotations descriptions: ['response:201', 'response:202', 'stimulus:1', 'stimulus:10', 'stimulus:101', 'stimulus:102', 'stimulus:103', 'stimulus:104', 'stimulus:105', 'stimulus:106', 'stimulus:107', 'stimulus:108', 'stimulus:109', 'stimulus:11', 'stimulus:110', 'stimulus:111', 'stimulus:112', 'stimulus:113', 'stimulus:114', 'stimulus:115', 'stimulus:116', 'stimulus:117', 'stimulus:118', 'stimulus:119', 'stimulus:12', 'stimulus:120', 'stimulus:121', 'stimulus:122', 'stimulus:123', 'stimulus:124', 'stimulus:125', 'stimulus:126', 'stimulus:127', 'stimulus:128', 'stimulus:129', 'stimulus:13', 'stimulus:130', 'stimulus:131', 'stimulus:132', 'stimulus:133', 'stimulus:134', 'stimulus:135', 'stimulus:136', 'stimulus:137', 'stimulus:138', 'stimulus:139', 'stimulus:14', 'stimulus:140', 'stimulus:141', 'stimulus:142', 'stimulus:143', 'stimulus:144', 'stimulus:145', 'stimulus:146', 'stimulus:147', 'stimulus:148', 'stimulus:149', 'stimulus:15', 'stimulus:150', 'stimulus:151', 'stimulus:152', 'stimulus:153', 'stimulus:154', 'stimulus:155', 'stimulus:156', 'stimulus:157', 'stimulus:158', 'stimulus:159', 'stimulus:16', 'stimulus:160', 'stimulus:161', 'stimulus:162', 'stimulus:163', 'stimulus:164', 'stimulus:165', 'stimulus:166', 'stimulus:167', 'stimulus:168', 'stimulus:169', 'stimulus:17', 'stimulus:170', 'stimulus:171', 'stimulus:172', 'stimulus:173', 'stimulus:174', 'stimulus:175', 'stimulus:176', 'stimulus:177', 'stimulus:178', 'stimulus:179', 'stimulus:18', 'stimulus:180', 'stimulus:19', 'stimulus:2', 'stimulus:20', 'stimulus:21', 'stimulus:22', 'stimulus:23', 'stimulus:24', 'stimulus:25', 'stimulus:26', 'stimulus:27', 'stimulus:28', 'stimulus:29', 'stimulus:3', 'stimulus:30', 'stimulus:31', 'stimulus:32', 'stimulus:33', 'stimulus:34', 'stimulus:35', 'stimulus:36', 'stimulus:37', 'stimulus:38', 'stimulus:39', 'stimulus:4', 'stimulus:40', 'stimulus:41', 'stimulus:42', 'stimulus:43', 'stimulus:44', 'stimulus:45', 'stimulus:46', 'stimulus:47', 'stimulus:48', 'stimulus:49', 'stimulus:5', 'stimulus:50', 'stimulus:51', 'stimulus:52', 'stimulus:53', 'stimulus:54', 'stimulus:55', 'stimulus:56', 'stimulus:57', 'stimulus:58', 'stimulus:59', 'stimulus:6', 'stimulus:60', 'stimulus:61', 'stimulus:62', 'stimulus:63', 'stimulus:64', 'stimulus:65', 'stimulus:66', 'stimulus:67', 'stimulus:68', 'stimulus:69', 'stimulus:7', 'stimulus:70', 'stimulus:71', 'stimulus:72', 'stimulus:73', 'stimulus:74', 'stimulus:75', 'stimulus:76', 'stimulus:77', 'stimulus:78', 'stimulus:79', 'stimulus:8', 'stimulus:80', 'stimulus:9']\n",
      "Not setting metadata\n"
     ]
    },
    {
     "name": "stderr",
     "output_type": "stream",
     "text": [
      "<ipython-input-2-d8f6c74b3870>:23: RuntimeWarning: This filename (../local/bidsN170/sub-036/ses-N170/eeg/sub-036_cleaned.fif) does not conform to MNE naming conventions. All raw files should end with raw.fif, raw_sss.fif, raw_tsss.fif, raw.fif.gz, raw_sss.fif.gz, raw_tsss.fif.gz or _meg.fif\n",
      "  raw = mne.io.read_raw_fif(read_path)\n"
     ]
    },
    {
     "name": "stdout",
     "output_type": "stream",
     "text": [
      "Not setting metadata\n",
      "320 matching events found\n",
      "Setting baseline interval to [-0.099609375, 0.0] sec\n",
      "Applying baseline correction (mode: mean)\n",
      "Created an SSP operator (subspace dimension = 1)\n",
      "1 projection items activated\n",
      "Loading data for 320 events and 1127 original time points ...\n",
      "0 bad epochs dropped\n",
      "Loading data for 320 events and 1127 original time points ...\n",
      "Subject 37############################################\n",
      "Opening raw data file ../local/bidsN170/sub-037/ses-N170/eeg/sub-037_cleaned.fif...\n",
      "    Read a total of 1 projection items:\n",
      "        Average EEG reference (1 x 30) active\n",
      "    Range : 0 ... 595967 =      0.000 ...   581.999 secs\n",
      "Ready.\n",
      "Used Annotations descriptions: ['response:201', 'response:202', 'stimulus:1', 'stimulus:10', 'stimulus:101', 'stimulus:102', 'stimulus:103', 'stimulus:104', 'stimulus:105', 'stimulus:106', 'stimulus:107', 'stimulus:108', 'stimulus:109', 'stimulus:11', 'stimulus:110', 'stimulus:111', 'stimulus:112', 'stimulus:113', 'stimulus:114', 'stimulus:115', 'stimulus:116', 'stimulus:117', 'stimulus:118', 'stimulus:119', 'stimulus:12', 'stimulus:120', 'stimulus:121', 'stimulus:122', 'stimulus:123', 'stimulus:124', 'stimulus:125', 'stimulus:126', 'stimulus:127', 'stimulus:128', 'stimulus:129', 'stimulus:13', 'stimulus:130', 'stimulus:131', 'stimulus:132', 'stimulus:133', 'stimulus:134', 'stimulus:135', 'stimulus:136', 'stimulus:137', 'stimulus:138', 'stimulus:139', 'stimulus:14', 'stimulus:140', 'stimulus:141', 'stimulus:142', 'stimulus:143', 'stimulus:144', 'stimulus:145', 'stimulus:146', 'stimulus:147', 'stimulus:148', 'stimulus:149', 'stimulus:15', 'stimulus:150', 'stimulus:151', 'stimulus:152', 'stimulus:153', 'stimulus:154', 'stimulus:155', 'stimulus:156', 'stimulus:157', 'stimulus:158', 'stimulus:159', 'stimulus:16', 'stimulus:160', 'stimulus:161', 'stimulus:162', 'stimulus:163', 'stimulus:164', 'stimulus:165', 'stimulus:166', 'stimulus:167', 'stimulus:168', 'stimulus:169', 'stimulus:17', 'stimulus:170', 'stimulus:171', 'stimulus:172', 'stimulus:173', 'stimulus:174', 'stimulus:175', 'stimulus:176', 'stimulus:177', 'stimulus:178', 'stimulus:179', 'stimulus:18', 'stimulus:180', 'stimulus:19', 'stimulus:2', 'stimulus:20', 'stimulus:21', 'stimulus:22', 'stimulus:23', 'stimulus:24', 'stimulus:25', 'stimulus:26', 'stimulus:27', 'stimulus:28', 'stimulus:29', 'stimulus:3', 'stimulus:30', 'stimulus:31', 'stimulus:32', 'stimulus:33', 'stimulus:34', 'stimulus:35', 'stimulus:36', 'stimulus:37', 'stimulus:38', 'stimulus:39', 'stimulus:4', 'stimulus:40', 'stimulus:41', 'stimulus:42', 'stimulus:43', 'stimulus:44', 'stimulus:45', 'stimulus:46', 'stimulus:47', 'stimulus:48', 'stimulus:49', 'stimulus:5', 'stimulus:50', 'stimulus:51', 'stimulus:52', 'stimulus:53', 'stimulus:54', 'stimulus:55', 'stimulus:56', 'stimulus:57', 'stimulus:58', 'stimulus:59', 'stimulus:6', 'stimulus:60', 'stimulus:61', 'stimulus:62', 'stimulus:63', 'stimulus:64', 'stimulus:65', 'stimulus:66', 'stimulus:67', 'stimulus:68', 'stimulus:69', 'stimulus:7', 'stimulus:70', 'stimulus:71', 'stimulus:72', 'stimulus:73', 'stimulus:74', 'stimulus:75', 'stimulus:76', 'stimulus:77', 'stimulus:78', 'stimulus:79', 'stimulus:8', 'stimulus:80', 'stimulus:9']\n"
     ]
    },
    {
     "name": "stderr",
     "output_type": "stream",
     "text": [
      "<ipython-input-2-d8f6c74b3870>:23: RuntimeWarning: This filename (../local/bidsN170/sub-037/ses-N170/eeg/sub-037_cleaned.fif) does not conform to MNE naming conventions. All raw files should end with raw.fif, raw_sss.fif, raw_tsss.fif, raw.fif.gz, raw_sss.fif.gz, raw_tsss.fif.gz or _meg.fif\n",
      "  raw = mne.io.read_raw_fif(read_path)\n"
     ]
    },
    {
     "name": "stdout",
     "output_type": "stream",
     "text": [
      "Not setting metadata\n",
      "Not setting metadata\n",
      "320 matching events found\n",
      "Setting baseline interval to [-0.099609375, 0.0] sec\n",
      "Applying baseline correction (mode: mean)\n",
      "Created an SSP operator (subspace dimension = 1)\n",
      "1 projection items activated\n",
      "Loading data for 320 events and 1127 original time points ...\n",
      "0 bad epochs dropped\n",
      "Loading data for 320 events and 1127 original time points ...\n",
      "Subject 38############################################\n",
      "Opening raw data file ../local/bidsN170/sub-038/ses-N170/eeg/sub-038_cleaned.fif...\n"
     ]
    },
    {
     "name": "stderr",
     "output_type": "stream",
     "text": [
      "<ipython-input-2-d8f6c74b3870>:23: RuntimeWarning: This filename (../local/bidsN170/sub-038/ses-N170/eeg/sub-038_cleaned.fif) does not conform to MNE naming conventions. All raw files should end with raw.fif, raw_sss.fif, raw_tsss.fif, raw.fif.gz, raw_sss.fif.gz, raw_tsss.fif.gz or _meg.fif\n",
      "  raw = mne.io.read_raw_fif(read_path)\n"
     ]
    },
    {
     "name": "stdout",
     "output_type": "stream",
     "text": [
      "    Read a total of 1 projection items:\n",
      "        Average EEG reference (1 x 30) active\n",
      "    Range : 0 ... 852991 =      0.000 ...   832.999 secs\n",
      "Ready.\n",
      "Used Annotations descriptions: ['response:201', 'response:202', 'stimulus:1', 'stimulus:10', 'stimulus:101', 'stimulus:102', 'stimulus:103', 'stimulus:104', 'stimulus:105', 'stimulus:106', 'stimulus:107', 'stimulus:108', 'stimulus:109', 'stimulus:11', 'stimulus:110', 'stimulus:111', 'stimulus:112', 'stimulus:113', 'stimulus:114', 'stimulus:115', 'stimulus:116', 'stimulus:117', 'stimulus:118', 'stimulus:119', 'stimulus:12', 'stimulus:120', 'stimulus:121', 'stimulus:122', 'stimulus:123', 'stimulus:124', 'stimulus:125', 'stimulus:126', 'stimulus:127', 'stimulus:128', 'stimulus:129', 'stimulus:13', 'stimulus:130', 'stimulus:131', 'stimulus:132', 'stimulus:133', 'stimulus:134', 'stimulus:135', 'stimulus:136', 'stimulus:137', 'stimulus:138', 'stimulus:139', 'stimulus:14', 'stimulus:140', 'stimulus:141', 'stimulus:142', 'stimulus:143', 'stimulus:144', 'stimulus:145', 'stimulus:146', 'stimulus:147', 'stimulus:148', 'stimulus:149', 'stimulus:15', 'stimulus:150', 'stimulus:151', 'stimulus:152', 'stimulus:153', 'stimulus:154', 'stimulus:155', 'stimulus:156', 'stimulus:157', 'stimulus:158', 'stimulus:159', 'stimulus:16', 'stimulus:160', 'stimulus:161', 'stimulus:162', 'stimulus:163', 'stimulus:164', 'stimulus:165', 'stimulus:166', 'stimulus:167', 'stimulus:168', 'stimulus:169', 'stimulus:17', 'stimulus:170', 'stimulus:171', 'stimulus:172', 'stimulus:173', 'stimulus:174', 'stimulus:175', 'stimulus:176', 'stimulus:177', 'stimulus:178', 'stimulus:179', 'stimulus:18', 'stimulus:180', 'stimulus:19', 'stimulus:2', 'stimulus:20', 'stimulus:21', 'stimulus:22', 'stimulus:23', 'stimulus:24', 'stimulus:25', 'stimulus:26', 'stimulus:27', 'stimulus:28', 'stimulus:29', 'stimulus:3', 'stimulus:30', 'stimulus:31', 'stimulus:32', 'stimulus:33', 'stimulus:34', 'stimulus:35', 'stimulus:36', 'stimulus:37', 'stimulus:38', 'stimulus:39', 'stimulus:4', 'stimulus:40', 'stimulus:41', 'stimulus:42', 'stimulus:43', 'stimulus:44', 'stimulus:45', 'stimulus:46', 'stimulus:47', 'stimulus:48', 'stimulus:49', 'stimulus:5', 'stimulus:50', 'stimulus:51', 'stimulus:52', 'stimulus:53', 'stimulus:54', 'stimulus:55', 'stimulus:56', 'stimulus:57', 'stimulus:58', 'stimulus:59', 'stimulus:6', 'stimulus:60', 'stimulus:61', 'stimulus:62', 'stimulus:63', 'stimulus:64', 'stimulus:65', 'stimulus:66', 'stimulus:67', 'stimulus:68', 'stimulus:69', 'stimulus:7', 'stimulus:70', 'stimulus:71', 'stimulus:72', 'stimulus:73', 'stimulus:74', 'stimulus:75', 'stimulus:76', 'stimulus:77', 'stimulus:78', 'stimulus:79', 'stimulus:8', 'stimulus:80', 'stimulus:9']\n",
      "Not setting metadata\n",
      "Not setting metadata\n",
      "320 matching events found\n",
      "Setting baseline interval to [-0.099609375, 0.0] sec\n",
      "Applying baseline correction (mode: mean)\n",
      "Created an SSP operator (subspace dimension = 1)\n",
      "1 projection items activated\n",
      "Loading data for 320 events and 1127 original time points ...\n",
      "0 bad epochs dropped\n",
      "Loading data for 320 events and 1127 original time points ...\n",
      "Subject 39############################################\n",
      "Opening raw data file ../local/bidsN170/sub-039/ses-N170/eeg/sub-039_cleaned.fif...\n",
      "    Read a total of 1 projection items:\n"
     ]
    },
    {
     "name": "stderr",
     "output_type": "stream",
     "text": [
      "<ipython-input-2-d8f6c74b3870>:23: RuntimeWarning: This filename (../local/bidsN170/sub-039/ses-N170/eeg/sub-039_cleaned.fif) does not conform to MNE naming conventions. All raw files should end with raw.fif, raw_sss.fif, raw_tsss.fif, raw.fif.gz, raw_sss.fif.gz, raw_tsss.fif.gz or _meg.fif\n",
      "  raw = mne.io.read_raw_fif(read_path)\n"
     ]
    },
    {
     "name": "stdout",
     "output_type": "stream",
     "text": [
      "        Average EEG reference (1 x 30) active\n",
      "    Range : 0 ... 653311 =      0.000 ...   637.999 secs\n",
      "Ready.\n",
      "Used Annotations descriptions: ['response:201', 'response:202', 'stimulus:1', 'stimulus:10', 'stimulus:101', 'stimulus:102', 'stimulus:103', 'stimulus:104', 'stimulus:105', 'stimulus:106', 'stimulus:107', 'stimulus:108', 'stimulus:109', 'stimulus:11', 'stimulus:110', 'stimulus:111', 'stimulus:112', 'stimulus:113', 'stimulus:114', 'stimulus:115', 'stimulus:116', 'stimulus:117', 'stimulus:118', 'stimulus:119', 'stimulus:12', 'stimulus:120', 'stimulus:121', 'stimulus:122', 'stimulus:123', 'stimulus:124', 'stimulus:125', 'stimulus:126', 'stimulus:127', 'stimulus:128', 'stimulus:129', 'stimulus:13', 'stimulus:130', 'stimulus:131', 'stimulus:132', 'stimulus:133', 'stimulus:134', 'stimulus:135', 'stimulus:136', 'stimulus:137', 'stimulus:138', 'stimulus:139', 'stimulus:14', 'stimulus:140', 'stimulus:141', 'stimulus:142', 'stimulus:143', 'stimulus:144', 'stimulus:145', 'stimulus:146', 'stimulus:147', 'stimulus:148', 'stimulus:149', 'stimulus:15', 'stimulus:150', 'stimulus:151', 'stimulus:152', 'stimulus:153', 'stimulus:154', 'stimulus:155', 'stimulus:156', 'stimulus:157', 'stimulus:158', 'stimulus:159', 'stimulus:16', 'stimulus:160', 'stimulus:161', 'stimulus:162', 'stimulus:163', 'stimulus:164', 'stimulus:165', 'stimulus:166', 'stimulus:167', 'stimulus:168', 'stimulus:169', 'stimulus:17', 'stimulus:170', 'stimulus:171', 'stimulus:172', 'stimulus:173', 'stimulus:174', 'stimulus:175', 'stimulus:176', 'stimulus:177', 'stimulus:178', 'stimulus:179', 'stimulus:18', 'stimulus:180', 'stimulus:19', 'stimulus:2', 'stimulus:20', 'stimulus:21', 'stimulus:22', 'stimulus:23', 'stimulus:24', 'stimulus:25', 'stimulus:26', 'stimulus:27', 'stimulus:28', 'stimulus:29', 'stimulus:3', 'stimulus:30', 'stimulus:31', 'stimulus:32', 'stimulus:33', 'stimulus:34', 'stimulus:35', 'stimulus:36', 'stimulus:37', 'stimulus:38', 'stimulus:39', 'stimulus:4', 'stimulus:40', 'stimulus:41', 'stimulus:42', 'stimulus:43', 'stimulus:44', 'stimulus:45', 'stimulus:46', 'stimulus:47', 'stimulus:48', 'stimulus:49', 'stimulus:5', 'stimulus:50', 'stimulus:51', 'stimulus:52', 'stimulus:53', 'stimulus:54', 'stimulus:55', 'stimulus:56', 'stimulus:57', 'stimulus:58', 'stimulus:59', 'stimulus:6', 'stimulus:60', 'stimulus:61', 'stimulus:62', 'stimulus:63', 'stimulus:64', 'stimulus:65', 'stimulus:66', 'stimulus:67', 'stimulus:68', 'stimulus:69', 'stimulus:7', 'stimulus:70', 'stimulus:71', 'stimulus:72', 'stimulus:73', 'stimulus:74', 'stimulus:75', 'stimulus:76', 'stimulus:77', 'stimulus:78', 'stimulus:79', 'stimulus:8', 'stimulus:80', 'stimulus:9']\n",
      "Not setting metadata\n",
      "Not setting metadata\n",
      "320 matching events found\n",
      "Setting baseline interval to [-0.099609375, 0.0] sec\n",
      "Applying baseline correction (mode: mean)\n",
      "Created an SSP operator (subspace dimension = 1)\n",
      "1 projection items activated\n",
      "Loading data for 320 events and 1127 original time points ...\n",
      "0 bad epochs dropped\n",
      "Loading data for 320 events and 1127 original time points ...\n",
      "Subject 40############################################\n",
      "Opening raw data file ../local/bidsN170/sub-040/ses-N170/eeg/sub-040_cleaned.fif...\n"
     ]
    },
    {
     "name": "stderr",
     "output_type": "stream",
     "text": [
      "<ipython-input-2-d8f6c74b3870>:23: RuntimeWarning: This filename (../local/bidsN170/sub-040/ses-N170/eeg/sub-040_cleaned.fif) does not conform to MNE naming conventions. All raw files should end with raw.fif, raw_sss.fif, raw_tsss.fif, raw.fif.gz, raw_sss.fif.gz, raw_tsss.fif.gz or _meg.fif\n",
      "  raw = mne.io.read_raw_fif(read_path)\n"
     ]
    },
    {
     "name": "stdout",
     "output_type": "stream",
     "text": [
      "    Read a total of 1 projection items:\n",
      "        Average EEG reference (1 x 30) active\n",
      "    Range : 0 ... 700415 =      0.000 ...   683.999 secs\n",
      "Ready.\n",
      "Used Annotations descriptions: ['response:201', 'response:202', 'stimulus:1', 'stimulus:10', 'stimulus:101', 'stimulus:102', 'stimulus:103', 'stimulus:104', 'stimulus:105', 'stimulus:106', 'stimulus:107', 'stimulus:108', 'stimulus:109', 'stimulus:11', 'stimulus:110', 'stimulus:111', 'stimulus:112', 'stimulus:113', 'stimulus:114', 'stimulus:115', 'stimulus:116', 'stimulus:117', 'stimulus:118', 'stimulus:119', 'stimulus:12', 'stimulus:120', 'stimulus:121', 'stimulus:122', 'stimulus:123', 'stimulus:124', 'stimulus:125', 'stimulus:126', 'stimulus:127', 'stimulus:128', 'stimulus:129', 'stimulus:13', 'stimulus:130', 'stimulus:131', 'stimulus:132', 'stimulus:133', 'stimulus:134', 'stimulus:135', 'stimulus:136', 'stimulus:137', 'stimulus:138', 'stimulus:139', 'stimulus:14', 'stimulus:140', 'stimulus:141', 'stimulus:142', 'stimulus:143', 'stimulus:144', 'stimulus:145', 'stimulus:146', 'stimulus:147', 'stimulus:148', 'stimulus:149', 'stimulus:15', 'stimulus:150', 'stimulus:151', 'stimulus:152', 'stimulus:153', 'stimulus:154', 'stimulus:155', 'stimulus:156', 'stimulus:157', 'stimulus:158', 'stimulus:159', 'stimulus:16', 'stimulus:160', 'stimulus:161', 'stimulus:162', 'stimulus:163', 'stimulus:164', 'stimulus:165', 'stimulus:166', 'stimulus:167', 'stimulus:168', 'stimulus:169', 'stimulus:17', 'stimulus:170', 'stimulus:171', 'stimulus:172', 'stimulus:173', 'stimulus:174', 'stimulus:175', 'stimulus:176', 'stimulus:177', 'stimulus:178', 'stimulus:179', 'stimulus:18', 'stimulus:180', 'stimulus:19', 'stimulus:2', 'stimulus:20', 'stimulus:21', 'stimulus:22', 'stimulus:23', 'stimulus:24', 'stimulus:25', 'stimulus:26', 'stimulus:27', 'stimulus:28', 'stimulus:29', 'stimulus:3', 'stimulus:30', 'stimulus:31', 'stimulus:32', 'stimulus:33', 'stimulus:34', 'stimulus:35', 'stimulus:36', 'stimulus:37', 'stimulus:38', 'stimulus:39', 'stimulus:4', 'stimulus:40', 'stimulus:41', 'stimulus:42', 'stimulus:43', 'stimulus:44', 'stimulus:45', 'stimulus:46', 'stimulus:47', 'stimulus:48', 'stimulus:49', 'stimulus:5', 'stimulus:50', 'stimulus:51', 'stimulus:52', 'stimulus:53', 'stimulus:54', 'stimulus:55', 'stimulus:56', 'stimulus:57', 'stimulus:58', 'stimulus:59', 'stimulus:6', 'stimulus:60', 'stimulus:61', 'stimulus:62', 'stimulus:63', 'stimulus:64', 'stimulus:65', 'stimulus:66', 'stimulus:67', 'stimulus:68', 'stimulus:69', 'stimulus:7', 'stimulus:70', 'stimulus:71', 'stimulus:72', 'stimulus:73', 'stimulus:74', 'stimulus:75', 'stimulus:76', 'stimulus:77', 'stimulus:78', 'stimulus:79', 'stimulus:8', 'stimulus:80', 'stimulus:9']\n",
      "Not setting metadata\n",
      "Not setting metadata\n",
      "320 matching events found\n",
      "Setting baseline interval to [-0.099609375, 0.0] sec\n",
      "Applying baseline correction (mode: mean)\n",
      "Created an SSP operator (subspace dimension = 1)\n",
      "1 projection items activated\n",
      "Loading data for 320 events and 1127 original time points ...\n",
      "0 bad epochs dropped\n",
      "Loading data for 320 events and 1127 original time points ...\n",
      "DONE\n"
     ]
    }
   ],
   "source": [
    "average_faces_intact = np.zeros(shape=(1127))\n",
    "average_faces_scrambled = np.zeros(shape=(1127))\n",
    "average_cars_intact = np.zeros(shape=(1127))\n",
    "average_cars_scrambled = np.zeros(shape=(1127))\n",
    "\n",
    "difference_if_ic = np.zeros(shape=(1127))\n",
    "difference_if_sf = np.zeros(shape=(1127))\n",
    "difference_if_sc = np.zeros(shape=(1127))\n",
    "difference_if_rest = np.zeros(shape=(1127))\n",
    "\n",
    "\n",
    "channel = 'P8'\n",
    "header = ['Subject_ID', 'Amplitude', 'Stimulus', 'Condition']\n",
    "peak_data = []\n",
    "for s in range(1,41):\n",
    "    print('Subject '+ str(s) + '############################################')\n",
    "    if len(str(s)) > 1:\n",
    "        sub = '0' + str(s)\n",
    "    else:\n",
    "        sub = '00' + str(s)\n",
    "    read_path = path + \"/sub-\" + sub + temp_path + \"sub-\" + sub +\"_cleaned.fif\"\n",
    "    raw = mne.io.read_raw_fif(read_path)\n",
    "    \n",
    "    epochs, _ = load_epochs(raw)\n",
    "    epochs.drop_bad()\n",
    "    \n",
    "    ep = epochs.copy()\n",
    "    ep.load_data()\n",
    "    ep.pick_channels([channel])\n",
    "    \n",
    "    # extract the different stimuli and conditions\n",
    "    face_normal = ep[[\"stimulus:{}\".format(k) for k in range(1,41)]].average()\n",
    "    car_normal = ep[[\"stimulus:{}\".format(k) for k in range(41,81)]].average()\n",
    "    face_scrambled = ep[[\"stimulus:{}\".format(k) for k in range(101,141)]].average()\n",
    "    car_scrambled = ep[[\"stimulus:{}\".format(k) for k in range(141,181)]].average()\n",
    "    \n",
    "    \n",
    "    \n",
    "    #########################\n",
    "    #differences per subject#\n",
    "    #########################\n",
    "    difference_if_ic = difference_if_ic + (face_normal.data - car_normal.data)\n",
    "    difference_if_sf = difference_if_sf + (face_normal.data - face_scrambled.data)\n",
    "    difference_if_sc = difference_if_sc + (face_normal.data - car_scrambled.data)\n",
    "    difference_if_rest = difference_if_rest + (face_normal.data - car_normal.data - face_scrambled.data - car_scrambled.data)\n",
    "    \n",
    "    \n",
    "    \n",
    "    #######################################\n",
    "    # averages over the different stimuli #\n",
    "    #######################################\n",
    "    average_faces_intact = average_faces_intact + face_normal.data\n",
    "    average_faces_scrambled = average_faces_scrambled + face_scrambled.data\n",
    "    average_cars_intact = average_cars_intact + car_normal.data\n",
    "    average_cars_scrambled = average_cars_scrambled + car_scrambled.data\n",
    "    \n",
    "    # extracts the peak per stimulus and condition between 130ms and 200ms\n",
    "    fn_peak = face_normal.get_peak(tmin=0.13, tmax=0.2, mode='abs', return_amplitude=True)[2]\n",
    "    cn_peak = car_normal.get_peak(tmin=0.13, tmax=0.2, mode='abs', return_amplitude=True)[2]\n",
    "    fs_peak = face_scrambled.get_peak(tmin=0.13, tmax=0.2, mode='abs', return_amplitude=True)[2]\n",
    "    cs_peak = car_scrambled.get_peak(tmin=0.13, tmax=0.2, mode='abs', return_amplitude=True)[2]\n",
    "    \n",
    "    peak_data.append([sub, fn_peak, 'face', 'intact'])\n",
    "    peak_data.append([sub, cn_peak, 'car', 'intact'])\n",
    "    peak_data.append([sub, fs_peak, 'face', 'scrambled'])\n",
    "    peak_data.append([sub, cs_peak, 'car', 'scrambled'])\n",
    "    \n",
    "print('DONE')"
   ]
  },
  {
   "cell_type": "code",
   "execution_count": 3,
   "metadata": {},
   "outputs": [],
   "source": [
    "# get the timepoints\n",
    "number_of_datapoints = len(average_faces_intact[0])\n",
    "x = get_timepoints(epoch_start=-0.1, epoch_end=1, number_of_datapoints=number_of_datapoints)"
   ]
  },
  {
   "cell_type": "markdown",
   "metadata": {},
   "source": [
    "# Plot of the grand average"
   ]
  },
  {
   "cell_type": "code",
   "execution_count": 6,
   "metadata": {},
   "outputs": [],
   "source": [
    "figure = plt.figure()\n",
    "ax2 = figure.add_subplot(111)\n",
    "title = 'Grand Average_' + channel\n",
    "ax2.set_title('Grand Average ' + channel)\n",
    "ax2.set_xlabel('time[ms]')\n",
    "ax2.set_ylabel('Volt')\n",
    "ax2.plot(x, np.zeros(shape=(number_of_datapoints)), color='black')\n",
    "plt.axvline(x = 0, color = 'black') \n",
    "ax2.plot(x, average_faces_intact[0]/40, color='blue', label='Faces Intact')\n",
    "ax2.plot(x, average_faces_scrambled[0]/40, color='blue', linestyle='--', label='Faces Scrambled')\n",
    "ax2.plot(x, average_cars_intact[0]/40, color='red', label='Cars Intact')\n",
    "ax2.plot(x, average_cars_scrambled[0]/40, color='red',linestyle='--', label='Cars Scrambled')\n",
    "ax2.legend(loc=1)\n",
    "#plt.savefig('./analysis_images/' + title)\n",
    "#plt.close(figure)\n",
    "plt.show()"
   ]
  },
  {
   "cell_type": "markdown",
   "metadata": {},
   "source": [
    "# Plot of the grand differences"
   ]
  },
  {
   "cell_type": "code",
   "execution_count": 7,
   "metadata": {},
   "outputs": [],
   "source": [
    "figure = plt.figure()\n",
    "ax2 = figure.add_subplot(111)\n",
    "title = 'Grand Differences_' + channel\n",
    "ax2.set_title('Grand Differences ' + channel)\n",
    "ax2.set_xlabel('time[ms]')\n",
    "ax2.set_ylabel('Volt')\n",
    "ax2.plot(x, difference_if_ic[0]/40, color='red', label='intact faces - intact cars')\n",
    "ax2.plot(x, difference_if_sf[0]/40, color='blue',  label='intact faces - scrambled faces')\n",
    "ax2.plot(x, difference_if_sc[0]/40, color='red',linestyle='--', label='intact faces - scrambled cars')\n",
    "ax2.plot(x, np.zeros(shape=(len(difference_if_ic[0]))), color='black', alpha=0.5)\n",
    "plt.axvline(x = 0, color = 'black', alpha=0.5) \n",
    "ax2.legend(loc=4)\n",
    "#plt.savefig('./analysis_images/' + title)\n",
    "#plt.close(figure)\n",
    "plt.show()"
   ]
  },
  {
   "cell_type": "markdown",
   "metadata": {},
   "source": [
    "# Write Peak Data to CSV"
   ]
  },
  {
   "cell_type": "code",
   "execution_count": 4,
   "metadata": {},
   "outputs": [],
   "source": [
    "import csv"
   ]
  },
  {
   "cell_type": "code",
   "execution_count": 39,
   "metadata": {
    "scrolled": true
   },
   "outputs": [],
   "source": [
    "with open('./peaks/peaks_' + channel + '.csv', 'w', newline='') as file: \n",
    "    write = csv.writer(file) \n",
    "      \n",
    "    write.writerow(header) \n",
    "    write.writerows(peak_data) "
   ]
  },
  {
   "cell_type": "markdown",
   "metadata": {},
   "source": [
    "# Load Peak Data from CSV"
   ]
  },
  {
   "cell_type": "code",
   "execution_count": 8,
   "metadata": {
    "scrolled": true
   },
   "outputs": [],
   "source": [
    "channel = 'P8'"
   ]
  },
  {
   "cell_type": "code",
   "execution_count": null,
   "metadata": {},
   "outputs": [],
   "source": [
    "peak_path = './peaks/peaks_' + channel + '.csv'\n",
    "peak_data = np.loadtxt(open(peak_path, \"rb\"), delimiter=\",\", skiprows=1, dtype=str)"
   ]
  },
  {
   "cell_type": "code",
   "execution_count": 92,
   "metadata": {},
   "outputs": [],
   "source": [
    "face_intact_peaks = [float(row[1]) for row in peak_data if row[2] == 'face' and row[3] == 'intact']\n",
    "face_scrambled_peaks = [float(row[1]) for row in peak_data if row[2] == 'face' and row[3] == 'scrambled']\n",
    "car_intact_peaks = [float(row[1]) for row in peak_data if row[2] == 'car' and row[3] == 'intact']\n",
    "car_scrambled_peaks = [float(row[1]) for row in peak_data if row[2] == 'car' and row[3] == 'scrambled']"
   ]
  },
  {
   "cell_type": "markdown",
   "metadata": {},
   "source": [
    "# Peak Analysis"
   ]
  },
  {
   "cell_type": "code",
   "execution_count": 4,
   "metadata": {},
   "outputs": [],
   "source": [
    "import scipy.stats as stats"
   ]
  },
  {
   "cell_type": "code",
   "execution_count": 5,
   "metadata": {},
   "outputs": [
    {
     "ename": "NameError",
     "evalue": "name 'face_intact_peaks' is not defined",
     "output_type": "error",
     "traceback": [
      "\u001b[1;31m---------------------------------------------------------------------------\u001b[0m",
      "\u001b[1;31mNameError\u001b[0m                                 Traceback (most recent call last)",
      "\u001b[1;32m<ipython-input-5-a2f9cc520e82>\u001b[0m in \u001b[0;36m<module>\u001b[1;34m\u001b[0m\n\u001b[1;32m----> 1\u001b[1;33m \u001b[0mface_intact_peak_average\u001b[0m \u001b[1;33m=\u001b[0m \u001b[0mnp\u001b[0m\u001b[1;33m.\u001b[0m\u001b[0mmean\u001b[0m\u001b[1;33m(\u001b[0m\u001b[0mface_intact_peaks\u001b[0m\u001b[1;33m)\u001b[0m\u001b[1;33m\u001b[0m\u001b[1;33m\u001b[0m\u001b[0m\n\u001b[0m\u001b[0;32m      2\u001b[0m \u001b[0mface_scrambled_peak_average\u001b[0m \u001b[1;33m=\u001b[0m \u001b[0mnp\u001b[0m\u001b[1;33m.\u001b[0m\u001b[0mmean\u001b[0m\u001b[1;33m(\u001b[0m\u001b[0mface_scrambled_peaks\u001b[0m\u001b[1;33m)\u001b[0m\u001b[1;33m\u001b[0m\u001b[1;33m\u001b[0m\u001b[0m\n\u001b[0;32m      3\u001b[0m \u001b[0mcar_intact_peak_average\u001b[0m \u001b[1;33m=\u001b[0m \u001b[0mnp\u001b[0m\u001b[1;33m.\u001b[0m\u001b[0mmean\u001b[0m\u001b[1;33m(\u001b[0m\u001b[0mcar_intact_peaks\u001b[0m\u001b[1;33m)\u001b[0m\u001b[1;33m\u001b[0m\u001b[1;33m\u001b[0m\u001b[0m\n\u001b[0;32m      4\u001b[0m \u001b[0mcar_scrambled_peak_average\u001b[0m \u001b[1;33m=\u001b[0m \u001b[0mnp\u001b[0m\u001b[1;33m.\u001b[0m\u001b[0mmean\u001b[0m\u001b[1;33m(\u001b[0m\u001b[0mcar_scrambled_peaks\u001b[0m\u001b[1;33m)\u001b[0m\u001b[1;33m\u001b[0m\u001b[1;33m\u001b[0m\u001b[0m\n",
      "\u001b[1;31mNameError\u001b[0m: name 'face_intact_peaks' is not defined"
     ]
    }
   ],
   "source": [
    "face_intact_peak_average = np.mean(face_intact_peaks)\n",
    "face_scrambled_peak_average = np.mean(face_scrambled_peaks)\n",
    "car_intact_peak_average = np.mean(car_intact_peaks)\n",
    "car_scrambled_peak_average = np.mean(car_scrambled_peaks)"
   ]
  },
  {
   "cell_type": "markdown",
   "metadata": {},
   "source": [
    "## 1 Peak Difference"
   ]
  },
  {
   "cell_type": "code",
   "execution_count": 95,
   "metadata": {},
   "outputs": [
    {
     "data": {
      "text/plain": [
       "Ttest_1sampResult(statistic=-0.8642521662767872, pvalue=0.3927340460527827)"
      ]
     },
     "execution_count": 95,
     "metadata": {},
     "output_type": "execute_result"
    }
   ],
   "source": [
    "diff_peak_intact = [face_intact_peaks[i] - car_intact_peaks[i] for i in range(len(face_intact_peaks))]\n",
    "stats.ttest_1samp(a=diff_peak_intact, popmean=0)"
   ]
  },
  {
   "cell_type": "code",
   "execution_count": 96,
   "metadata": {},
   "outputs": [
    {
     "data": {
      "text/plain": [
       "Ttest_1sampResult(statistic=-5.966137385274067, pvalue=5.771382587944369e-07)"
      ]
     },
     "execution_count": 96,
     "metadata": {},
     "output_type": "execute_result"
    }
   ],
   "source": [
    "diff_peak_intact = [face_intact_peaks[i] - face_scrambled_peaks[i] for i in range(len(face_intact_peaks))]\n",
    "stats.ttest_1samp(a=diff_peak_intact, popmean=0)"
   ]
  },
  {
   "cell_type": "code",
   "execution_count": 97,
   "metadata": {},
   "outputs": [
    {
     "data": {
      "text/plain": [
       "Ttest_1sampResult(statistic=-5.089694408046176, pvalue=9.433184784332632e-06)"
      ]
     },
     "execution_count": 97,
     "metadata": {},
     "output_type": "execute_result"
    }
   ],
   "source": [
    "diff_peak_intact = [face_intact_peaks[i] - car_scrambled_peaks[i] for i in range(len(face_intact_peaks))]\n",
    "stats.ttest_1samp(a=diff_peak_intact, popmean=0)"
   ]
  },
  {
   "cell_type": "code",
   "execution_count": 98,
   "metadata": {},
   "outputs": [
    {
     "data": {
      "text/plain": [
       "Ttest_1sampResult(statistic=-4.797756172148262, pvalue=2.365873866669798e-05)"
      ]
     },
     "execution_count": 98,
     "metadata": {},
     "output_type": "execute_result"
    }
   ],
   "source": [
    "diff_peak_intact = [car_intact_peaks[i] - car_scrambled_peaks[i] for i in range(len(face_intact_peaks))]\n",
    "stats.ttest_1samp(a=diff_peak_intact, popmean=0)"
   ]
  },
  {
   "cell_type": "code",
   "execution_count": null,
   "metadata": {},
   "outputs": [],
   "source": []
  },
  {
   "cell_type": "code",
   "execution_count": null,
   "metadata": {},
   "outputs": [],
   "source": []
  }
 ],
 "metadata": {
  "kernelspec": {
   "display_name": "Python 3",
   "language": "python",
   "name": "python3"
  },
  "language_info": {
   "codemirror_mode": {
    "name": "ipython",
    "version": 3
   },
   "file_extension": ".py",
   "mimetype": "text/x-python",
   "name": "python",
   "nbconvert_exporter": "python",
   "pygments_lexer": "ipython3",
   "version": "3.8.3"
  }
 },
 "nbformat": 4,
 "nbformat_minor": 4
}
