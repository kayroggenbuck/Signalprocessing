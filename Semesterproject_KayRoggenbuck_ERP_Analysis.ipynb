{
 "cells": [
  {
   "cell_type": "markdown",
   "metadata": {},
   "source": [
    "# Imports and important variables"
   ]
  },
  {
   "cell_type": "code",
   "execution_count": null,
   "metadata": {
    "scrolled": true
   },
   "outputs": [],
   "source": [
    "import osfclient\n",
    "import mne\n",
    "import mne_bids\n",
    "import numpy as np\n",
    "import ccs_eeg_utils\n",
    "import ccs_eeg_semesterproject\n",
    "from mne_bids import (BIDSPath,read_raw_bids)\n",
    "from matplotlib import pyplot as plt\n",
    "from importlib import reload \n",
    "\n",
    "from helper_functions import *\n",
    "\n",
    "%matplotlib qt\n",
    "path = \"../local/bidsN170\"\n",
    "temp_path = \"/ses-N170/eeg/\""
   ]
  },
  {
   "cell_type": "markdown",
   "metadata": {},
   "source": [
    "# Calculate the Grand Averages and Grand Differences"
   ]
  },
  {
   "cell_type": "code",
   "execution_count": null,
   "metadata": {
    "scrolled": true
   },
   "outputs": [],
   "source": [
    "# lists for the grand averages\n",
    "average_faces_intact = np.zeros(shape=(1127))\n",
    "average_faces_scrambled = np.zeros(shape=(1127))\n",
    "average_cars_intact = np.zeros(shape=(1127))\n",
    "average_cars_scrambled = np.zeros(shape=(1127))\n",
    "\n",
    "# lists for the grand differences\n",
    "difference_if_ic = np.zeros(shape=(1127))\n",
    "difference_if_sf = np.zeros(shape=(1127))\n",
    "difference_if_sc = np.zeros(shape=(1127))\n",
    "difference_if_rest = np.zeros(shape=(1127))\n",
    "\n",
    "# the channel for the calculations\n",
    "channel = 'P8'\n",
    "header = ['Subject_ID', 'Amplitude', 'Stimulus', 'Condition']\n",
    "peak_data = []\n",
    "for s in range(1,41):\n",
    "    if len(str(s)) > 1:\n",
    "        sub = '0' + str(s)\n",
    "    else:\n",
    "        sub = '00' + str(s)\n",
    "    read_path = path + \"/sub-\" + sub + temp_path + \"sub-\" + sub +\"_cleaned.fif\"\n",
    "    raw = mne.io.read_raw_fif(read_path)\n",
    "    \n",
    "    epochs, _ = load_epochs(raw)\n",
    "    epochs.drop_bad()\n",
    "    ep = epochs.copy()\n",
    "    ep.load_data()\n",
    "    ep.pick_channels([channel])\n",
    "    \n",
    "    # extract the different stimuli and conditions\n",
    "    face_normal = ep[[\"stimulus:{}\".format(k) for k in range(1,41)]].average()\n",
    "    car_normal = ep[[\"stimulus:{}\".format(k) for k in range(41,81)]].average()\n",
    "    face_scrambled = ep[[\"stimulus:{}\".format(k) for k in range(101,141)]].average()\n",
    "    car_scrambled = ep[[\"stimulus:{}\".format(k) for k in range(141,181)]].average()\n",
    "    \n",
    "    \n",
    "    \n",
    "    #########################\n",
    "    #differences per subject#\n",
    "    #########################\n",
    "    difference_if_ic = difference_if_ic + (face_normal.data - car_normal.data)\n",
    "    difference_if_sf = difference_if_sf + (face_normal.data - face_scrambled.data)\n",
    "    difference_if_sc = difference_if_sc + (face_normal.data - car_scrambled.data)\n",
    "    difference_if_rest = difference_if_rest + (face_normal.data - car_normal.data - face_scrambled.data - car_scrambled.data)\n",
    "    \n",
    "    \n",
    "    \n",
    "    #######################################\n",
    "    # averages over the different stimuli #\n",
    "    #######################################\n",
    "    average_faces_intact = average_faces_intact + face_normal.data\n",
    "    average_faces_scrambled = average_faces_scrambled + face_scrambled.data\n",
    "    average_cars_intact = average_cars_intact + car_normal.data\n",
    "    average_cars_scrambled = average_cars_scrambled + car_scrambled.data\n",
    "    \n",
    "    # extracts the peak per stimulus and condition between 130ms and 200ms\n",
    "    fn_peak = face_normal.get_peak(tmin=0.13, tmax=0.2, mode='abs', return_amplitude=True)[2]\n",
    "    cn_peak = car_normal.get_peak(tmin=0.13, tmax=0.2, mode='abs', return_amplitude=True)[2]\n",
    "    fs_peak = face_scrambled.get_peak(tmin=0.13, tmax=0.2, mode='abs', return_amplitude=True)[2]\n",
    "    cs_peak = car_scrambled.get_peak(tmin=0.13, tmax=0.2, mode='abs', return_amplitude=True)[2]\n",
    "    \n",
    "    peak_data.append([sub, fn_peak, 'face', 'intact'])\n",
    "    peak_data.append([sub, cn_peak, 'car', 'intact'])\n",
    "    peak_data.append([sub, fs_peak, 'face', 'scrambled'])\n",
    "    peak_data.append([sub, cs_peak, 'car', 'scrambled'])\n",
    "    \n",
    "print('DONE')"
   ]
  },
  {
   "cell_type": "code",
   "execution_count": null,
   "metadata": {},
   "outputs": [],
   "source": [
    "# get the timepoints\n",
    "number_of_datapoints = len(average_faces_intact[0])\n",
    "x = get_timepoints(epoch_start=-0.1, epoch_end=1, number_of_datapoints=number_of_datapoints)"
   ]
  },
  {
   "cell_type": "markdown",
   "metadata": {},
   "source": [
    "# Plot of the grand average"
   ]
  },
  {
   "cell_type": "code",
   "execution_count": null,
   "metadata": {},
   "outputs": [],
   "source": [
    "figure = plt.figure()\n",
    "ax2 = figure.add_subplot(111)\n",
    "title = 'Grand Average_' + channel\n",
    "ax2.set_title('Grand Average ' + channel)\n",
    "ax2.set_xlabel('time[ms]')\n",
    "ax2.set_ylabel('Volt')\n",
    "ax2.plot(x, np.zeros(shape=(number_of_datapoints)), color='black')\n",
    "plt.axvline(x = 0, color = 'black') \n",
    "ax2.plot(x, average_faces_intact[0]/40, color='blue', label='Faces Intact')\n",
    "ax2.plot(x, average_faces_scrambled[0]/40, color='blue', linestyle='--', label='Faces Scrambled')\n",
    "ax2.plot(x, average_cars_intact[0]/40, color='red', label='Cars Intact')\n",
    "ax2.plot(x, average_cars_scrambled[0]/40, color='red',linestyle='--', label='Cars Scrambled')\n",
    "ax2.legend(loc=1)\n",
    "#plt.savefig('./analysis_images/' + title)\n",
    "#plt.close(figure)\n",
    "plt.show()"
   ]
  },
  {
   "cell_type": "markdown",
   "metadata": {},
   "source": [
    "# Plot of the grand differences"
   ]
  },
  {
   "cell_type": "code",
   "execution_count": null,
   "metadata": {},
   "outputs": [],
   "source": [
    "figure = plt.figure()\n",
    "ax2 = figure.add_subplot(111)\n",
    "title = 'Grand Differences_' + channel\n",
    "ax2.set_title('Grand Differences ' + channel)\n",
    "ax2.set_xlabel('time[ms]')\n",
    "ax2.set_ylabel('Volt')\n",
    "ax2.plot(x, difference_if_ic[0]/40, color='red', label='intact faces - intact cars')\n",
    "ax2.plot(x, difference_if_sf[0]/40, color='blue',  label='intact faces - scrambled faces')\n",
    "ax2.plot(x, difference_if_sc[0]/40, color='red',linestyle='--', label='intact faces - scrambled cars')\n",
    "ax2.plot(x, np.zeros(shape=(len(difference_if_ic[0]))), color='black', alpha=0.5)\n",
    "plt.axvline(x = 0, color = 'black', alpha=0.5) \n",
    "ax2.legend(loc=4)\n",
    "#plt.savefig('./analysis_images/' + title)\n",
    "#plt.close(figure)\n",
    "plt.show()"
   ]
  },
  {
   "cell_type": "markdown",
   "metadata": {},
   "source": [
    "# Write Peak Data to CSV"
   ]
  },
  {
   "cell_type": "code",
   "execution_count": null,
   "metadata": {},
   "outputs": [],
   "source": [
    "import csv"
   ]
  },
  {
   "cell_type": "code",
   "execution_count": null,
   "metadata": {
    "scrolled": true
   },
   "outputs": [],
   "source": [
    "# store the peak data\n",
    "with open('./peaks/peaks_' + channel + '.csv', 'w', newline='') as file: \n",
    "    write = csv.writer(file) \n",
    "    write.writerow(header) \n",
    "    write.writerows(peak_data) "
   ]
  },
  {
   "cell_type": "markdown",
   "metadata": {},
   "source": [
    "# Load Peak Data from CSV"
   ]
  },
  {
   "cell_type": "code",
   "execution_count": null,
   "metadata": {
    "scrolled": true
   },
   "outputs": [],
   "source": [
    "# the channel for the calculations\n",
    "channel = 'P8'"
   ]
  },
  {
   "cell_type": "code",
   "execution_count": null,
   "metadata": {},
   "outputs": [],
   "source": [
    "# load the data for the given channel\n",
    "peak_path = './peaks/peaks_' + channel + '.csv'\n",
    "peak_data = np.loadtxt(open(peak_path, \"rb\"), delimiter=\",\", skiprows=1, dtype=str)"
   ]
  },
  {
   "cell_type": "markdown",
   "metadata": {},
   "source": [
    "# Peak Analysis"
   ]
  },
  {
   "cell_type": "code",
   "execution_count": null,
   "metadata": {},
   "outputs": [],
   "source": [
    "import scipy.stats as stats"
   ]
  },
  {
   "cell_type": "code",
   "execution_count": null,
   "metadata": {},
   "outputs": [],
   "source": [
    "# collect the different peaks for the different stimuli\n",
    "face_intact_peaks = [float(row[1]) for row in peak_data if row[2] == 'face' and row[3] == 'intact']\n",
    "face_scrambled_peaks = [float(row[1]) for row in peak_data if row[2] == 'face' and row[3] == 'scrambled']\n",
    "car_intact_peaks = [float(row[1]) for row in peak_data if row[2] == 'car' and row[3] == 'intact']\n",
    "car_scrambled_peaks = [float(row[1]) for row in peak_data if row[2] == 'car' and row[3] == 'scrambled']"
   ]
  },
  {
   "cell_type": "code",
   "execution_count": null,
   "metadata": {},
   "outputs": [],
   "source": [
    "# calculate the average of the different peaks from the different stimuli\n",
    "face_intact_peak_average = np.mean(face_intact_peaks)\n",
    "face_scrambled_peak_average = np.mean(face_scrambled_peaks)\n",
    "car_intact_peak_average = np.mean(car_intact_peaks)\n",
    "car_scrambled_peak_average = np.mean(car_scrambled_peaks)"
   ]
  },
  {
   "cell_type": "markdown",
   "metadata": {},
   "source": [
    "## One Sampled t-Test on the peak differences"
   ]
  },
  {
   "cell_type": "code",
   "execution_count": null,
   "metadata": {},
   "outputs": [],
   "source": [
    "diff_peak_intact = [face_intact_peaks[i] - car_intact_peaks[i] for i in range(len(face_intact_peaks))]\n",
    "stats.ttest_1samp(a=diff_peak_intact, popmean=0)"
   ]
  },
  {
   "cell_type": "code",
   "execution_count": null,
   "metadata": {},
   "outputs": [],
   "source": [
    "diff_peak_intact = [face_intact_peaks[i] - face_scrambled_peaks[i] for i in range(len(face_intact_peaks))]\n",
    "stats.ttest_1samp(a=diff_peak_intact, popmean=0)"
   ]
  },
  {
   "cell_type": "code",
   "execution_count": null,
   "metadata": {},
   "outputs": [],
   "source": [
    "diff_peak_intact = [face_intact_peaks[i] - car_scrambled_peaks[i] for i in range(len(face_intact_peaks))]\n",
    "stats.ttest_1samp(a=diff_peak_intact, popmean=0)"
   ]
  },
  {
   "cell_type": "code",
   "execution_count": null,
   "metadata": {},
   "outputs": [],
   "source": [
    "diff_peak_intact = [car_intact_peaks[i] - car_scrambled_peaks[i] for i in range(len(face_intact_peaks))]\n",
    "stats.ttest_1samp(a=diff_peak_intact, popmean=0)"
   ]
  }
 ],
 "metadata": {
  "kernelspec": {
   "display_name": "Python 3",
   "language": "python",
   "name": "python3"
  },
  "language_info": {
   "codemirror_mode": {
    "name": "ipython",
    "version": 3
   },
   "file_extension": ".py",
   "mimetype": "text/x-python",
   "name": "python",
   "nbconvert_exporter": "python",
   "pygments_lexer": "ipython3",
   "version": "3.8.3"
  }
 },
 "nbformat": 4,
 "nbformat_minor": 4
}
